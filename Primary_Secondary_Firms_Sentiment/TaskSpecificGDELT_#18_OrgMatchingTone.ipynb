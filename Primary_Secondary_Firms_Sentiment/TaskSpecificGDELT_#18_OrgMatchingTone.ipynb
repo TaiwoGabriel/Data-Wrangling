{
 "cells": [
  {
   "cell_type": "code",
   "execution_count": null,
   "id": "3b5db3e6-99eb-4e51-a598-c909195eb89c",
   "metadata": {
    "execution": {
     "iopub.status.idle": "2022-11-15T03:16:09.507088Z"
    },
    "tags": []
   },
   "outputs": [
    {
     "data": {
      "text/html": [
       "<table>\n",
       "<tr><th>ID</th><th>YARN Application ID</th><th>Kind</th><th>State</th><th>Spark UI</th><th>Driver log</th><th>User</th><th>Current session?</th></tr><tr><td>1</td><td>application_1668471767937_0002</td><td>pyspark</td><td>idle</td><td><a target=\"_blank\" href=\"http://ip-172-31-95-196.ec2.internal:20888/proxy/application_1668471767937_0002/\" class=\"emr-proxy-link\" emr-resource=\"j-2Q9JCMVDSK7OI\n",
       "\" application-id=\"application_1668471767937_0002\">Link</a></td><td><a target=\"_blank\" href=\"http://ip-172-31-85-35.ec2.internal:8042/node/containerlogs/container_1668471767937_0002_01_000001/livy\" >Link</a></td><td>None</td><td>✔</td></tr></table>"
      ],
      "text/plain": [
       "<IPython.core.display.HTML object>"
      ]
     },
     "metadata": {},
     "output_type": "display_data"
    },
    {
     "data": {
      "application/vnd.jupyter.widget-view+json": {
       "model_id": "",
       "version_major": 2,
       "version_minor": 0
      },
      "text/plain": [
       "FloatProgress(value=0.0, bar_style='info', description='Progress:', layout=Layout(height='25px', width='50%'),…"
      ]
     },
     "metadata": {},
     "output_type": "display_data"
    },
    {
     "name": "stdout",
     "output_type": "stream",
     "text": [
      "SparkSession available as 'spark'.\n"
     ]
    },
    {
     "data": {
      "application/vnd.jupyter.widget-view+json": {
       "model_id": "",
       "version_major": 2,
       "version_minor": 0
      },
      "text/plain": [
       "FloatProgress(value=0.0, bar_style='info', description='Progress:', layout=Layout(height='25px', width='50%'),…"
      ]
     },
     "metadata": {},
     "output_type": "display_data"
    },
    {
     "name": "stdout",
     "output_type": "stream",
     "text": [
      "Collecting pandas==0.25.1\n",
      "  Using cached https://files.pythonhosted.org/packages/7e/ab/ea76361f9d3e732e114adcd801d2820d5319c23d0ac5482fa3b412db217e/pandas-0.25.1-cp37-cp37m-manylinux1_x86_64.whl\n",
      "Requirement already satisfied: pytz>=2017.2 in /usr/local/lib/python3.7/site-packages (from pandas==0.25.1)\n",
      "Requirement already satisfied: numpy>=1.13.3 in /usr/local/lib64/python3.7/site-packages (from pandas==0.25.1)\n",
      "Collecting python-dateutil>=2.6.1 (from pandas==0.25.1)\n",
      "  Using cached https://files.pythonhosted.org/packages/36/7a/87837f39d0296e723bb9b62bbb257d0355c7f6128853c78955f57342a56d/python_dateutil-2.8.2-py2.py3-none-any.whl\n",
      "Requirement already satisfied: six>=1.5 in /usr/local/lib/python3.7/site-packages (from python-dateutil>=2.6.1->pandas==0.25.1)\n",
      "Installing collected packages: python-dateutil, pandas\n",
      "Successfully installed pandas-0.25.1 python-dateutil-2.8.2\n",
      "\n",
      "Collecting boto3\n",
      "  Using cached https://files.pythonhosted.org/packages/01/21/d71d43fab3c19e30bac8468c01e8fd03e7649f98f068c1e900f293142d5e/boto3-1.26.9-py3-none-any.whl\n",
      "Requirement already satisfied: jmespath<2.0.0,>=0.7.1 in /usr/local/lib/python3.7/site-packages (from boto3)\n",
      "Collecting s3transfer<0.7.0,>=0.6.0 (from boto3)\n",
      "  Using cached https://files.pythonhosted.org/packages/5e/c6/af903b5fab3f9b5b1e883f49a770066314c6dcceb589cf938d48c89556c1/s3transfer-0.6.0-py3-none-any.whl\n",
      "Collecting botocore<1.30.0,>=1.29.9 (from boto3)\n",
      "  Using cached https://files.pythonhosted.org/packages/26/19/8657d085b575f594f96d3b6b0c6113e4bfd30ec7265486ababb5d34cd498/botocore-1.29.9-py3-none-any.whl\n",
      "Collecting urllib3<1.27,>=1.25.4 (from botocore<1.30.0,>=1.29.9->boto3)\n",
      "  Using cached https://files.pythonhosted.org/packages/6f/de/5be2e3eed8426f871b170663333a0f627fc2924cc386cd41be065e7ea870/urllib3-1.26.12-py2.py3-none-any.whl\n",
      "Requirement already satisfied: python-dateutil<3.0.0,>=2.1 in /mnt/tmp/1668482136911-0/lib/python3.7/site-packages (from botocore<1.30.0,>=1.29.9->boto3)\n",
      "Requirement already satisfied: six>=1.5 in /usr/local/lib/python3.7/site-packages (from python-dateutil<3.0.0,>=2.1->botocore<1.30.0,>=1.29.9->boto3)\n",
      "Installing collected packages: urllib3, botocore, s3transfer, boto3\n",
      "Successfully installed boto3-1.26.9 botocore-1.29.9 s3transfer-0.6.0 urllib3-1.26.12\n",
      "\n",
      "Collecting rapidfuzz\n",
      "Installing collected packages: rapidfuzz\n",
      "Successfully installed rapidfuzz-2.13.2\n",
      "\n",
      "You are using pip version 9.0.1, however version 22.3.1 is available.\n",
      "You should consider upgrading via the 'pip install --upgrade pip' command.\n",
      "\n",
      "You are using pip version 9.0.1, however version 22.3.1 is available.\n",
      "You should consider upgrading via the 'pip install --upgrade pip' command.\n",
      "\n",
      "You are using pip version 9.0.1, however version 22.3.1 is available.\n",
      "You should consider upgrading via the 'pip install --upgrade pip' command."
     ]
    }
   ],
   "source": [
    "# sc.list_packages()\n",
    "sc.install_pypi_package(\"pandas==0.25.1\")\n",
    "sc.install_pypi_package(\"boto3\")\n",
    "sc.install_pypi_package(\"rapidfuzz\")"
   ]
  },
  {
   "cell_type": "code",
   "execution_count": 2,
   "id": "74b739d0-c36f-4cbc-8ebd-e6acb10ea9fe",
   "metadata": {
    "execution": {
     "iopub.execute_input": "2022-11-15T03:16:09.508395Z",
     "iopub.status.busy": "2022-11-15T03:16:09.508195Z",
     "iopub.status.idle": "2022-11-15T03:16:09.569342Z",
     "shell.execute_reply": "2022-11-15T03:16:09.568792Z",
     "shell.execute_reply.started": "2022-11-15T03:16:09.508366Z"
    },
    "tags": []
   },
   "outputs": [
    {
     "data": {
      "application/vnd.jupyter.widget-view+json": {
       "model_id": "081485f042d149d3b6ac833f42dcd1d3",
       "version_major": 2,
       "version_minor": 0
      },
      "text/plain": [
       "VBox()"
      ]
     },
     "metadata": {},
     "output_type": "display_data"
    },
    {
     "data": {
      "application/vnd.jupyter.widget-view+json": {
       "model_id": "",
       "version_major": 2,
       "version_minor": 0
      },
      "text/plain": [
       "FloatProgress(value=0.0, bar_style='info', description='Progress:', layout=Layout(height='25px', width='50%'),…"
      ]
     },
     "metadata": {},
     "output_type": "display_data"
    },
    {
     "name": "stdout",
     "output_type": "stream",
     "text": [
      "2048M\n",
      "livy-session-1\n",
      "client\n",
      "None\n",
      "None\n",
      "spark.yarn.executor.memoryOverhead : None\n",
      "spark.sql.shuffle.partitions : None\n",
      "spark.network.timeout : None"
     ]
    }
   ],
   "source": [
    "confs = [\"spark.yarn.executor.memoryOverhead\",\"spark.sql.shuffle.partitions\",\"spark.network.timeout\"]\n",
    "print(sc._conf.get('spark.driver.memory'))\n",
    "print(sc._conf.get('spark.app.name'))\n",
    "print(sc._conf.get('spark.submit.deployMode'))\n",
    "print(sc._conf.get(\"spark.yarn.executor.memoryOverhead\"))\n",
    "print(sc._conf.get(\"spark.sql.files.maxPartitionBytes\"))\n",
    "for conf in confs:\n",
    "    print(conf,\":\",sc._conf.get(conf))"
   ]
  },
  {
   "cell_type": "markdown",
   "id": "69298fe2-a519-49e1-b542-b8d77b70d94a",
   "metadata": {},
   "source": [
    "# Imports"
   ]
  },
  {
   "cell_type": "code",
   "execution_count": 3,
   "id": "ab789e2a-863f-4619-8043-59704f270c82",
   "metadata": {
    "execution": {
     "iopub.execute_input": "2022-11-15T03:16:09.577944Z",
     "iopub.status.busy": "2022-11-15T03:16:09.577753Z",
     "iopub.status.idle": "2022-11-15T03:16:09.837666Z",
     "shell.execute_reply": "2022-11-15T03:16:09.837077Z",
     "shell.execute_reply.started": "2022-11-15T03:16:09.577916Z"
    },
    "tags": []
   },
   "outputs": [
    {
     "data": {
      "application/vnd.jupyter.widget-view+json": {
       "model_id": "367cd7fcc07b42eab03da40424913b61",
       "version_major": 2,
       "version_minor": 0
      },
      "text/plain": [
       "VBox()"
      ]
     },
     "metadata": {},
     "output_type": "display_data"
    },
    {
     "data": {
      "application/vnd.jupyter.widget-view+json": {
       "model_id": "",
       "version_major": 2,
       "version_minor": 0
      },
      "text/plain": [
       "FloatProgress(value=0.0, bar_style='info', description='Progress:', layout=Layout(height='25px', width='50%'),…"
      ]
     },
     "metadata": {},
     "output_type": "display_data"
    }
   ],
   "source": [
    "from pyspark import SparkContext\n",
    "from pyspark.sql import SQLContext\n",
    "from pyspark import SparkConf\n",
    "from pyspark.sql import SparkSession\n",
    "from pyspark.sql.functions import year, month, dayofmonth\n",
    "import boto3\n",
    "import re\n",
    "from pyspark.sql.functions import udf\n",
    "from pyspark.sql.types import StringType, ArrayType, MapType, IntegerType, DoubleType\n",
    "from pyspark.sql.types import *\n",
    "from pyspark.sql import functions as F\n",
    "from collections import Counter\n",
    "import pyspark\n",
    "import rapidfuzz\n",
    "from rapidfuzz import fuzz\n",
    "\n",
    "\n",
    "# import s3fs\n",
    "# import boto3\n",
    "#How to pip install while creation of cluster"
   ]
  },
  {
   "cell_type": "code",
   "execution_count": 4,
   "id": "f58b24e0-067c-4440-950b-e801758bf96c",
   "metadata": {
    "execution": {
     "iopub.execute_input": "2022-11-15T03:16:09.838905Z",
     "iopub.status.busy": "2022-11-15T03:16:09.838619Z",
     "iopub.status.idle": "2022-11-15T03:16:10.603145Z",
     "shell.execute_reply": "2022-11-15T03:16:10.602575Z",
     "shell.execute_reply.started": "2022-11-15T03:16:09.838875Z"
    },
    "tags": []
   },
   "outputs": [
    {
     "data": {
      "application/vnd.jupyter.widget-view+json": {
       "model_id": "41280b4905624fb3b732d51674944f2f",
       "version_major": 2,
       "version_minor": 0
      },
      "text/plain": [
       "VBox()"
      ]
     },
     "metadata": {},
     "output_type": "display_data"
    },
    {
     "data": {
      "application/vnd.jupyter.widget-view+json": {
       "model_id": "",
       "version_major": 2,
       "version_minor": 0
      },
      "text/plain": [
       "FloatProgress(value=0.0, bar_style='info', description='Progress:', layout=Layout(height='25px', width='50%'),…"
      ]
     },
     "metadata": {},
     "output_type": "display_data"
    }
   ],
   "source": [
    "\n",
    "#          .config(\"spark.memory.offHeap.enabled\",\"true\") \\\n",
    "#          .config(\"spark.memory.offHeap.size\",\"10g\") \\\n",
    "# .config(\"spark.submit.deployMode\",\"client\") \\\n",
    "#         .config(\"spark.driver.memory\",\"200g\") \\\n",
    "#         .config(\"spark.executor.memory\",\"50g\") \\\n",
    "#         .config(\"spark.emr.default.executor.memory\", '50g') \\\n",
    "\n",
    "# spark.conf.set(\"spark.sql.shuffle.partitions\",100)\n",
    "\n",
    "#Number of partitions should be equal to or greater than the cores to achieve parallelism\n",
    "# config = pyspark.SparkConf().setAll([('spark.executor.memory', '80'), ('spark.executor.cores', '12'), \\\n",
    "#                                      ('spark.cores.max', '240'), ('spark.driver.memory','300g'), ('spark.sql.shuffle.partitions','80')])\n",
    "# spark.sparkContext.stop()\n",
    "config = pyspark.SparkConf().setAll([('spark.network.timeout', '100800s')]) #, ('spark.executor.cores', '12')])\n",
    "spark = SparkSession.builder.config(conf=config).appName('ProcessingData') \\\n",
    "        .getOrCreate()\n",
    "# spark = SparkSession.builder.getOrCreate()\n",
    "# sc = pyspark.SparkContext.getOrCreate(conf=config)"
   ]
  },
  {
   "cell_type": "markdown",
   "id": "08e400ac-9742-47e3-8ac7-11246f1d63fd",
   "metadata": {},
   "source": [
    "## Task\n",
    "Read data of specific countries. Within them, if any org in any row is a close match to the list of primary or secondary firms then return a one. Groupby with average tone, and count for total, primary, and secondary firms. Groupby level, country, month.\n",
    "\n",
    "Countries:\n",
    "1. Senegal - SG\n",
    "2. Malawi - MI\n",
    "3. Mozambique - MZ\n",
    "\n",
    "Primary Firms:\\\n",
    "Cadila \\\n",
    "Cipla \\\n",
    "Dr. Reddy's \\\n",
    "Ipca \\\n",
    "Lupin / pharma dynamics \\ \n",
    "Maiden \\\n",
    "Orchid \\\n",
    "Panacea Biotech \\\n",
    "Ranbaxy \\\n",
    "Sun \n",
    "\n",
    "Secondary Firms:\\\n",
    "Actiza \\\n",
    "Ajanta Pharma \\\n",
    "Atul \\\n",
    "Aurobindo \\\n",
    "Bal Pharma \\\n",
    "Glenmark \\\n",
    "Global Pharma \\\n",
    "InterMed Pharma \\\n",
    "JoinHub Pharma \\\n",
    "KEC Ltd. \\\n",
    "Kirloskar Bros \\\n",
    "Maan Pharma \\\n",
    "MS Pharma \\\n",
    "Promac \\\n",
    "Pyramid Pharma \\\n",
    "SenegIndia \\\n",
    "XL Laboratories \\ \n",
    "Weefsel Pharma\n"
   ]
  },
  {
   "cell_type": "markdown",
   "id": "f18b7ce6-2e38-49e9-a9d1-8c1deb998b7a",
   "metadata": {},
   "source": [
    "## 1.  Reading Files"
   ]
  },
  {
   "cell_type": "code",
   "execution_count": 5,
   "id": "561d75de-47fc-4d2a-9890-aaf8abf7871d",
   "metadata": {
    "execution": {
     "iopub.execute_input": "2022-11-15T03:16:10.605212Z",
     "iopub.status.busy": "2022-11-15T03:16:10.605012Z",
     "iopub.status.idle": "2022-11-15T03:16:10.662374Z",
     "shell.execute_reply": "2022-11-15T03:16:10.661777Z",
     "shell.execute_reply.started": "2022-11-15T03:16:10.605183Z"
    },
    "tags": []
   },
   "outputs": [
    {
     "data": {
      "application/vnd.jupyter.widget-view+json": {
       "model_id": "dab423f56b5d47f58a325cef34664360",
       "version_major": 2,
       "version_minor": 0
      },
      "text/plain": [
       "VBox()"
      ]
     },
     "metadata": {},
     "output_type": "display_data"
    },
    {
     "data": {
      "application/vnd.jupyter.widget-view+json": {
       "model_id": "",
       "version_major": 2,
       "version_minor": 0
      },
      "text/plain": [
       "FloatProgress(value=0.0, bar_style='info', description='Progress:', layout=Layout(height='25px', width='50%'),…"
      ]
     },
     "metadata": {},
     "output_type": "display_data"
    }
   ],
   "source": [
    "from boto3 import client\n",
    "\n",
    "def return_yearly_parquet_files(year):\n",
    "    print(f\"Return file list for the year: {year}\")\n",
    "    file_list = []\n",
    "    conn = client('s3')  # again assumes boto.cfg setup, assume AWS S3\n",
    "    for key in conn.list_objects(Bucket='kcsra', Prefix = f\"{str(year)} GDELT GKG PG\")['Contents']:\n",
    "        file = \"s3://kcsra/\"+ key['Key']\n",
    "        if \"parquet\" in file:\n",
    "            file_list.append(file)\n",
    "    return file_list\n",
    "\n",
    "def return_correct_file_paths(year_file_list):\n",
    "    print(\"Returning the working parquet files ...\")\n",
    "    correct_file_paths = []\n",
    "    for i,file in enumerate(year_file_list):\n",
    "\n",
    "        try:\n",
    "            df = spark.read.parquet(file)\n",
    "            correct_file_paths.append(file)\n",
    "        except Exception as e:\n",
    "            print(f\"[{str(i+1)}/{len(year_file_list)}]\")\n",
    "            print(\"->ERROR while reading:\")\n",
    "            print(file)\n",
    "            print()\n",
    "    return correct_file_paths\n",
    "\n",
    "def return_df(correct_file_paths, req_cols, grid_id = None ):\n",
    "    print(\"Constructing a dataframe from required file paths\")\n",
    "\n",
    "    df = spark.read.parquet(*correct_file_paths).select(*req_cols).dropDuplicates(['gkgrecordid','GRID_IDs'])\n",
    "    \n",
    "    if grid_id:\n",
    "        print(\"Filter Grid ID:\", grid_id)\n",
    "        df = df.filter(df.GRID_IDs == grid_id)\n",
    "\n",
    "    df = df.withColumn('day',dayofmonth(df.date)).withColumn('month',month(df.date))\n",
    "    print(\"Total rows:\",df.count())\n",
    "    # df.printSchema()\n",
    "    return df\n",
    "\n",
    "def extract_tone(tone_string):\n",
    "    try:\n",
    "        tone_float = float(re.findall(\"tone=(.*?),\",tone_string)[0])\n",
    "        return tone_float\n",
    "    except Exception as e:\n",
    "        print(\"Error extracting tone:\" + str(exception))\n",
    "        print(tone_string)\n",
    "        print(\"=\"*20)\n",
    "        return None\n",
    "    \n",
    "def save_tone_in_new_col(df):\n",
    "    print(\"Saving the tone in a new column\")\n",
    "    extract_tone_udf = udf(extract_tone, DoubleType())\n",
    "    df = df.withColumn('Extracted_tone', extract_tone_udf(df['tone'])).drop(\"tone\").withColumnRenamed(\"Extracted_tone\", \"tone\")\n",
    "    return df\n",
    "\n",
    "@udf(returnType=ArrayType(StringType()))\n",
    "def retrieve_theme_list(themes):\n",
    "    if not themes:\n",
    "        return {}\n",
    "    themes = str(themes)\n",
    "    return list(Counter(re.findall(f\"theme=(.*?),\",themes)).keys())\n",
    "\n",
    "@udf(returnType=ArrayType(StringType())) \n",
    "def retrieve_organization_list(organizations):\n",
    "    if not organizations:\n",
    "        return {}\n",
    "    organizations = str(organizations)\n",
    "    return list(Counter(re.findall(f\"organization=(.*?),\",organizations)).keys())\n",
    "\n",
    "@udf(returnType=StringType())\n",
    "def aggregate_category(category):\n",
    "    super_counter = Counter({})\n",
    "    for row in category:\n",
    "        super_counter += Counter(row)\n",
    "    return \", \".join([f\"{categ[0]}:{categ[1]}\" for categ in super_counter.most_common(20)])\n",
    "\n",
    "\n",
    "def are_strings_similar(target_str, data_str, match_threshold):\n",
    "    target_str, data_str = str(target_str).lower(), str(data_str).lower()\n",
    "    partial_match, sorted_match = fuzz.partial_ratio(target_str, data_str), fuzz.token_sort_ratio(target_str, data_str)\n",
    "\n",
    "    if max(partial_match, sorted_match) >= match_threshold:\n",
    "        # print(max(partial_match, sorted_match))\n",
    "        return True\n",
    "    else:\n",
    "        return False\n",
    "\n",
    "\n",
    "def compare_string_matches_lists(target_list, data_list, match_threshold = 75):\n",
    "    for target_str in target_list:\n",
    "        for data_str in data_list:\n",
    "            if are_strings_similar(target_str, data_str, match_threshold):\n",
    "                # print(\"Match Found\", f\"| {target_str} : {data_str}\")\n",
    "                return 1\n",
    "    return 0\n",
    "\n",
    "\n",
    "def udf_compare_strings_lists(target_list, match_threshold):\n",
    "    return udf(lambda data_list: compare_string_matches_lists(target_list, data_list, match_threshold))"
   ]
  },
  {
   "cell_type": "code",
   "execution_count": 6,
   "id": "59777657-8adc-4467-a1a5-9d8565592bfd",
   "metadata": {
    "execution": {
     "iopub.execute_input": "2022-11-15T03:16:10.663900Z",
     "iopub.status.busy": "2022-11-15T03:16:10.663706Z",
     "iopub.status.idle": "2022-11-15T03:16:10.713899Z",
     "shell.execute_reply": "2022-11-15T03:16:10.713350Z",
     "shell.execute_reply.started": "2022-11-15T03:16:10.663872Z"
    },
    "tags": []
   },
   "outputs": [
    {
     "data": {
      "application/vnd.jupyter.widget-view+json": {
       "model_id": "08cca98c1d91441cbac1a6775c639033",
       "version_major": 2,
       "version_minor": 0
      },
      "text/plain": [
       "VBox()"
      ]
     },
     "metadata": {},
     "output_type": "display_data"
    },
    {
     "data": {
      "application/vnd.jupyter.widget-view+json": {
       "model_id": "",
       "version_major": 2,
       "version_minor": 0
      },
      "text/plain": [
       "FloatProgress(value=0.0, bar_style='info', description='Progress:', layout=Layout(height='25px', width='50%'),…"
      ]
     },
     "metadata": {},
     "output_type": "display_data"
    },
    {
     "name": "stdout",
     "output_type": "stream",
     "text": [
      "True"
     ]
    }
   ],
   "source": [
    "target_str = \"Promac\"\n",
    "data_str = \"promac llc\"\n",
    "match_threshold = 78\n",
    "are_strings_similar(target_str, data_str, match_threshold)"
   ]
  },
  {
   "cell_type": "markdown",
   "id": "00ca0057-e859-49c0-ad89-b628921edc6e",
   "metadata": {},
   "source": [
    "# MAIN"
   ]
  },
  {
   "cell_type": "code",
   "execution_count": 7,
   "id": "bace5273-5e06-4e23-952e-faa3759b5676",
   "metadata": {
    "execution": {
     "iopub.execute_input": "2022-11-15T03:16:10.714983Z",
     "iopub.status.busy": "2022-11-15T03:16:10.714792Z",
     "iopub.status.idle": "2022-11-15T03:16:10.766224Z",
     "shell.execute_reply": "2022-11-15T03:16:10.765628Z",
     "shell.execute_reply.started": "2022-11-15T03:16:10.714955Z"
    },
    "tags": []
   },
   "outputs": [
    {
     "data": {
      "application/vnd.jupyter.widget-view+json": {
       "model_id": "eedb13e05f6247ec91bfb3f7ebb86697",
       "version_major": 2,
       "version_minor": 0
      },
      "text/plain": [
       "VBox()"
      ]
     },
     "metadata": {},
     "output_type": "display_data"
    },
    {
     "data": {
      "application/vnd.jupyter.widget-view+json": {
       "model_id": "",
       "version_major": 2,
       "version_minor": 0
      },
      "text/plain": [
       "FloatProgress(value=0.0, bar_style='info', description='Progress:', layout=Layout(height='25px', width='50%'),…"
      ]
     },
     "metadata": {},
     "output_type": "display_data"
    }
   ],
   "source": [
    "#Collect all the orgs in a list and run the matcher function to label primary and secondary firms"
   ]
  },
  {
   "cell_type": "code",
   "execution_count": 8,
   "id": "73513529-2bc4-42b2-af21-c4ca2d030b2d",
   "metadata": {
    "execution": {
     "iopub.execute_input": "2022-11-15T03:16:10.767240Z",
     "iopub.status.busy": "2022-11-15T03:16:10.767051Z",
     "iopub.status.idle": "2022-11-15T03:16:10.818857Z",
     "shell.execute_reply": "2022-11-15T03:16:10.818310Z",
     "shell.execute_reply.started": "2022-11-15T03:16:10.767212Z"
    },
    "tags": []
   },
   "outputs": [
    {
     "data": {
      "application/vnd.jupyter.widget-view+json": {
       "model_id": "c330c3882ed8442c88390ee34ef7e670",
       "version_major": 2,
       "version_minor": 0
      },
      "text/plain": [
       "VBox()"
      ]
     },
     "metadata": {},
     "output_type": "display_data"
    },
    {
     "data": {
      "application/vnd.jupyter.widget-view+json": {
       "model_id": "",
       "version_major": 2,
       "version_minor": 0
      },
      "text/plain": [
       "FloatProgress(value=0.0, bar_style='info', description='Progress:', layout=Layout(height='25px', width='50%'),…"
      ]
     },
     "metadata": {},
     "output_type": "display_data"
    }
   ],
   "source": [
    "primary_firms = \"\"\"Cadila \n",
    "Cipla \n",
    "Dr. Reddy's \n",
    "Ipca Lab\n",
    "Lupin \n",
    "pharma dynamics \n",
    "Maiden \n",
    "Orchid \n",
    "Panacea Biotech \n",
    "Ranbaxy \n",
    "Sun Pharma\"\"\"\n",
    "\n",
    "secondary_firms = \"\"\"Actiza \n",
    "Ajanta Pharma \n",
    "Atul \n",
    "Aurobindo \n",
    "Bal Pharma \n",
    "Glenmark \n",
    "Global Pharma \n",
    "InterMed Pharma \n",
    "JoinHub Pharma \n",
    "KEC Ltd. \n",
    "Kirloskar Bros \n",
    "Maan Pharma \n",
    "MS Pharma \n",
    "Promac \n",
    "Pyramid Pharma \n",
    "SenegIndia \n",
    "XL Laboratories \n",
    "Weefsel Pharma\"\"\"\n",
    "\n",
    "prim_firm_list = [firm.strip() for firm in primary_firms.split(\"\\n\")]\n",
    "sec_firm_list = [firm.strip() for firm in secondary_firms.split(\"\\n\")]\n"
   ]
  },
  {
   "cell_type": "code",
   "execution_count": 9,
   "id": "2938f28b-27aa-4340-aab7-05d31d62db56",
   "metadata": {
    "execution": {
     "iopub.execute_input": "2022-11-15T03:16:10.819861Z",
     "iopub.status.busy": "2022-11-15T03:16:10.819667Z",
     "iopub.status.idle": "2022-11-15T03:16:10.871663Z",
     "shell.execute_reply": "2022-11-15T03:16:10.871122Z",
     "shell.execute_reply.started": "2022-11-15T03:16:10.819833Z"
    },
    "tags": []
   },
   "outputs": [
    {
     "data": {
      "application/vnd.jupyter.widget-view+json": {
       "model_id": "b589f5693ce84156b0a6586c7aad6119",
       "version_major": 2,
       "version_minor": 0
      },
      "text/plain": [
       "VBox()"
      ]
     },
     "metadata": {},
     "output_type": "display_data"
    },
    {
     "data": {
      "application/vnd.jupyter.widget-view+json": {
       "model_id": "",
       "version_major": 2,
       "version_minor": 0
      },
      "text/plain": [
       "FloatProgress(value=0.0, bar_style='info', description='Progress:', layout=Layout(height='25px', width='50%'),…"
      ]
     },
     "metadata": {},
     "output_type": "display_data"
    }
   ],
   "source": [
    "# match_str = \"\"\"[Google, Ballistic Research Centre, Institute Of Forensic Sciences, Torrent Pharmaceuticals, Bajaj Alliance, Directorate Of Forensic Sciences, Institute Of Behavioral Sciences, Gujarat Forensic Sciences University, Formula Group, Institute Of Research Development, Congress Mp Shashi Tharoor, Telecom Day, Us Central Intelligence Agency, Cadila Pharmaceuticals, Directorate Of Forensic Science Laboratory]\"\"\"\n",
    "\n",
    "# data_list = [x.strip() for x in match_str.strip().strip(\"[\").strip(\"]\").split(\",\")]\n",
    "# compare_string_matches_lists(prim_firm_list, data_list, match_threshold = 75)"
   ]
  },
  {
   "cell_type": "code",
   "execution_count": 12,
   "id": "edaf50a8-e18f-4a33-a206-b19ea87a3eae",
   "metadata": {
    "execution": {
     "iopub.execute_input": "2022-11-15T03:35:02.140919Z",
     "iopub.status.busy": "2022-11-15T03:35:02.140645Z",
     "iopub.status.idle": "2022-11-15T03:52:24.773177Z",
     "shell.execute_reply": "2022-11-15T03:52:24.772577Z",
     "shell.execute_reply.started": "2022-11-15T03:35:02.140886Z"
    },
    "tags": []
   },
   "outputs": [
    {
     "data": {
      "application/vnd.jupyter.widget-view+json": {
       "model_id": "0dcfa1ffbef8464caa57122dd6f24326",
       "version_major": 2,
       "version_minor": 0
      },
      "text/plain": [
       "VBox()"
      ]
     },
     "metadata": {},
     "output_type": "display_data"
    },
    {
     "data": {
      "application/vnd.jupyter.widget-view+json": {
       "model_id": "",
       "version_major": 2,
       "version_minor": 0
      },
      "text/plain": [
       "FloatProgress(value=0.0, bar_style='info', description='Progress:', layout=Layout(height='25px', width='50%'),…"
      ]
     },
     "metadata": {},
     "output_type": "display_data"
    },
    {
     "name": "stdout",
     "output_type": "stream",
     "text": [
      "Country: SG | Year: 2018\n",
      "Return file list for the year: 2018\n",
      "Returning the working parquet files ...\n",
      "Constructing a dataframe from required file paths\n",
      "Total rows: 374941\n",
      "Saving the tone in a new column\n",
      "DataFrame[gkgrecordid: string, date: timestamp, country: string, year: string, GRID_IDs: bigint, organizations: string, day: int, month: int, tone: double]\n",
      "DataFrame[gkgrecordid: string, date: timestamp, country: string, year: string, GRID_IDs: bigint, organizations: string, day: int, month: int, tone: double, Org_list: array<string>]\n",
      "DataFrame[country: string, day: int, month: int, year: string, tone: double, PrimaryFirms: int, SecondaryFirms: int]\n",
      "DataFrame[country: string, day: int, month: int, year: string, tone: double, PrimaryFirms: int, SecondaryFirms: int, PrimaryFirmTone: double, SecondaryFirmTone: double]\n",
      "DataFrame[country: string, month: int, year: string, TotalArticles: bigint, AverageSentiment: double, PrimaryFirms_TotalArticles: bigint, SumPrimaryFirmTone: double, SecondaryFirms_TotalArticles: bigint, SumSecondaryFirmTone: double]\n",
      "=================================================="
     ]
    }
   ],
   "source": [
    "countries = [\"SG\"]#[\"MZ\", \"MI\", \"SG\"]\n",
    "match_threshold = 91\n",
    "req_cols = ['gkgrecordid','date','tone','country', 'year','GRID_IDs', 'organizations']\n",
    "for country in countries:\n",
    "    for year in range(2018, 2019):\n",
    "        print(f\"Country: {country} | Year: {year}\")\n",
    "        file_list = return_yearly_parquet_files(year)\n",
    "        file_list2 = [file for file in file_list if country in file]\n",
    "        correct_file_paths = return_correct_file_paths(file_list2)\n",
    "        df = return_df(correct_file_paths, req_cols)\n",
    "        df = save_tone_in_new_col(df)\n",
    "        df = df.dropna(subset = [\"tone\"])\n",
    "\n",
    "        req_cols_grpby = ['country', 'day', 'month', 'year', 'tone', 'PrimaryFirms', 'SecondaryFirms']\n",
    "        df2 = df.withColumn(\"Org_list\", retrieve_organization_list(F.col(\"organizations\")))\n",
    "        df.unpersist()\n",
    "        df3 = df2.withColumn('PrimaryFirms', udf_compare_strings_lists(prim_firm_list, match_threshold)(F.col(\"Org_list\")).cast(IntegerType()))\\\n",
    "            .withColumn('SecondaryFirms', udf_compare_strings_lists(sec_firm_list, match_threshold)(F.col(\"Org_list\")).cast(IntegerType()))\\\n",
    "            .select(*req_cols_grpby)\n",
    "        df2.unpersist()\n",
    "        df4 = df3.withColumn(\"PrimaryFirmTone\", F.col(\"PrimaryFirms\") * F.col(\"tone\")).withColumn(\"SecondaryFirmTone\", F.col(\"SecondaryFirms\") * F.col(\"tone\"))\n",
    "        df3.unpersist()\n",
    "\n",
    "        aggregation_cols = ['country','month','year']\n",
    "        df5 = df4.groupby(*aggregation_cols).agg(F.count(F.col(\"tone\")).alias('TotalArticles'),\\\n",
    "                                   F.avg('tone').alias('AverageSentiment'),\\\n",
    "                                  F.sum('PrimaryFirms').alias('PrimaryFirms_TotalArticles'),\\\n",
    "                                   F.sum('PrimaryFirmTone').alias('SumPrimaryFirmTone'),\\\n",
    "                                  F.sum('SecondaryFirms').alias('SecondaryFirms_TotalArticles'),\\\n",
    "                                  F.sum('SecondaryFirmTone').alias('SumSecondaryFirmTone'))\n",
    "        df4.unpersist()\n",
    "        df6 = df5.withColumn(\"AverageSentiment_PrimaryFirms\", F.col(\"SumPrimaryFirmTone\")/F.col(\"PrimaryFirms_TotalArticles\"))\\\n",
    "            .withColumn(\"AverageSentiment_SecondaryFirms\", F.col(\"SumSecondaryFirmTone\")/F.col(\"SecondaryFirms_TotalArticles\"))\\\n",
    "            .drop(\"SumPrimaryFirmTone\",\"SumSecondaryFirmTone\").fillna(0)\n",
    "        df5.unpersist()\n",
    "        \n",
    "        df6.repartition(1).write.option(\"header\",True) \\\n",
    "           .csv(f\"s3://shrivats-dev/Tasks/18_Primary_Secondary_Firms_Sentiment/{country}/Monthly/{year}\")     \n",
    "        print(\"=\"*50)\n",
    "        "
   ]
  },
  {
   "cell_type": "markdown",
   "id": "a6321eec-38ad-451d-a971-ccf1cacc59a0",
   "metadata": {
    "execution": {
     "iopub.execute_input": "2022-11-13T23:51:29.605408Z",
     "iopub.status.busy": "2022-11-13T23:51:29.605138Z",
     "iopub.status.idle": "2022-11-13T23:51:29.661693Z",
     "shell.execute_reply": "2022-11-13T23:51:29.661103Z",
     "shell.execute_reply.started": "2022-11-13T23:51:29.605378Z"
    }
   },
   "source": [
    "## Joining Files"
   ]
  },
  {
   "cell_type": "code",
   "execution_count": 13,
   "id": "64ec0be5-e1a3-4d01-959e-526780610e2e",
   "metadata": {
    "execution": {
     "iopub.execute_input": "2022-11-15T03:52:24.774484Z",
     "iopub.status.busy": "2022-11-15T03:52:24.774286Z",
     "iopub.status.idle": "2022-11-15T03:52:32.281494Z",
     "shell.execute_reply": "2022-11-15T03:52:32.280759Z",
     "shell.execute_reply.started": "2022-11-15T03:52:24.774455Z"
    },
    "tags": []
   },
   "outputs": [
    {
     "data": {
      "application/vnd.jupyter.widget-view+json": {
       "model_id": "d5355a852f6a466d89d176a383b9e51b",
       "version_major": 2,
       "version_minor": 0
      },
      "text/plain": [
       "VBox()"
      ]
     },
     "metadata": {},
     "output_type": "display_data"
    },
    {
     "data": {
      "application/vnd.jupyter.widget-view+json": {
       "model_id": "",
       "version_major": 2,
       "version_minor": 0
      },
      "text/plain": [
       "FloatProgress(value=0.0, bar_style='info', description='Progress:', layout=Layout(height='25px', width='50%'),…"
      ]
     },
     "metadata": {},
     "output_type": "display_data"
    }
   ],
   "source": [
    "countries = [\"MZ\", \"MI\", \"SG\"]\n",
    "for country in countries:\n",
    "    df_combined = spark.read.option(\"header\",True) \\\n",
    "               .csv(f\"s3://shrivats-dev/Tasks/18_Primary_Secondary_Firms_Sentiment/{country}/Monthly/*/*.csv\")\n",
    "    df_combined.repartition(1).write.option(\"header\",True) \\\n",
    "               .csv(f\"s3://shrivats-dev/Tasks/18_Primary_Secondary_Firms_Sentiment/{country}/Monthly/AllYears\")    "
   ]
  },
  {
   "cell_type": "code",
   "execution_count": 17,
   "id": "5e28e08a-1406-409d-83ce-cf3bd1f9be4b",
   "metadata": {
    "execution": {
     "iopub.execute_input": "2022-11-15T04:00:14.715188Z",
     "iopub.status.busy": "2022-11-15T04:00:14.714935Z",
     "iopub.status.idle": "2022-11-15T04:00:26.016672Z",
     "shell.execute_reply": "2022-11-15T04:00:26.016064Z",
     "shell.execute_reply.started": "2022-11-15T04:00:14.715156Z"
    },
    "tags": []
   },
   "outputs": [
    {
     "data": {
      "application/vnd.jupyter.widget-view+json": {
       "model_id": "ecc9f4b5590546a3a73ee2798b092fe1",
       "version_major": 2,
       "version_minor": 0
      },
      "text/plain": [
       "VBox()"
      ]
     },
     "metadata": {},
     "output_type": "display_data"
    },
    {
     "data": {
      "application/vnd.jupyter.widget-view+json": {
       "model_id": "",
       "version_major": 2,
       "version_minor": 0
      },
      "text/plain": [
       "FloatProgress(value=0.0, bar_style='info', description='Progress:', layout=Layout(height='25px', width='50%'),…"
      ]
     },
     "metadata": {},
     "output_type": "display_data"
    }
   ],
   "source": [
    "df_combined_all_countries = spark.read.option(\"header\",True) \\\n",
    "               .csv(f\"s3://shrivats-dev/Tasks/18_Primary_Secondary_Firms_Sentiment/*/Monthly/2*/*.csv\")\n",
    "df_combined_all_countries = df_combined_all_countries.withColumn(\"month\", F.col(\"month\").cast(IntegerType()))\n",
    "df_combined_all_countries_sorted = df_combined_all_countries.sort(\"country\",\"year\",\"month\")\n",
    "df_combined_all_countries_sorted.repartition(1).write.option(\"header\",True) \\\n",
    "               .csv(f\"s3://shrivats-dev/Tasks/18_Primary_Secondary_Firms_Sentiment/MZ_MI_SG/Monthly\")  "
   ]
  },
  {
   "cell_type": "code",
   "execution_count": null,
   "id": "5300a7b3-1f44-4a22-9351-8b14a62987b0",
   "metadata": {},
   "outputs": [],
   "source": []
  }
 ],
 "metadata": {
  "kernelspec": {
   "display_name": "PySpark",
   "language": "python",
   "name": "pysparkkernel"
  },
  "language_info": {
   "codemirror_mode": {
    "name": "python",
    "version": 3
   },
   "file_extension": ".py",
   "mimetype": "text/x-python",
   "name": "pyspark",
   "pygments_lexer": "python3"
  }
 },
 "nbformat": 4,
 "nbformat_minor": 5
}
