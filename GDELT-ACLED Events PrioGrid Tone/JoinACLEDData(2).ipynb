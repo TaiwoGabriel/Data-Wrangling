{
 "cells": [
  {
   "cell_type": "code",
   "execution_count": 1,
   "id": "6155d007-42b1-47f5-8323-dff22e0e2b35",
   "metadata": {
    "execution": {
     "iopub.execute_input": "2022-11-05T03:56:33.507021Z",
     "iopub.status.busy": "2022-11-05T03:56:33.506787Z",
     "iopub.status.idle": "2022-11-05T03:57:50.726295Z",
     "shell.execute_reply": "2022-11-05T03:57:50.725709Z",
     "shell.execute_reply.started": "2022-11-05T03:56:33.506991Z"
    },
    "tags": []
   },
   "outputs": [
    {
     "data": {
      "application/vnd.jupyter.widget-view+json": {
       "model_id": "52ddefb9ed084d43a47bf65324d43914",
       "version_major": 2,
       "version_minor": 0
      },
      "text/plain": [
       "VBox()"
      ]
     },
     "metadata": {},
     "output_type": "display_data"
    },
    {
     "name": "stdout",
     "output_type": "stream",
     "text": [
      "Starting Spark application\n"
     ]
    },
    {
     "data": {
      "text/html": [
       "<table>\n",
       "<tr><th>ID</th><th>YARN Application ID</th><th>Kind</th><th>State</th><th>Spark UI</th><th>Driver log</th><th>User</th><th>Current session?</th></tr><tr><td>0</td><td>application_1667620434015_0001</td><td>pyspark</td><td>idle</td><td><a target=\"_blank\" href=\"http://ip-172-31-93-146.ec2.internal:20888/proxy/application_1667620434015_0001/\" class=\"emr-proxy-link\" emr-resource=\"j-2BB6O8P3SORB6\n",
       "\" application-id=\"application_1667620434015_0001\">Link</a></td><td><a target=\"_blank\" href=\"http://ip-172-31-83-9.ec2.internal:8042/node/containerlogs/container_1667620434015_0001_01_000001/livy\" >Link</a></td><td>None</td><td>✔</td></tr></table>"
      ],
      "text/plain": [
       "<IPython.core.display.HTML object>"
      ]
     },
     "metadata": {},
     "output_type": "display_data"
    },
    {
     "data": {
      "application/vnd.jupyter.widget-view+json": {
       "model_id": "",
       "version_major": 2,
       "version_minor": 0
      },
      "text/plain": [
       "FloatProgress(value=0.0, bar_style='info', description='Progress:', layout=Layout(height='25px', width='50%'),…"
      ]
     },
     "metadata": {},
     "output_type": "display_data"
    },
    {
     "name": "stdout",
     "output_type": "stream",
     "text": [
      "SparkSession available as 'spark'.\n"
     ]
    },
    {
     "data": {
      "application/vnd.jupyter.widget-view+json": {
       "model_id": "",
       "version_major": 2,
       "version_minor": 0
      },
      "text/plain": [
       "FloatProgress(value=0.0, bar_style='info', description='Progress:', layout=Layout(height='25px', width='50%'),…"
      ]
     },
     "metadata": {},
     "output_type": "display_data"
    },
    {
     "name": "stdout",
     "output_type": "stream",
     "text": [
      "Collecting pandas==0.25.1\n",
      "  Downloading https://files.pythonhosted.org/packages/7e/ab/ea76361f9d3e732e114adcd801d2820d5319c23d0ac5482fa3b412db217e/pandas-0.25.1-cp37-cp37m-manylinux1_x86_64.whl (10.4MB)\n",
      "Requirement already satisfied: pytz>=2017.2 in /usr/local/lib/python3.7/site-packages (from pandas==0.25.1)\n",
      "Requirement already satisfied: numpy>=1.13.3 in /usr/local/lib64/python3.7/site-packages (from pandas==0.25.1)\n",
      "Collecting python-dateutil>=2.6.1 (from pandas==0.25.1)\n",
      "  Downloading https://files.pythonhosted.org/packages/36/7a/87837f39d0296e723bb9b62bbb257d0355c7f6128853c78955f57342a56d/python_dateutil-2.8.2-py2.py3-none-any.whl (247kB)\n",
      "Requirement already satisfied: six>=1.5 in /usr/local/lib/python3.7/site-packages (from python-dateutil>=2.6.1->pandas==0.25.1)\n",
      "Installing collected packages: python-dateutil, pandas\n",
      "Successfully installed pandas-0.25.1 python-dateutil-2.8.2\n",
      "\n",
      "Collecting boto3\n",
      "  Downloading https://files.pythonhosted.org/packages/89/e3/9de0cacf2bb4003ee96c38e214b68c07aefb95b1f508f8fb9bbce9c6b9c1/boto3-1.26.3-py3-none-any.whl (132kB)\n",
      "Requirement already satisfied: jmespath<2.0.0,>=0.7.1 in /usr/local/lib/python3.7/site-packages (from boto3)\n",
      "Collecting s3transfer<0.7.0,>=0.6.0 (from boto3)\n",
      "  Downloading https://files.pythonhosted.org/packages/5e/c6/af903b5fab3f9b5b1e883f49a770066314c6dcceb589cf938d48c89556c1/s3transfer-0.6.0-py3-none-any.whl (79kB)\n",
      "Collecting botocore<1.30.0,>=1.29.3 (from boto3)\n",
      "  Downloading https://files.pythonhosted.org/packages/7f/f4/4a677851c9808db3fac22b973dcf4e5349a15fb8e9ec2baa5a6c89e2b4cd/botocore-1.29.3-py3-none-any.whl (9.8MB)\n",
      "Collecting urllib3<1.27,>=1.25.4 (from botocore<1.30.0,>=1.29.3->boto3)\n",
      "  Downloading https://files.pythonhosted.org/packages/6f/de/5be2e3eed8426f871b170663333a0f627fc2924cc386cd41be065e7ea870/urllib3-1.26.12-py2.py3-none-any.whl (140kB)\n",
      "Requirement already satisfied: python-dateutil<3.0.0,>=2.1 in /mnt/tmp/1667620634018-0/lib/python3.7/site-packages (from botocore<1.30.0,>=1.29.3->boto3)\n",
      "Requirement already satisfied: six>=1.5 in /usr/local/lib/python3.7/site-packages (from python-dateutil<3.0.0,>=2.1->botocore<1.30.0,>=1.29.3->boto3)\n",
      "Installing collected packages: urllib3, botocore, s3transfer, boto3\n",
      "Successfully installed boto3-1.26.3 botocore-1.29.3 s3transfer-0.6.0 urllib3-1.26.12\n",
      "\n",
      "You are using pip version 9.0.1, however version 22.3 is available.\n",
      "You should consider upgrading via the 'pip install --upgrade pip' command.\n",
      "\n",
      "You are using pip version 9.0.1, however version 22.3 is available.\n",
      "You should consider upgrading via the 'pip install --upgrade pip' command."
     ]
    }
   ],
   "source": [
    "# sc.list_packages()\n",
    "\n",
    "sc.install_pypi_package(\"pandas==0.25.1\")\n",
    "sc.install_pypi_package(\"boto3\")"
   ]
  },
  {
   "cell_type": "code",
   "execution_count": 2,
   "id": "f34922c3-6b95-4f5c-8bdf-0f047b86a5a7",
   "metadata": {
    "execution": {
     "iopub.execute_input": "2022-11-05T03:57:50.727623Z",
     "iopub.status.busy": "2022-11-05T03:57:50.727382Z",
     "iopub.status.idle": "2022-11-05T03:57:50.791330Z",
     "shell.execute_reply": "2022-11-05T03:57:50.790717Z",
     "shell.execute_reply.started": "2022-11-05T03:57:50.727594Z"
    },
    "tags": []
   },
   "outputs": [
    {
     "data": {
      "application/vnd.jupyter.widget-view+json": {
       "model_id": "ecd581d0b9504dfb85fbc82532aebf31",
       "version_major": 2,
       "version_minor": 0
      },
      "text/plain": [
       "VBox()"
      ]
     },
     "metadata": {},
     "output_type": "display_data"
    },
    {
     "data": {
      "application/vnd.jupyter.widget-view+json": {
       "model_id": "",
       "version_major": 2,
       "version_minor": 0
      },
      "text/plain": [
       "FloatProgress(value=0.0, bar_style='info', description='Progress:', layout=Layout(height='25px', width='50%'),…"
      ]
     },
     "metadata": {},
     "output_type": "display_data"
    },
    {
     "name": "stdout",
     "output_type": "stream",
     "text": [
      "2048M\n",
      "livy-session-0\n",
      "client\n",
      "None\n",
      "None\n",
      "spark.yarn.executor.memoryOverhead : None\n",
      "spark.sql.shuffle.partitions : None"
     ]
    }
   ],
   "source": [
    "confs = [\"spark.yarn.executor.memoryOverhead\",\"spark.sql.shuffle.partitions\"]\n",
    "print(sc._conf.get('spark.driver.memory'))\n",
    "print(sc._conf.get('spark.app.name'))\n",
    "print(sc._conf.get('spark.submit.deployMode'))\n",
    "print(sc._conf.get(\"spark.yarn.executor.memoryOverhead\"))\n",
    "print(sc._conf.get(\"spark.sql.files.maxPartitionBytes\"))\n",
    "for conf in confs:\n",
    "    print(conf,\":\",sc._conf.get(conf))"
   ]
  },
  {
   "cell_type": "markdown",
   "id": "2097cb9d-d0b1-4302-89d2-4df0152b53f9",
   "metadata": {},
   "source": [
    "# Imports"
   ]
  },
  {
   "cell_type": "code",
   "execution_count": 3,
   "id": "0e3bbeaa-183e-4c80-b11b-59a0b92c7cd7",
   "metadata": {
    "execution": {
     "iopub.execute_input": "2022-11-05T03:57:50.797030Z",
     "iopub.status.busy": "2022-11-05T03:57:50.796832Z",
     "iopub.status.idle": "2022-11-05T03:57:51.064972Z",
     "shell.execute_reply": "2022-11-05T03:57:51.064300Z",
     "shell.execute_reply.started": "2022-11-05T03:57:50.797003Z"
    },
    "tags": []
   },
   "outputs": [
    {
     "data": {
      "application/vnd.jupyter.widget-view+json": {
       "model_id": "3940105aab09478da5fd368224b400d2",
       "version_major": 2,
       "version_minor": 0
      },
      "text/plain": [
       "VBox()"
      ]
     },
     "metadata": {},
     "output_type": "display_data"
    },
    {
     "data": {
      "application/vnd.jupyter.widget-view+json": {
       "model_id": "",
       "version_major": 2,
       "version_minor": 0
      },
      "text/plain": [
       "FloatProgress(value=0.0, bar_style='info', description='Progress:', layout=Layout(height='25px', width='50%'),…"
      ]
     },
     "metadata": {},
     "output_type": "display_data"
    }
   ],
   "source": [
    "from pyspark import SparkContext\n",
    "from pyspark.sql import SQLContext\n",
    "from pyspark import SparkConf\n",
    "from pyspark.sql import SparkSession\n",
    "from pyspark.sql.functions import year, month, dayofmonth, to_date\n",
    "import boto3\n",
    "import re\n",
    "from pyspark.sql.functions import udf\n",
    "from pyspark.sql.types import StringType, ArrayType, MapType, IntegerType\n",
    "from pyspark.sql.types import *\n",
    "from pyspark.sql import functions as F\n",
    "from collections import Counter\n",
    "import pyspark\n",
    "# import s3fs\n",
    "# import boto3\n",
    "#How to pip install while creation of cluster"
   ]
  },
  {
   "cell_type": "code",
   "execution_count": 4,
   "id": "9a125410-ebd1-4f88-b527-c64ffcf04d24",
   "metadata": {
    "execution": {
     "iopub.execute_input": "2022-11-05T03:57:51.065986Z",
     "iopub.status.busy": "2022-11-05T03:57:51.065795Z",
     "iopub.status.idle": "2022-11-05T03:58:00.388122Z",
     "shell.execute_reply": "2022-11-05T03:58:00.387377Z",
     "shell.execute_reply.started": "2022-11-05T03:57:51.065958Z"
    },
    "tags": []
   },
   "outputs": [
    {
     "data": {
      "application/vnd.jupyter.widget-view+json": {
       "model_id": "02488629b3d9485aba9b1faabb85e179",
       "version_major": 2,
       "version_minor": 0
      },
      "text/plain": [
       "VBox()"
      ]
     },
     "metadata": {},
     "output_type": "display_data"
    },
    {
     "data": {
      "application/vnd.jupyter.widget-view+json": {
       "model_id": "",
       "version_major": 2,
       "version_minor": 0
      },
      "text/plain": [
       "FloatProgress(value=0.0, bar_style='info', description='Progress:', layout=Layout(height='25px', width='50%'),…"
      ]
     },
     "metadata": {},
     "output_type": "display_data"
    }
   ],
   "source": [
    "for year in range(2015,2016):\n",
    "    tone_file_path = f\"s3://shrivats-dev/Tasks/WorldPrioGridTones/Daily/AllThemes/{year}/*.csv\"\n",
    "    df_tone =  spark.read.option(\"header\",True).csv(tone_file_path)"
   ]
  },
  {
   "cell_type": "code",
   "execution_count": 5,
   "id": "ac66de09-0ded-4fc0-8a69-f5b12fbc55f6",
   "metadata": {
    "execution": {
     "iopub.execute_input": "2022-11-03T04:11:40.445970Z",
     "iopub.status.busy": "2022-11-03T04:11:40.445766Z",
     "iopub.status.idle": "2022-11-03T04:11:42.737245Z",
     "shell.execute_reply": "2022-11-03T04:11:42.736325Z",
     "shell.execute_reply.started": "2022-11-03T04:11:40.445941Z"
    },
    "tags": []
   },
   "outputs": [
    {
     "data": {
      "application/vnd.jupyter.widget-view+json": {
       "model_id": "56a3fe59b3d246a6ace0737be487bc9a",
       "version_major": 2,
       "version_minor": 0
      },
      "text/plain": [
       "VBox()"
      ]
     },
     "metadata": {},
     "output_type": "display_data"
    },
    {
     "data": {
      "application/vnd.jupyter.widget-view+json": {
       "model_id": "",
       "version_major": 2,
       "version_minor": 0
      },
      "text/plain": [
       "FloatProgress(value=0.0, bar_style='info', description='Progress:', layout=Layout(height='25px', width='50%'),…"
      ]
     },
     "metadata": {},
     "output_type": "display_data"
    },
    {
     "name": "stdout",
     "output_type": "stream",
     "text": [
      "2876104"
     ]
    }
   ],
   "source": [
    "df_tone.count()\n"
   ]
  },
  {
   "cell_type": "code",
   "execution_count": null,
   "id": "9712b8eb-91d3-4657-8c85-1d4316e3f004",
   "metadata": {},
   "outputs": [],
   "source": []
  },
  {
   "cell_type": "code",
   "execution_count": 6,
   "id": "745304c1-634f-4c60-89de-017a5d6e5989",
   "metadata": {
    "execution": {
     "iopub.execute_input": "2022-11-03T04:11:42.738588Z",
     "iopub.status.busy": "2022-11-03T04:11:42.738326Z",
     "iopub.status.idle": "2022-11-03T04:11:43.179204Z",
     "shell.execute_reply": "2022-11-03T04:11:43.178620Z",
     "shell.execute_reply.started": "2022-11-03T04:11:42.738559Z"
    },
    "tags": []
   },
   "outputs": [
    {
     "data": {
      "application/vnd.jupyter.widget-view+json": {
       "model_id": "4ecf551064fd459fb6742f47405db58c",
       "version_major": 2,
       "version_minor": 0
      },
      "text/plain": [
       "VBox()"
      ]
     },
     "metadata": {},
     "output_type": "display_data"
    },
    {
     "data": {
      "application/vnd.jupyter.widget-view+json": {
       "model_id": "",
       "version_major": 2,
       "version_minor": 0
      },
      "text/plain": [
       "FloatProgress(value=0.0, bar_style='info', description='Progress:', layout=Layout(height='25px', width='50%'),…"
      ]
     },
     "metadata": {},
     "output_type": "display_data"
    },
    {
     "name": "stdout",
     "output_type": "stream",
     "text": [
      "+----+-----+---+--------+-------------------+\n",
      "|year|month|day|GRID_IDs|           tone_avg|\n",
      "+----+-----+---+--------+-------------------+\n",
      "|2015|    9|  4|  117297|-0.0636942675159236|\n",
      "|2015|   11| 25|  143635|   1.70648464163823|\n",
      "|2015|    6|  6|  147319|   3.25925925925926|\n",
      "|2015|    8| 29|  191883|   2.04545454545454|\n",
      "|2015|   10| 19|  185911|-0.9322616726898288|\n",
      "+----+-----+---+--------+-------------------+\n",
      "only showing top 5 rows"
     ]
    }
   ],
   "source": [
    "df_tone.show(5)"
   ]
  },
  {
   "cell_type": "markdown",
   "id": "61b4cf2e-6519-443b-9e9c-bc057c821c94",
   "metadata": {
    "execution": {
     "iopub.execute_input": "2022-10-30T23:35:47.118816Z",
     "iopub.status.busy": "2022-10-30T23:35:47.118594Z",
     "iopub.status.idle": "2022-10-30T23:35:47.167890Z",
     "shell.execute_reply": "2022-10-30T23:35:47.167252Z",
     "shell.execute_reply.started": "2022-10-30T23:35:47.118785Z"
    }
   },
   "source": [
    "### Read Acled Data"
   ]
  },
  {
   "cell_type": "code",
   "execution_count": 62,
   "id": "764ff004-68db-42b5-b1f9-5e86028481e1",
   "metadata": {
    "execution": {
     "iopub.execute_input": "2022-11-03T05:04:24.199607Z",
     "iopub.status.busy": "2022-11-03T05:04:24.199362Z",
     "iopub.status.idle": "2022-11-03T05:04:29.502444Z",
     "shell.execute_reply": "2022-11-03T05:04:29.501837Z",
     "shell.execute_reply.started": "2022-11-03T05:04:24.199576Z"
    },
    "tags": []
   },
   "outputs": [
    {
     "data": {
      "application/vnd.jupyter.widget-view+json": {
       "model_id": "a206809f05724a0da5353a7563f98b02",
       "version_major": 2,
       "version_minor": 0
      },
      "text/plain": [
       "VBox()"
      ]
     },
     "metadata": {},
     "output_type": "display_data"
    },
    {
     "data": {
      "application/vnd.jupyter.widget-view+json": {
       "model_id": "",
       "version_major": 2,
       "version_minor": 0
      },
      "text/plain": [
       "FloatProgress(value=0.0, bar_style='info', description='Progress:', layout=Layout(height='25px', width='50%'),…"
      ]
     },
     "metadata": {},
     "output_type": "display_data"
    },
    {
     "name": "stdout",
     "output_type": "stream",
     "text": [
      "1430515"
     ]
    }
   ],
   "source": [
    "from pyspark.sql.functions import year, month, dayofmonth, to_date\n",
    "df_acled = spark.read.option(\"header\",True).csv(\"s3://shrivats-dev/Data/ACLED/*.csv\").drop(\"year\")\n",
    "df_acled_date = df_acled.select(\"*\",to_date(df_acled.event_date,\"dd MMMM yyyy\").alias(\"date\"))\n",
    "df_acled_date = df_acled_date.withColumn(\"day\",dayofmonth(df_acled_date.date))\\\n",
    "    .withColumn(\"month\",month(df_acled_date.date))\\\n",
    "    .withColumn(\"year\",year(df_acled_date.date))\\\n",
    "    .withColumn(\"GRID_IDs\", df_acled_date['PRIO GRID ID']).drop('PRIO GRID ID')\n",
    "# df_acled_date.show(5)\n",
    "print(df_acled_date.count())"
   ]
  },
  {
   "cell_type": "code",
   "execution_count": 64,
   "id": "1c85efc1-6be6-4a6f-bbee-95af8d5d55f0",
   "metadata": {
    "execution": {
     "iopub.execute_input": "2022-11-03T05:04:37.009658Z",
     "iopub.status.busy": "2022-11-03T05:04:37.009393Z",
     "iopub.status.idle": "2022-11-03T05:04:37.275038Z",
     "shell.execute_reply": "2022-11-03T05:04:37.274187Z",
     "shell.execute_reply.started": "2022-11-03T05:04:37.009626Z"
    },
    "tags": []
   },
   "outputs": [
    {
     "data": {
      "application/vnd.jupyter.widget-view+json": {
       "model_id": "8c27cce7b3fe446d9c82661a188acfe4",
       "version_major": 2,
       "version_minor": 0
      },
      "text/plain": [
       "VBox()"
      ]
     },
     "metadata": {},
     "output_type": "display_data"
    },
    {
     "data": {
      "application/vnd.jupyter.widget-view+json": {
       "model_id": "",
       "version_major": 2,
       "version_minor": 0
      },
      "text/plain": [
       "FloatProgress(value=0.0, bar_style='info', description='Progress:', layout=Layout(height='25px', width='50%'),…"
      ]
     },
     "metadata": {},
     "output_type": "display_data"
    }
   ],
   "source": [
    "req_cols = [\"day\",\"month\",\"year\",\"GRID_IDs\"]\n",
    "df_acled_date_group_counts = df_acled_date.select(*req_cols).groupBy(*req_cols).count()"
   ]
  },
  {
   "cell_type": "markdown",
   "id": "40c6f9a7-5e61-4ed1-b9ea-ec75de0bfc88",
   "metadata": {},
   "source": [
    "## Joining GDELT Tone and ACLED data"
   ]
  },
  {
   "cell_type": "code",
   "execution_count": 65,
   "id": "0b60362b-9b29-4a8c-842d-cdfa6b2a8409",
   "metadata": {
    "execution": {
     "iopub.execute_input": "2022-11-03T05:04:55.914770Z",
     "iopub.status.busy": "2022-11-03T05:04:55.914498Z",
     "iopub.status.idle": "2022-11-03T05:04:55.974806Z",
     "shell.execute_reply": "2022-11-03T05:04:55.974171Z",
     "shell.execute_reply.started": "2022-11-03T05:04:55.914738Z"
    },
    "tags": []
   },
   "outputs": [
    {
     "data": {
      "application/vnd.jupyter.widget-view+json": {
       "model_id": "6778feb2c32e4b849dd21f6cade3a8f0",
       "version_major": 2,
       "version_minor": 0
      },
      "text/plain": [
       "VBox()"
      ]
     },
     "metadata": {},
     "output_type": "display_data"
    },
    {
     "data": {
      "application/vnd.jupyter.widget-view+json": {
       "model_id": "",
       "version_major": 2,
       "version_minor": 0
      },
      "text/plain": [
       "FloatProgress(value=0.0, bar_style='info', description='Progress:', layout=Layout(height='25px', width='50%'),…"
      ]
     },
     "metadata": {},
     "output_type": "display_data"
    },
    {
     "name": "stdout",
     "output_type": "stream",
     "text": [
      "root\n",
      " |-- day: integer (nullable = true)\n",
      " |-- month: integer (nullable = true)\n",
      " |-- year: integer (nullable = true)\n",
      " |-- GRID_IDs: string (nullable = true)\n",
      " |-- count: long (nullable = false)"
     ]
    }
   ],
   "source": [
    "df_acled_date_group_counts.printSchema()"
   ]
  },
  {
   "cell_type": "code",
   "execution_count": 66,
   "id": "4fda6201-87ee-4a7d-855d-64d9bd50392a",
   "metadata": {
    "execution": {
     "iopub.execute_input": "2022-11-03T05:05:00.814249Z",
     "iopub.status.busy": "2022-11-03T05:05:00.813997Z",
     "iopub.status.idle": "2022-11-03T05:05:00.884577Z",
     "shell.execute_reply": "2022-11-03T05:05:00.883891Z",
     "shell.execute_reply.started": "2022-11-03T05:05:00.814219Z"
    },
    "tags": []
   },
   "outputs": [
    {
     "data": {
      "application/vnd.jupyter.widget-view+json": {
       "model_id": "a311439f9f8c47ac80a1e7023a2801ac",
       "version_major": 2,
       "version_minor": 0
      },
      "text/plain": [
       "VBox()"
      ]
     },
     "metadata": {},
     "output_type": "display_data"
    },
    {
     "data": {
      "application/vnd.jupyter.widget-view+json": {
       "model_id": "",
       "version_major": 2,
       "version_minor": 0
      },
      "text/plain": [
       "FloatProgress(value=0.0, bar_style='info', description='Progress:', layout=Layout(height='25px', width='50%'),…"
      ]
     },
     "metadata": {},
     "output_type": "display_data"
    }
   ],
   "source": [
    "for col_name in df_tone.columns:\n",
    "    df_tone = df_tone.withColumn(col_name, df_tone[col_name].cast(\"double\"))"
   ]
  },
  {
   "cell_type": "code",
   "execution_count": 77,
   "id": "a658f1f3-36ec-4c83-b248-689c590e6515",
   "metadata": {
    "execution": {
     "iopub.execute_input": "2022-11-03T05:07:47.161884Z",
     "iopub.status.busy": "2022-11-03T05:07:47.161631Z",
     "iopub.status.idle": "2022-11-03T05:08:06.489493Z",
     "shell.execute_reply": "2022-11-03T05:08:06.488862Z",
     "shell.execute_reply.started": "2022-11-03T05:07:47.161853Z"
    },
    "tags": []
   },
   "outputs": [
    {
     "data": {
      "application/vnd.jupyter.widget-view+json": {
       "model_id": "64c4dc7563e74ade9041c430caa8e1c4",
       "version_major": 2,
       "version_minor": 0
      },
      "text/plain": [
       "VBox()"
      ]
     },
     "metadata": {},
     "output_type": "display_data"
    },
    {
     "data": {
      "application/vnd.jupyter.widget-view+json": {
       "model_id": "",
       "version_major": 2,
       "version_minor": 0
      },
      "text/plain": [
       "FloatProgress(value=0.0, bar_style='info', description='Progress:', layout=Layout(height='25px', width='50%'),…"
      ]
     },
     "metadata": {},
     "output_type": "display_data"
    },
    {
     "name": "stdout",
     "output_type": "stream",
     "text": [
      "root\n",
      " |-- day: double (nullable = true)\n",
      " |-- month: double (nullable = true)\n",
      " |-- year: double (nullable = true)\n",
      " |-- GRID_IDs: double (nullable = true)\n",
      " |-- count: double (nullable = false)\n",
      "\n",
      "+----+-----+------+--------+-----+\n",
      "| day|month|  year|GRID_IDs|count|\n",
      "+----+-----+------+--------+-----+\n",
      "|12.0|  5.0|2022.0|181360.0|  2.0|\n",
      "| 9.0|  5.0|2022.0|145800.0|  1.0|\n",
      "| 9.0|  5.0|2022.0|179722.0|  1.0|\n",
      "| 5.0|  5.0|2022.0|191875.0|  1.0|\n",
      "| 1.0|  5.0|2022.0|163986.0|  1.0|\n",
      "+----+-----+------+--------+-----+\n",
      "only showing top 5 rows"
     ]
    }
   ],
   "source": [
    "for col_name in df_acled_date_group_counts.columns:\n",
    "    df_acled_date_group_counts = df_acled_date_group_counts.withColumn(col_name, df_acled_date_group_counts[col_name].cast(\"double\"))\n",
    "df_acled_date_group_counts.printSchema()\n",
    "df_acled_date_group_counts.show(5)"
   ]
  },
  {
   "cell_type": "code",
   "execution_count": 125,
   "id": "c8516ba6-900e-4e01-9a6f-9a792b84edf9",
   "metadata": {
    "execution": {
     "iopub.execute_input": "2022-11-03T05:52:05.642419Z",
     "iopub.status.busy": "2022-11-03T05:52:05.642098Z",
     "iopub.status.idle": "2022-11-03T05:55:15.708494Z",
     "shell.execute_reply": "2022-11-03T05:55:15.707807Z",
     "shell.execute_reply.started": "2022-11-03T05:52:05.642359Z"
    },
    "tags": []
   },
   "outputs": [
    {
     "data": {
      "application/vnd.jupyter.widget-view+json": {
       "model_id": "9a7a7fbdad914112b3becfd971e8acfa",
       "version_major": 2,
       "version_minor": 0
      },
      "text/plain": [
       "VBox()"
      ]
     },
     "metadata": {},
     "output_type": "display_data"
    },
    {
     "data": {
      "application/vnd.jupyter.widget-view+json": {
       "model_id": "",
       "version_major": 2,
       "version_minor": 0
      },
      "text/plain": [
       "FloatProgress(value=0.0, bar_style='info', description='Progress:', layout=Layout(height='25px', width='50%'),…"
      ]
     },
     "metadata": {},
     "output_type": "display_data"
    },
    {
     "name": "stdout",
     "output_type": "stream",
     "text": [
      "Count: 2851809\n",
      "Distinct Prio Grids: 35998\n",
      "================================================== \n",
      "\n",
      "Count: 3260044\n",
      "Distinct Prio Grids: 36648\n",
      "================================================== \n",
      "\n",
      "Count: 2918212\n",
      "Distinct Prio Grids: 35535\n",
      "================================================== \n",
      "\n",
      "Count: 3131488\n",
      "Distinct Prio Grids: 35989\n",
      "================================================== \n",
      "\n",
      "Count: 2978645\n",
      "Distinct Prio Grids: 35616\n",
      "================================================== \n",
      "\n",
      "Count: 2577291\n",
      "Distinct Prio Grids: 34411\n",
      "================================================== \n",
      "\n",
      "Count: 2470864\n",
      "Distinct Prio Grids: 34118\n",
      "================================================== \n",
      "\n",
      "Count: 1399427\n",
      "Distinct Prio Grids: 31418\n",
      "=================================================="
     ]
    }
   ],
   "source": [
    "for year in range(2015,2023):\n",
    "    tone_file_path = f\"s3://shrivats-dev/Tasks/WorldPrioGridTones/Daily/AllThemes/{year}/*.csv\"\n",
    "    df_tone =  spark.read.option(\"header\",True).csv(tone_file_path)\n",
    "    df_acled_tone = df_tone.join(df_acled_date_group_counts, [*req_cols] ,\"left\").fillna(0, subset=['count']).na.drop()\n",
    "    print(\"Count:\", df_acled_tone.count())\n",
    "    print(\"Distinct Prio Grids:\", df_acled_tone.select(\"GRID_IDs\").distinct().count())\n",
    "    df_acled_tone = df_acled_tone.withColumn(\"Acled Event\",df_acled_tone['count']).drop(\"count\")\n",
    "    df_acled_tone.repartition(1).write.option(\"header\",True) \\\n",
    "           .csv(f\"s3://shrivats-dev/Tasks/GDelt_PrioGrid_Acled_Events/{year}\")\n",
    "    print(\"=\"*50,\"\\n\")\n"
   ]
  },
  {
   "cell_type": "code",
   "execution_count": 126,
   "id": "0d82d048-0641-4c5c-b37f-76fa71bc7110",
   "metadata": {
    "execution": {
     "iopub.execute_input": "2022-11-03T05:55:15.709737Z",
     "iopub.status.busy": "2022-11-03T05:55:15.709539Z",
     "iopub.status.idle": "2022-11-03T05:55:18.078967Z",
     "shell.execute_reply": "2022-11-03T05:55:18.078243Z",
     "shell.execute_reply.started": "2022-11-03T05:55:15.709709Z"
    },
    "tags": []
   },
   "outputs": [
    {
     "data": {
      "application/vnd.jupyter.widget-view+json": {
       "model_id": "54a5515113424c5f8f148202898246af",
       "version_major": 2,
       "version_minor": 0
      },
      "text/plain": [
       "VBox()"
      ]
     },
     "metadata": {},
     "output_type": "display_data"
    },
    {
     "data": {
      "application/vnd.jupyter.widget-view+json": {
       "model_id": "",
       "version_major": 2,
       "version_minor": 0
      },
      "text/plain": [
       "FloatProgress(value=0.0, bar_style='info', description='Progress:', layout=Layout(height='25px', width='50%'),…"
      ]
     },
     "metadata": {},
     "output_type": "display_data"
    },
    {
     "name": "stdout",
     "output_type": "stream",
     "text": [
      "+---+-----+----+--------+-----------------+-----------+\n",
      "|day|month|year|GRID_IDs|         tone_avg|Acled Event|\n",
      "+---+-----+----+--------+-----------------+-----------+\n",
      "| 21|    2|2022|  199156|-5.18041947792422|       24.0|\n",
      "| 18|    2|2022|  199156|-4.38555743243243|       24.0|\n",
      "| 20|    2|2022|  199156| -3.6326295900764|       27.0|\n",
      "+---+-----+----+--------+-----------------+-----------+"
     ]
    }
   ],
   "source": [
    "df_acled_op =  spark.read.option(\"header\",True).csv(f\"s3://shrivats-dev/Tasks/GDelt_PrioGrid_Acled_Events/{year}\")\n",
    "df_acled_op.where(df_acled_op['Acled Event'].between(24,100)).show()"
   ]
  },
  {
   "cell_type": "code",
   "execution_count": 127,
   "id": "035e507d-6cbe-4163-895d-24ccf7065323",
   "metadata": {
    "execution": {
     "iopub.execute_input": "2022-11-03T05:55:18.080395Z",
     "iopub.status.busy": "2022-11-03T05:55:18.080198Z",
     "iopub.status.idle": "2022-11-03T05:55:18.822707Z",
     "shell.execute_reply": "2022-11-03T05:55:18.821753Z",
     "shell.execute_reply.started": "2022-11-03T05:55:18.080367Z"
    },
    "tags": []
   },
   "outputs": [
    {
     "data": {
      "application/vnd.jupyter.widget-view+json": {
       "model_id": "cbcee915a47d4ae49b0abcb4b0af8fb7",
       "version_major": 2,
       "version_minor": 0
      },
      "text/plain": [
       "VBox()"
      ]
     },
     "metadata": {},
     "output_type": "display_data"
    },
    {
     "data": {
      "application/vnd.jupyter.widget-view+json": {
       "model_id": "",
       "version_major": 2,
       "version_minor": 0
      },
      "text/plain": [
       "FloatProgress(value=0.0, bar_style='info', description='Progress:', layout=Layout(height='25px', width='50%'),…"
      ]
     },
     "metadata": {},
     "output_type": "display_data"
    },
    {
     "name": "stdout",
     "output_type": "stream",
     "text": [
      "+---+-----+----+--------+--------------------+-----------+\n",
      "|day|month|year|GRID_IDs|            tone_avg|Acled Event|\n",
      "+---+-----+----+--------+--------------------+-----------+\n",
      "|  1|    1|2022|   74095| -1.9749452354874062|        0.0|\n",
      "|  1|    1|2022|   78005|  0.9393776542649018|        0.0|\n",
      "|  1|    1|2022|   79118|  -2.868747920233297|        0.0|\n",
      "|  1|    1|2022|   79189|  1.5171612357967874|        0.0|\n",
      "|  1|    1|2022|   81579|-0.39616665258341255|        0.0|\n",
      "|  1|    1|2022|   81957|    1.11576011157601|        0.0|\n",
      "|  1|    1|2022|   89228| -1.0595781812602871|        0.0|\n",
      "|  1|    1|2022|   89696|    -2.8633171258779|        0.0|\n",
      "|  1|    1|2022|   92107|-0.21223171195174229|        0.0|\n",
      "|  1|    1|2022|   95307|  0.3430558943774452|        0.0|\n",
      "|  1|    1|2022|   96182|   -6.71140939597315|        0.0|\n",
      "|  1|    1|2022|  101221|   -1.07913669064748|        0.0|\n",
      "|  1|    1|2022|  101936|    2.37730061349693|        0.0|\n",
      "|  1|    1|2022|  101940|  -5.836621646188215|        0.0|\n",
      "|  1|    1|2022|  104821| -1.6604302116219918|        0.0|\n",
      "|  1|    1|2022|  105544|   -1.67597765363128|        0.0|\n",
      "|  1|    1|2022|  106270|  -1.338314080026785|        0.0|\n",
      "|  1|    1|2022|  108943|    3.36099585062241|        0.0|\n",
      "|  1|    1|2022|  112530|   0.840336134453782|        0.0|\n",
      "|  1|    1|2022|  116342|   -5.15021459227468|        0.0|\n",
      "+---+-----+----+--------+--------------------+-----------+\n",
      "only showing top 20 rows"
     ]
    }
   ],
   "source": [
    "df_acled_op.show()"
   ]
  },
  {
   "cell_type": "markdown",
   "id": "82b0696c-8806-492d-8b4c-6364320268f8",
   "metadata": {},
   "source": [
    "## Summarizing Latin America Prio Grids"
   ]
  },
  {
   "cell_type": "code",
   "execution_count": 56,
   "id": "193b05af-0e2a-440f-8a06-19009e4a1258",
   "metadata": {
    "execution": {
     "iopub.execute_input": "2022-11-05T04:15:23.628306Z",
     "iopub.status.busy": "2022-11-05T04:15:23.628065Z",
     "iopub.status.idle": "2022-11-05T04:15:23.682763Z",
     "shell.execute_reply": "2022-11-05T04:15:23.682180Z",
     "shell.execute_reply.started": "2022-11-05T04:15:23.628276Z"
    },
    "tags": []
   },
   "outputs": [
    {
     "data": {
      "application/vnd.jupyter.widget-view+json": {
       "model_id": "c35cd072359745d98bfd8ba37b406d54",
       "version_major": 2,
       "version_minor": 0
      },
      "text/plain": [
       "VBox()"
      ]
     },
     "metadata": {},
     "output_type": "display_data"
    },
    {
     "data": {
      "application/vnd.jupyter.widget-view+json": {
       "model_id": "",
       "version_major": 2,
       "version_minor": 0
      },
      "text/plain": [
       "FloatProgress(value=0.0, bar_style='info', description='Progress:', layout=Layout(height='25px', width='50%'),…"
      ]
     },
     "metadata": {},
     "output_type": "display_data"
    }
   ],
   "source": [
    "#Helper Functions\n",
    "\n",
    "#For checking whether the two dataframes are close in number of prio grids\n",
    "def isClose(num1, num2, thresh):\n",
    "    diff = abs(num2-num1)\n",
    "    max_num = max(num1, num2)\n",
    "    \n",
    "    if diff/max_num <= thresh:\n",
    "        print(f\"Close enough. Differ by {round((diff/max_num) * 100, 3)}%\")\n",
    "        return True\n",
    "    else:\n",
    "        print(f\"Not close enough. The difference is {round((diff/max_num) * 100, 3)}%\")\n",
    "        return False"
   ]
  },
  {
   "cell_type": "code",
   "execution_count": 36,
   "id": "74c303a8-d536-4825-a471-e795b2f172a5",
   "metadata": {
    "execution": {
     "iopub.execute_input": "2022-11-05T04:07:16.249063Z",
     "iopub.status.busy": "2022-11-05T04:07:16.248812Z",
     "iopub.status.idle": "2022-11-05T04:07:19.543202Z",
     "shell.execute_reply": "2022-11-05T04:07:19.542624Z",
     "shell.execute_reply.started": "2022-11-05T04:07:16.249033Z"
    },
    "tags": []
   },
   "outputs": [
    {
     "data": {
      "application/vnd.jupyter.widget-view+json": {
       "model_id": "c4c8b6bae10e45378c0b21f373f7f29d",
       "version_major": 2,
       "version_minor": 0
      },
      "text/plain": [
       "VBox()"
      ]
     },
     "metadata": {},
     "output_type": "display_data"
    },
    {
     "data": {
      "application/vnd.jupyter.widget-view+json": {
       "model_id": "",
       "version_major": 2,
       "version_minor": 0
      },
      "text/plain": [
       "FloatProgress(value=0.0, bar_style='info', description='Progress:', layout=Layout(height='25px', width='50%'),…"
      ]
     },
     "metadata": {},
     "output_type": "display_data"
    }
   ],
   "source": [
    "df_regions = spark.read.option(\"header\",True).csv(\"s3://shrivats-dev/Data/ACLED/prio grid to region.csv\")\n",
    "req_region = \"Latin America & Caribbean\"\n",
    "df_req_region = df_regions[df_regions.region == \"Latin America & Caribbean\"]\n",
    "req_prio_grids = [x['priogrid'] for x in df_req_region.select(\"priogrid\").collect()]"
   ]
  },
  {
   "cell_type": "code",
   "execution_count": 31,
   "id": "8c774a09-19b2-4346-aad6-c6a66cc12e52",
   "metadata": {
    "execution": {
     "iopub.execute_input": "2022-11-05T04:06:32.798782Z",
     "iopub.status.busy": "2022-11-05T04:06:32.798520Z",
     "iopub.status.idle": "2022-11-05T04:06:42.104624Z",
     "shell.execute_reply": "2022-11-05T04:06:42.103953Z",
     "shell.execute_reply.started": "2022-11-05T04:06:32.798751Z"
    },
    "tags": []
   },
   "outputs": [
    {
     "data": {
      "application/vnd.jupyter.widget-view+json": {
       "model_id": "634a8c3b75804da3b4e829fbc4415aad",
       "version_major": 2,
       "version_minor": 0
      },
      "text/plain": [
       "VBox()"
      ]
     },
     "metadata": {},
     "output_type": "display_data"
    },
    {
     "data": {
      "application/vnd.jupyter.widget-view+json": {
       "model_id": "",
       "version_major": 2,
       "version_minor": 0
      },
      "text/plain": [
       "FloatProgress(value=0.0, bar_style='info', description='Progress:', layout=Layout(height='25px', width='50%'),…"
      ]
     },
     "metadata": {},
     "output_type": "display_data"
    }
   ],
   "source": [
    "df_gdelt_acled =  spark.read.option(\"header\",True).csv(f\"s3://shrivats-dev/Tasks/GDelt_PrioGrid_Acled_Events/*\")\n",
    "df_gdelt_acled.count()"
   ]
  },
  {
   "cell_type": "code",
   "execution_count": 58,
   "id": "1797021e-1e77-4482-b6b1-d566576c8096",
   "metadata": {
    "execution": {
     "iopub.execute_input": "2022-11-05T04:17:04.597577Z",
     "iopub.status.busy": "2022-11-05T04:17:04.597306Z",
     "iopub.status.idle": "2022-11-05T04:17:35.975625Z",
     "shell.execute_reply": "2022-11-05T04:17:35.974894Z",
     "shell.execute_reply.started": "2022-11-05T04:17:04.597546Z"
    },
    "tags": []
   },
   "outputs": [
    {
     "data": {
      "application/vnd.jupyter.widget-view+json": {
       "model_id": "41abe37189e74753884396d340811265",
       "version_major": 2,
       "version_minor": 0
      },
      "text/plain": [
       "VBox()"
      ]
     },
     "metadata": {},
     "output_type": "display_data"
    },
    {
     "data": {
      "application/vnd.jupyter.widget-view+json": {
       "model_id": "",
       "version_major": 2,
       "version_minor": 0
      },
      "text/plain": [
       "FloatProgress(value=0.0, bar_style='info', description='Progress:', layout=Layout(height='25px', width='50%'),…"
      ]
     },
     "metadata": {},
     "output_type": "display_data"
    },
    {
     "name": "stdout",
     "output_type": "stream",
     "text": [
      "Close enough. Differ by 26.374%\n",
      "True"
     ]
    }
   ],
   "source": [
    "df_acled_req_region = df_gdelt_acled[df_gdelt_acled['GRID_IDs'].isin(req_prio_grids)]\n",
    "\n",
    "isClose(df_acled_req_region.select(\"GRID_IDs\").distinct().count() ,len(req_prio_grids), .3)"
   ]
  },
  {
   "cell_type": "code",
   "execution_count": 81,
   "id": "b162433e-0f89-4c54-bee2-f12fe4e5d8a9",
   "metadata": {
    "execution": {
     "iopub.execute_input": "2022-11-05T04:28:43.177354Z",
     "iopub.status.busy": "2022-11-05T04:28:43.177110Z",
     "iopub.status.idle": "2022-11-05T04:28:43.438957Z",
     "shell.execute_reply": "2022-11-05T04:28:43.438307Z",
     "shell.execute_reply.started": "2022-11-05T04:28:43.177325Z"
    },
    "tags": []
   },
   "outputs": [
    {
     "data": {
      "application/vnd.jupyter.widget-view+json": {
       "model_id": "42525c29c8e6474d987c3699b98b871d",
       "version_major": 2,
       "version_minor": 0
      },
      "text/plain": [
       "VBox()"
      ]
     },
     "metadata": {},
     "output_type": "display_data"
    },
    {
     "data": {
      "application/vnd.jupyter.widget-view+json": {
       "model_id": "",
       "version_major": 2,
       "version_minor": 0
      },
      "text/plain": [
       "FloatProgress(value=0.0, bar_style='info', description='Progress:', layout=Layout(height='25px', width='50%'),…"
      ]
     },
     "metadata": {},
     "output_type": "display_data"
    }
   ],
   "source": [
    "#Converting all values to float\n",
    "for column in df_acled_req_region.columns:\n",
    "    df_acled_req_region = df_acled_req_region.withColumn(column, df_acled_req_region[column].cast(\"double\"))"
   ]
  },
  {
   "cell_type": "code",
   "execution_count": 94,
   "id": "f22b19a8-dd00-44a6-bb71-5e612ecfbe76",
   "metadata": {
    "execution": {
     "iopub.execute_input": "2022-11-05T04:34:58.677708Z",
     "iopub.status.busy": "2022-11-05T04:34:58.677455Z",
     "iopub.status.idle": "2022-11-05T04:34:58.942478Z",
     "shell.execute_reply": "2022-11-05T04:34:58.941702Z",
     "shell.execute_reply.started": "2022-11-05T04:34:58.677677Z"
    },
    "tags": []
   },
   "outputs": [
    {
     "data": {
      "application/vnd.jupyter.widget-view+json": {
       "model_id": "260c10f6c05740118c47da038ddb4251",
       "version_major": 2,
       "version_minor": 0
      },
      "text/plain": [
       "VBox()"
      ]
     },
     "metadata": {},
     "output_type": "display_data"
    },
    {
     "data": {
      "application/vnd.jupyter.widget-view+json": {
       "model_id": "",
       "version_major": 2,
       "version_minor": 0
      },
      "text/plain": [
       "FloatProgress(value=0.0, bar_style='info', description='Progress:', layout=Layout(height='25px', width='50%'),…"
      ]
     },
     "metadata": {},
     "output_type": "display_data"
    }
   ],
   "source": [
    "from pyspark.sql.functions import sum,avg,max,count, col\n",
    "df_acled_req_region_monthly = df_acled_req_region.groupBy(\"month\", \"year\", \"GRID_IDs\").agg(sum(\"Acled Event\").alias(\"Acled Events Count\"),\\\n",
    "                                                             avg(\"tone_avg\").alias(\"tone_avg\"))\\\n",
    "                                                            .orderBy(col(\"year\"), col(\"month\"),col(\"GRID_IDs\"))\\\n",
    "                                                            .withColumn(\"GRID_IDs\", col(\"GRID_IDs\").cast(\"integer\"))"
   ]
  },
  {
   "cell_type": "code",
   "execution_count": 96,
   "id": "5d8bc317-ed01-46c1-94bb-8b9e1ed4eb23",
   "metadata": {
    "execution": {
     "iopub.execute_input": "2022-11-05T04:35:16.944198Z",
     "iopub.status.busy": "2022-11-05T04:35:16.943950Z",
     "iopub.status.idle": "2022-11-05T04:35:28.250097Z",
     "shell.execute_reply": "2022-11-05T04:35:28.249403Z",
     "shell.execute_reply.started": "2022-11-05T04:35:16.944168Z"
    },
    "tags": []
   },
   "outputs": [
    {
     "data": {
      "application/vnd.jupyter.widget-view+json": {
       "model_id": "6cd7d95f93324b5fa5ae2ed1ec5d3299",
       "version_major": 2,
       "version_minor": 0
      },
      "text/plain": [
       "VBox()"
      ]
     },
     "metadata": {},
     "output_type": "display_data"
    },
    {
     "data": {
      "application/vnd.jupyter.widget-view+json": {
       "model_id": "",
       "version_major": 2,
       "version_minor": 0
      },
      "text/plain": [
       "FloatProgress(value=0.0, bar_style='info', description='Progress:', layout=Layout(height='25px', width='50%'),…"
      ]
     },
     "metadata": {},
     "output_type": "display_data"
    },
    {
     "name": "stdout",
     "output_type": "stream",
     "text": [
      "+-----+------+--------+------------------+-------------------+\n",
      "|month|  year|GRID_IDs|Acled Events Count|           tone_avg|\n",
      "+-----+------+--------+------------------+-------------------+\n",
      "|  2.0|2015.0|   49184|               0.0|                3.0|\n",
      "|  2.0|2015.0|   49186|               0.0|0.14285714285714285|\n",
      "|  2.0|2015.0|   50619|               0.0|                0.0|\n",
      "|  2.0|2015.0|   50623|               0.0|                0.0|\n",
      "|  2.0|2015.0|   50624|               0.0| 0.3333333333333333|\n",
      "+-----+------+--------+------------------+-------------------+\n",
      "only showing top 5 rows"
     ]
    }
   ],
   "source": [
    "df_acled_req_region_monthly.show(5)"
   ]
  },
  {
   "cell_type": "code",
   "execution_count": 102,
   "id": "3888f0b9-cdda-461d-a741-dcf512c97d7c",
   "metadata": {
    "execution": {
     "iopub.execute_input": "2022-11-05T04:37:51.555814Z",
     "iopub.status.busy": "2022-11-05T04:37:51.555337Z",
     "iopub.status.idle": "2022-11-05T04:38:04.886981Z",
     "shell.execute_reply": "2022-11-05T04:38:04.886294Z",
     "shell.execute_reply.started": "2022-11-05T04:37:51.555761Z"
    },
    "tags": []
   },
   "outputs": [
    {
     "data": {
      "application/vnd.jupyter.widget-view+json": {
       "model_id": "476373f6dbbf46969bac8d5d6b14d62b",
       "version_major": 2,
       "version_minor": 0
      },
      "text/plain": [
       "VBox()"
      ]
     },
     "metadata": {},
     "output_type": "display_data"
    },
    {
     "data": {
      "application/vnd.jupyter.widget-view+json": {
       "model_id": "",
       "version_major": 2,
       "version_minor": 0
      },
      "text/plain": [
       "FloatProgress(value=0.0, bar_style='info', description='Progress:', layout=Layout(height='25px', width='50%'),…"
      ]
     },
     "metadata": {},
     "output_type": "display_data"
    }
   ],
   "source": [
    "frequency = \"Monthly\"\n",
    "formatted_region = req_region.replace(\"&\",\"and\").replace(\" \",\"_\")\n",
    "df_acled_req_region_monthly.repartition(1).write.option(\"header\",True) \\\n",
    "           .csv(f\"s3://shrivats-dev/Tasks/GDelt_PrioGrid_Acled_Event_Region_Specific/{formatted_region}/{frequency}\")"
   ]
  },
  {
   "cell_type": "code",
   "execution_count": null,
   "id": "2e873038-854b-4b5a-a483-3c479fafbc16",
   "metadata": {},
   "outputs": [],
   "source": []
  }
 ],
 "metadata": {
  "kernelspec": {
   "display_name": "PySpark",
   "language": "",
   "name": "pysparkkernel"
  },
  "language_info": {
   "codemirror_mode": {
    "name": "python",
    "version": 3
   },
   "file_extension": ".py",
   "mimetype": "text/x-python",
   "name": "pyspark",
   "pygments_lexer": "python3"
  }
 },
 "nbformat": 4,
 "nbformat_minor": 5
}
