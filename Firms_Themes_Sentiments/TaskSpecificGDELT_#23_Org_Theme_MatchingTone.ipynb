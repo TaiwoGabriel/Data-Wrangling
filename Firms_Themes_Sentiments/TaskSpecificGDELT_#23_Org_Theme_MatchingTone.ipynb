{
 "cells": [
  {
   "cell_type": "code",
   "execution_count": 24,
   "id": "3b5db3e6-99eb-4e51-a598-c909195eb89c",
   "metadata": {
    "execution": {
     "iopub.execute_input": "2022-12-12T19:37:21.570769Z",
     "iopub.status.busy": "2022-12-12T19:37:21.570467Z",
     "iopub.status.idle": "2022-12-12T19:37:21.629830Z",
     "shell.execute_reply": "2022-12-12T19:37:21.629124Z",
     "shell.execute_reply.started": "2022-12-12T19:37:21.570752Z"
    },
    "tags": []
   },
   "outputs": [
    {
     "data": {
      "application/vnd.jupyter.widget-view+json": {
       "model_id": "a497f1e42bcb47c5b95cd22cd287c917",
       "version_major": 2,
       "version_minor": 0
      },
      "text/plain": [
       "VBox()"
      ]
     },
     "metadata": {},
     "output_type": "display_data"
    },
    {
     "data": {
      "application/vnd.jupyter.widget-view+json": {
       "model_id": "",
       "version_major": 2,
       "version_minor": 0
      },
      "text/plain": [
       "FloatProgress(value=0.0, bar_style='info', description='Progress:', layout=Layout(height='25px', width='50%'),…"
      ]
     },
     "metadata": {},
     "output_type": "display_data"
    },
    {
     "name": "stderr",
     "output_type": "stream",
     "text": [
      "An error was encountered:\n",
      "Package already installed for current Spark context!\n",
      "Traceback (most recent call last):\n",
      "  File \"/usr/lib/spark/python/lib/pyspark.zip/pyspark/context.py\", line 1110, in install_pypi_package\n",
      "    raise ValueError(\"Package already installed for current Spark context!\")\n",
      "ValueError: Package already installed for current Spark context!\n",
      "\n"
     ]
    }
   ],
   "source": [
    "# sc.list_packages()\n",
    "sc.install_pypi_package(\"pandas==0.25.1\")\n",
    "sc.install_pypi_package(\"boto3==1.26.7\")\n",
    "sc.install_pypi_package(\"rapidfuzz\")"
   ]
  },
  {
   "cell_type": "code",
   "execution_count": 25,
   "id": "74b739d0-c36f-4cbc-8ebd-e6acb10ea9fe",
   "metadata": {
    "execution": {
     "iopub.execute_input": "2022-12-12T19:37:21.631127Z",
     "iopub.status.busy": "2022-12-12T19:37:21.630928Z",
     "iopub.status.idle": "2022-12-12T19:37:21.689191Z",
     "shell.execute_reply": "2022-12-12T19:37:21.688576Z",
     "shell.execute_reply.started": "2022-12-12T19:37:21.631099Z"
    },
    "tags": []
   },
   "outputs": [
    {
     "data": {
      "application/vnd.jupyter.widget-view+json": {
       "model_id": "fe7fbaa7fb8642f78fe150ab53d17255",
       "version_major": 2,
       "version_minor": 0
      },
      "text/plain": [
       "VBox()"
      ]
     },
     "metadata": {},
     "output_type": "display_data"
    },
    {
     "data": {
      "application/vnd.jupyter.widget-view+json": {
       "model_id": "",
       "version_major": 2,
       "version_minor": 0
      },
      "text/plain": [
       "FloatProgress(value=0.0, bar_style='info', description='Progress:', layout=Layout(height='25px', width='50%'),…"
      ]
     },
     "metadata": {},
     "output_type": "display_data"
    },
    {
     "name": "stdout",
     "output_type": "stream",
     "text": [
      "ProcessingData\n",
      "client\n",
      "None\n",
      "None\n",
      "spark.yarn.executor.memoryOverhead : None\n",
      "spark.sql.shuffle.partitions : None\n",
      "spark.network.timeout : 100800s\n",
      "spark.driver.memory : 122000M"
     ]
    }
   ],
   "source": [
    "confs = [\"spark.yarn.executor.memoryOverhead\",\"spark.sql.shuffle.partitions\",\"spark.network.timeout\",\"spark.driver.memory\"]\n",
    "print(sc._conf.get('spark.app.name'))\n",
    "print(sc._conf.get('spark.submit.deployMode'))\n",
    "print(sc._conf.get(\"spark.yarn.executor.memoryOverhead\"))\n",
    "print(sc._conf.get(\"spark.sql.files.maxPartitionBytes\"))\n",
    "for conf in confs:\n",
    "    print(conf,\":\",sc._conf.get(conf))"
   ]
  },
  {
   "cell_type": "markdown",
   "id": "69298fe2-a519-49e1-b542-b8d77b70d94a",
   "metadata": {},
   "source": [
    "# Imports"
   ]
  },
  {
   "cell_type": "code",
   "execution_count": 26,
   "id": "ab789e2a-863f-4619-8043-59704f270c82",
   "metadata": {
    "execution": {
     "iopub.execute_input": "2022-12-12T19:37:21.690681Z",
     "iopub.status.busy": "2022-12-12T19:37:21.690475Z",
     "iopub.status.idle": "2022-12-12T19:37:21.747370Z",
     "shell.execute_reply": "2022-12-12T19:37:21.746738Z",
     "shell.execute_reply.started": "2022-12-12T19:37:21.690651Z"
    },
    "tags": []
   },
   "outputs": [
    {
     "data": {
      "application/vnd.jupyter.widget-view+json": {
       "model_id": "f111d68b4a734ee4aa0b9de0dc96915b",
       "version_major": 2,
       "version_minor": 0
      },
      "text/plain": [
       "VBox()"
      ]
     },
     "metadata": {},
     "output_type": "display_data"
    },
    {
     "data": {
      "application/vnd.jupyter.widget-view+json": {
       "model_id": "",
       "version_major": 2,
       "version_minor": 0
      },
      "text/plain": [
       "FloatProgress(value=0.0, bar_style='info', description='Progress:', layout=Layout(height='25px', width='50%'),…"
      ]
     },
     "metadata": {},
     "output_type": "display_data"
    }
   ],
   "source": [
    "from pyspark import SparkContext\n",
    "from pyspark.sql import SQLContext\n",
    "from pyspark import SparkConf\n",
    "from pyspark.sql import SparkSession\n",
    "from pyspark.sql.functions import year, month, dayofmonth\n",
    "import boto3\n",
    "import re\n",
    "from pyspark.sql.functions import udf\n",
    "from pyspark.sql.types import StringType, ArrayType, MapType, IntegerType, DoubleType\n",
    "from pyspark.sql.types import *\n",
    "from pyspark.sql import functions as F\n",
    "from collections import Counter\n",
    "import pyspark\n",
    "import rapidfuzz\n",
    "from rapidfuzz import fuzz\n",
    "import time\n",
    "import random\n",
    "\n",
    "# import s3fs\n",
    "# import boto3\n",
    "#How to pip install while creation of cluster"
   ]
  },
  {
   "cell_type": "code",
   "execution_count": 27,
   "id": "f58b24e0-067c-4440-950b-e801758bf96c",
   "metadata": {
    "execution": {
     "iopub.execute_input": "2022-12-12T19:37:21.748724Z",
     "iopub.status.busy": "2022-12-12T19:37:21.748517Z",
     "iopub.status.idle": "2022-12-12T19:37:22.008368Z",
     "shell.execute_reply": "2022-12-12T19:37:22.007666Z",
     "shell.execute_reply.started": "2022-12-12T19:37:21.748690Z"
    },
    "tags": []
   },
   "outputs": [
    {
     "data": {
      "application/vnd.jupyter.widget-view+json": {
       "model_id": "2f4523bdfc3a4ea19e866aa67a91d10c",
       "version_major": 2,
       "version_minor": 0
      },
      "text/plain": [
       "VBox()"
      ]
     },
     "metadata": {},
     "output_type": "display_data"
    },
    {
     "data": {
      "application/vnd.jupyter.widget-view+json": {
       "model_id": "",
       "version_major": 2,
       "version_minor": 0
      },
      "text/plain": [
       "FloatProgress(value=0.0, bar_style='info', description='Progress:', layout=Layout(height='25px', width='50%'),…"
      ]
     },
     "metadata": {},
     "output_type": "display_data"
    }
   ],
   "source": [
    "\n",
    "#          .config(\"spark.memory.offHeap.enabled\",\"true\") \\\n",
    "#          .config(\"spark.memory.offHeap.size\",\"10g\") \\\n",
    "# .config(\"spark.submit.deployMode\",\"client\") \\\n",
    "#         .config(\"spark.driver.memory\",\"200g\") \\\n",
    "#         .config(\"spark.executor.memory\",\"50g\") \\\n",
    "#         .config(\"spark.emr.default.executor.memory\", '50g') \\\n",
    "\n",
    "# spark.conf.set(\"spark.sql.shuffle.partitions\",100)\n",
    "\n",
    "#Number of partitions should be equal to or greater than the cores to achieve parallelism\n",
    "# config = pyspark.SparkConf().setAll([('spark.executor.memory', '80'), ('spark.executor.cores', '12'), \\\n",
    "#                                      ('spark.cores.max', '240'), ('spark.driver.memory','300g'), ('spark.sql.shuffle.partitions','80')])\n",
    "# spark.sparkContext.stop()\n",
    "config = pyspark.SparkConf().setAll([('spark.network.timeout', '100800s'), ('spark.driver.memory','122000M')]) #, ('spark.executor.cores', '12')])\n",
    "spark = SparkSession.builder.config(conf=config).appName('ProcessingData') \\\n",
    "        .getOrCreate()\n",
    "# spark = SparkSession.builder.getOrCreate()\n",
    "# sc = pyspark.SparkContext.getOrCreate(conf=config)"
   ]
  },
  {
   "cell_type": "markdown",
   "id": "08e400ac-9742-47e3-8ac7-11246f1d63fd",
   "metadata": {},
   "source": [
    "## Task\n",
    "Read data of specific countries. Within them, if any org in any row is a close match to the list of primary or secondary firms then return a one. Groupby with average tone, and count for total, primary, and secondary firms. Groupby level, country, month.\n",
    "Part2: Same as previous but with Indian, Indians, Foreign, Pharmaceutical themes\n",
    "\n",
    "Countries:\n",
    "1. Gambia - GA\n",
    "2. South Africa - SF\n",
    "3. Cameroon - CM\n",
    "4. Senegal - SG\n",
    "5. Malawi - MI\n",
    "6. Mozambique - MZ\n",
    "\n"
   ]
  },
  {
   "cell_type": "markdown",
   "id": "f18b7ce6-2e38-49e9-a9d1-8c1deb998b7a",
   "metadata": {},
   "source": [
    "## 1.  Reading Files"
   ]
  },
  {
   "cell_type": "code",
   "execution_count": 28,
   "id": "561d75de-47fc-4d2a-9890-aaf8abf7871d",
   "metadata": {
    "execution": {
     "iopub.execute_input": "2022-12-12T19:37:22.009614Z",
     "iopub.status.busy": "2022-12-12T19:37:22.009375Z",
     "iopub.status.idle": "2022-12-12T19:37:22.068443Z",
     "shell.execute_reply": "2022-12-12T19:37:22.067774Z",
     "shell.execute_reply.started": "2022-12-12T19:37:22.009565Z"
    },
    "tags": []
   },
   "outputs": [
    {
     "data": {
      "application/vnd.jupyter.widget-view+json": {
       "model_id": "deee875174bb443993a2b7e6cf1db0df",
       "version_major": 2,
       "version_minor": 0
      },
      "text/plain": [
       "VBox()"
      ]
     },
     "metadata": {},
     "output_type": "display_data"
    },
    {
     "data": {
      "application/vnd.jupyter.widget-view+json": {
       "model_id": "",
       "version_major": 2,
       "version_minor": 0
      },
      "text/plain": [
       "FloatProgress(value=0.0, bar_style='info', description='Progress:', layout=Layout(height='25px', width='50%'),…"
      ]
     },
     "metadata": {},
     "output_type": "display_data"
    }
   ],
   "source": [
    "from boto3 import client\n",
    "\n",
    "def return_yearly_parquet_files(year):\n",
    "    print(f\"Return file list for the year: {year}\")\n",
    "    file_list = []\n",
    "    conn = client('s3')  # again assumes boto.cfg setup, assume AWS S3\n",
    "    for key in conn.list_objects(Bucket='kcsra', Prefix = f\"{str(year)} GDELT GKG PG\")['Contents']:\n",
    "        file = \"s3://kcsra/\"+ key['Key']\n",
    "        if \"parquet\" in file:\n",
    "            file_list.append(file)\n",
    "    return file_list\n",
    "\n",
    "def return_correct_file_paths(year_file_list):\n",
    "    print(\"Returning the working parquet files ...\")\n",
    "    correct_file_paths = []\n",
    "    for i,file in enumerate(year_file_list):\n",
    "\n",
    "        try:\n",
    "            df = spark.read.parquet(file)\n",
    "            correct_file_paths.append(file)\n",
    "        except Exception as e:\n",
    "            print(f\"[{str(i+1)}/{len(year_file_list)}]\")\n",
    "            print(\"->ERROR while reading:\")\n",
    "            print(file)\n",
    "            print()\n",
    "    return correct_file_paths\n",
    "\n",
    "def return_df(correct_file_paths, req_cols, grid_id = None ):\n",
    "    print(\"Constructing a dataframe from required file paths\")\n",
    "\n",
    "    df = spark.read.parquet(*correct_file_paths).select(*req_cols).dropDuplicates(['gkgrecordid','GRID_IDs'])\n",
    "    \n",
    "    if grid_id:\n",
    "        print(\"Filter Grid ID:\", grid_id)\n",
    "        df = df.filter(df.GRID_IDs == grid_id)\n",
    "\n",
    "    df = df.withColumn('day',dayofmonth(df.date)).withColumn('month',month(df.date))\n",
    "    print(\"Total rows:\",df.count())\n",
    "    # df.printSchema()\n",
    "    return df\n",
    "\n",
    "def extract_tone(tone_string):\n",
    "    try:\n",
    "        tone_float = float(re.findall(\"tone=(.*?),\",tone_string)[0])\n",
    "        return tone_float\n",
    "    except Exception as e:\n",
    "        print(\"Error extracting tone:\" + str(exception))\n",
    "        print(tone_string)\n",
    "        print(\"=\"*20)\n",
    "        return None\n",
    "    \n",
    "def save_tone_in_new_col(df):\n",
    "    print(\"Saving the tone in a new column\")\n",
    "    extract_tone_udf = udf(extract_tone, DoubleType())\n",
    "    df = df.withColumn('Extracted_tone', extract_tone_udf(df['tone'])).drop(\"tone\").withColumnRenamed(\"Extracted_tone\", \"tone\")\n",
    "    return df\n",
    "\n",
    "@udf(returnType=ArrayType(StringType()))\n",
    "def retrieve_theme_list(themes):\n",
    "    if not themes:\n",
    "        return {}\n",
    "    themes = str(themes)\n",
    "    return list(Counter(re.findall(f\"theme=(.*?),\",themes)).keys())\n",
    "\n",
    "@udf(returnType=ArrayType(StringType())) \n",
    "def retrieve_organization_list(organizations):\n",
    "    if not organizations:\n",
    "        return {}\n",
    "    organizations = str(organizations)\n",
    "    return list(Counter(re.findall(f\"organization=(.*?),\",organizations)).keys())\n",
    "\n",
    "@udf(returnType=StringType())\n",
    "def aggregate_category(category):\n",
    "    super_counter = Counter({})\n",
    "    for row in category:\n",
    "        super_counter += Counter(row)\n",
    "    return \", \".join([f\"{categ[0]}:{categ[1]}\" for categ in super_counter.most_common(20)])\n",
    "\n",
    "\n",
    "def are_strings_similar(target_str, data_str, match_threshold):\n",
    "    target_str, data_str = str(target_str).lower(), str(data_str).lower()\n",
    "    partial_match, sorted_match = fuzz.partial_ratio(target_str, data_str), fuzz.token_sort_ratio(target_str, data_str)\n",
    "\n",
    "    if max(partial_match, sorted_match) >= match_threshold:\n",
    "        # print(max(partial_match, sorted_match))\n",
    "        return True\n",
    "    else:\n",
    "        return False\n",
    "\n",
    "\n",
    "def compare_string_matches_lists(target_list, data_list, match_threshold = 75):\n",
    "    for target_str in target_list:\n",
    "        for data_str in data_list:\n",
    "            if are_strings_similar(target_str, data_str, match_threshold):\n",
    "                # print(\"Match Found\", f\"| {target_str} : {data_str}\")\n",
    "                return 1\n",
    "    return 0\n",
    "\n",
    "\n",
    "def udf_compare_strings_lists(target_list, match_threshold):\n",
    "    return udf(lambda data_list: compare_string_matches_lists(target_list, data_list, match_threshold))"
   ]
  },
  {
   "cell_type": "code",
   "execution_count": 29,
   "id": "59777657-8adc-4467-a1a5-9d8565592bfd",
   "metadata": {
    "execution": {
     "iopub.execute_input": "2022-12-12T19:37:22.070150Z",
     "iopub.status.busy": "2022-12-12T19:37:22.069947Z",
     "iopub.status.idle": "2022-12-12T19:37:22.126094Z",
     "shell.execute_reply": "2022-12-12T19:37:22.125490Z",
     "shell.execute_reply.started": "2022-12-12T19:37:22.070122Z"
    },
    "tags": []
   },
   "outputs": [
    {
     "data": {
      "application/vnd.jupyter.widget-view+json": {
       "model_id": "7562c4fe461645d5b8f535a8ed70bdef",
       "version_major": 2,
       "version_minor": 0
      },
      "text/plain": [
       "VBox()"
      ]
     },
     "metadata": {},
     "output_type": "display_data"
    },
    {
     "data": {
      "application/vnd.jupyter.widget-view+json": {
       "model_id": "",
       "version_major": 2,
       "version_minor": 0
      },
      "text/plain": [
       "FloatProgress(value=0.0, bar_style='info', description='Progress:', layout=Layout(height='25px', width='50%'),…"
      ]
     },
     "metadata": {},
     "output_type": "display_data"
    },
    {
     "name": "stdout",
     "output_type": "stream",
     "text": [
      "True"
     ]
    }
   ],
   "source": [
    "target_str = \"Promac\"\n",
    "data_str = \"promac llc\"\n",
    "match_threshold = 78\n",
    "are_strings_similar(target_str, data_str, match_threshold)"
   ]
  },
  {
   "cell_type": "markdown",
   "id": "00ca0057-e859-49c0-ad89-b628921edc6e",
   "metadata": {},
   "source": [
    "# MAIN"
   ]
  },
  {
   "cell_type": "code",
   "execution_count": 30,
   "id": "bace5273-5e06-4e23-952e-faa3759b5676",
   "metadata": {
    "execution": {
     "iopub.execute_input": "2022-12-12T19:37:22.127375Z",
     "iopub.status.busy": "2022-12-12T19:37:22.127158Z",
     "iopub.status.idle": "2022-12-12T19:37:22.181344Z",
     "shell.execute_reply": "2022-12-12T19:37:22.180788Z",
     "shell.execute_reply.started": "2022-12-12T19:37:22.127346Z"
    },
    "tags": []
   },
   "outputs": [
    {
     "data": {
      "application/vnd.jupyter.widget-view+json": {
       "model_id": "69127e736b4c458c9ad8c484d0f1ee13",
       "version_major": 2,
       "version_minor": 0
      },
      "text/plain": [
       "VBox()"
      ]
     },
     "metadata": {},
     "output_type": "display_data"
    },
    {
     "data": {
      "application/vnd.jupyter.widget-view+json": {
       "model_id": "",
       "version_major": 2,
       "version_minor": 0
      },
      "text/plain": [
       "FloatProgress(value=0.0, bar_style='info', description='Progress:', layout=Layout(height='25px', width='50%'),…"
      ]
     },
     "metadata": {},
     "output_type": "display_data"
    }
   ],
   "source": [
    "#Collect all the orgs in a list and run the matcher function to label primary and secondary firms"
   ]
  },
  {
   "cell_type": "code",
   "execution_count": 31,
   "id": "73513529-2bc4-42b2-af21-c4ca2d030b2d",
   "metadata": {
    "execution": {
     "iopub.execute_input": "2022-12-12T19:37:22.182581Z",
     "iopub.status.busy": "2022-12-12T19:37:22.182292Z",
     "iopub.status.idle": "2022-12-12T19:37:22.237628Z",
     "shell.execute_reply": "2022-12-12T19:37:22.236968Z",
     "shell.execute_reply.started": "2022-12-12T19:37:22.182544Z"
    },
    "tags": []
   },
   "outputs": [
    {
     "data": {
      "application/vnd.jupyter.widget-view+json": {
       "model_id": "9874dfa66b4c4bd3b29e82129706c05d",
       "version_major": 2,
       "version_minor": 0
      },
      "text/plain": [
       "VBox()"
      ]
     },
     "metadata": {},
     "output_type": "display_data"
    },
    {
     "data": {
      "application/vnd.jupyter.widget-view+json": {
       "model_id": "",
       "version_major": 2,
       "version_minor": 0
      },
      "text/plain": [
       "FloatProgress(value=0.0, bar_style='info', description='Progress:', layout=Layout(height='25px', width='50%'),…"
      ]
     },
     "metadata": {},
     "output_type": "display_data"
    }
   ],
   "source": [
    "primary_firms = \"\"\"Cadila \n",
    "Cipla \n",
    "Dr. Reddy's \n",
    "Ipca Lab\n",
    "Lupin \n",
    "pharma dynamics \n",
    "Maiden \n",
    "Orchid \n",
    "Panacea Biotech \n",
    "Ranbaxy \n",
    "Sun Pharma\"\"\"\n",
    "\n",
    "secondary_firms = \"\"\"Actiza \n",
    "Ajanta Pharma \n",
    "Atul \n",
    "Aurobindo \n",
    "Bal Pharma \n",
    "Glenmark \n",
    "Global Pharma \n",
    "InterMed Pharma \n",
    "JoinHub Pharma \n",
    "KEC Ltd. \n",
    "Kirloskar Bros \n",
    "Maan Pharma \n",
    "MS Pharma \n",
    "Promac \n",
    "Pyramid Pharma \n",
    "SenegIndia \n",
    "XL Laboratories \n",
    "Weefsel Pharma\"\"\"\n",
    "\n",
    "indian_themes = \"\"\"Indian\"\"\"\n",
    "\n",
    "indian_foreign_themes = \"\"\"foreign invest\"\"\"\n",
    "\n",
    "indian_pharmaceuticals_themes = \"\"\"pharmaceuticals\"\"\"\n",
    "\n",
    "prim_firm_list = [firm.strip() for firm in primary_firms.split(\"\\n\")]\n",
    "sec_firm_list = [firm.strip() for firm in secondary_firms.split(\"\\n\")]\n",
    "indian_theme_list = [theme.strip() for theme in indian_themes.split(\"\\n\")]\n",
    "indian_foreign_theme_list = [theme.strip() for theme in indian_foreign_themes.split(\"\\n\")]\n",
    "indian_pharmaceuticals_theme_list = [theme.strip() for theme in indian_pharmaceuticals_themes.split(\"\\n\")]"
   ]
  },
  {
   "cell_type": "code",
   "execution_count": 32,
   "id": "2938f28b-27aa-4340-aab7-05d31d62db56",
   "metadata": {
    "execution": {
     "iopub.execute_input": "2022-12-12T19:37:22.238753Z",
     "iopub.status.busy": "2022-12-12T19:37:22.238559Z",
     "iopub.status.idle": "2022-12-12T19:37:22.294919Z",
     "shell.execute_reply": "2022-12-12T19:37:22.294245Z",
     "shell.execute_reply.started": "2022-12-12T19:37:22.238724Z"
    },
    "tags": []
   },
   "outputs": [
    {
     "data": {
      "application/vnd.jupyter.widget-view+json": {
       "model_id": "8ab77eef75d1486e90d0a75adad963f9",
       "version_major": 2,
       "version_minor": 0
      },
      "text/plain": [
       "VBox()"
      ]
     },
     "metadata": {},
     "output_type": "display_data"
    },
    {
     "data": {
      "application/vnd.jupyter.widget-view+json": {
       "model_id": "",
       "version_major": 2,
       "version_minor": 0
      },
      "text/plain": [
       "FloatProgress(value=0.0, bar_style='info', description='Progress:', layout=Layout(height='25px', width='50%'),…"
      ]
     },
     "metadata": {},
     "output_type": "display_data"
    }
   ],
   "source": [
    "# match_str = \"\"\"[Google, Ballistic Research Centre, Institute Of Forensic Sciences, Torrent Pharmaceuticals, Bajaj Alliance, Directorate Of Forensic Sciences, Institute Of Behavioral Sciences, Gujarat Forensic Sciences University, Formula Group, Institute Of Research Development, Congress Mp Shashi Tharoor, Telecom Day, Us Central Intelligence Agency, Cadila Pharmaceuticals, Directorate Of Forensic Science Laboratory]\"\"\"\n",
    "\n",
    "# data_list = [x.strip() for x in match_str.strip().strip(\"[\").strip(\"]\").split(\",\")]\n",
    "# compare_string_matches_lists(prim_firm_list, data_list, match_threshold = 75)"
   ]
  },
  {
   "cell_type": "code",
   "execution_count": 34,
   "id": "edaf50a8-e18f-4a33-a206-b19ea87a3eae",
   "metadata": {
    "execution": {
     "iopub.execute_input": "2022-12-12T19:37:54.014840Z",
     "iopub.status.busy": "2022-12-12T19:37:54.014538Z",
     "iopub.status.idle": "2022-12-12T20:07:16.242456Z",
     "shell.execute_reply": "2022-12-12T20:07:16.241798Z",
     "shell.execute_reply.started": "2022-12-12T19:37:54.014813Z"
    },
    "tags": []
   },
   "outputs": [
    {
     "data": {
      "application/vnd.jupyter.widget-view+json": {
       "model_id": "5d2fbf77d27741a3b4066f8a2404b980",
       "version_major": 2,
       "version_minor": 0
      },
      "text/plain": [
       "VBox()"
      ]
     },
     "metadata": {},
     "output_type": "display_data"
    },
    {
     "data": {
      "application/vnd.jupyter.widget-view+json": {
       "model_id": "",
       "version_major": 2,
       "version_minor": 0
      },
      "text/plain": [
       "FloatProgress(value=0.0, bar_style='info', description='Progress:', layout=Layout(height='25px', width='50%'),…"
      ]
     },
     "metadata": {},
     "output_type": "display_data"
    },
    {
     "name": "stderr",
     "output_type": "stream",
     "text": [
      "An error was encountered:\n",
      "'Unable to infer schema for Parquet. It must be specified manually.;'\n",
      "Traceback (most recent call last):\n",
      "  File \"<stdin>\", line 31, in return_df\n",
      "  File \"/usr/lib/spark/python/lib/pyspark.zip/pyspark/sql/readwriter.py\", line 316, in parquet\n",
      "    return self._df(self._jreader.parquet(_to_seq(self._spark._sc, paths)))\n",
      "  File \"/usr/lib/spark/python/lib/py4j-0.10.7-src.zip/py4j/java_gateway.py\", line 1257, in __call__\n",
      "    answer, self.gateway_client, self.target_id, self.name)\n",
      "  File \"/usr/lib/spark/python/lib/pyspark.zip/pyspark/sql/utils.py\", line 69, in deco\n",
      "    raise AnalysisException(s.split(': ', 1)[1], stackTrace)\n",
      "pyspark.sql.utils.AnalysisException: 'Unable to infer schema for Parquet. It must be specified manually.;'\n",
      "\n"
     ]
    }
   ],
   "source": [
    "countries = [ \"SF\"] #[\"CM\",\"GA\",\"MZ\",\"MI\",\"SG\"]\n",
    "match_threshold = 91\n",
    "req_cols = ['gkgrecordid','date','tone','country', 'year','GRID_IDs', 'organizations', 'themes']\n",
    "t0 = time.time()\n",
    "for country in countries:\n",
    "    for year in range(2021, 2023):\n",
    "        t1 = time.time()\n",
    "        print(f\"Country: {country} | Year: {year}\")\n",
    "        file_list = return_yearly_parquet_files(year)\n",
    "        file_list2 = [file for file in file_list if country in file]\n",
    "        correct_file_paths = return_correct_file_paths(file_list2)\n",
    "        correct_file_paths = random.sample(correct_file_paths, int(len(correct_file_paths)/2))\n",
    "        df = return_df(correct_file_paths, req_cols)\n",
    "        df = save_tone_in_new_col(df)\n",
    "        df = df.dropna(subset = [\"tone\"])\n",
    "        req_cols_grpby = ['country', 'day', 'month', 'year', 'tone', 'PrimaryFirms', 'SecondaryFirms',\\\n",
    "                          'IndianThemes','IndianForeignThemes','IndianPharmaThemes']\n",
    "        t2 = time.time()\n",
    "        \n",
    "        print(\"Time to read files:\", t2-t1)\n",
    "        df2 = df.withColumn(\"Org_list\", retrieve_organization_list(F.col(\"organizations\")))\\\n",
    "                .withColumn(\"Theme_list\", retrieve_theme_list(F.col(\"themes\")))\n",
    "        # df.unpersist()\n",
    "        df3 = df2.withColumn('PrimaryFirms', udf_compare_strings_lists(prim_firm_list, match_threshold)(F.col(\"Org_list\")).cast(IntegerType()))\\\n",
    "            .withColumn('SecondaryFirms', udf_compare_strings_lists(sec_firm_list, match_threshold)(F.col(\"Org_list\")).cast(IntegerType()))\\\n",
    "            .withColumn('IndianThemes', udf_compare_strings_lists(indian_theme_list, match_threshold)(F.col(\"Theme_list\")).cast(IntegerType()))\\\n",
    "            .withColumn('IndianForeignThemes', F.col(\"IndianThemes\") * udf_compare_strings_lists(indian_foreign_theme_list, match_threshold)(F.col(\"Theme_list\")).cast(IntegerType()))\\\n",
    "            .withColumn('IndianPharmaThemes', F.col(\"IndianThemes\") * udf_compare_strings_lists(indian_pharmaceuticals_theme_list, match_threshold)(F.col(\"Theme_list\")).cast(IntegerType()))\\\n",
    "            .select(*req_cols_grpby)\n",
    "        # df2.unpersist()\n",
    "        \n",
    "        df4 = df3.withColumn(\"PrimaryFirmTone\", F.col(\"PrimaryFirms\") * F.col(\"tone\"))\\\n",
    "                 .withColumn(\"SecondaryFirmTone\", F.col(\"SecondaryFirms\") * F.col(\"tone\"))\\\n",
    "                 .withColumn(\"IndianThemesTone\", F.col(\"IndianThemes\") * F.col(\"tone\"))\\\n",
    "                 .withColumn(\"IndianForeignThemesTone\", F.col(\"IndianForeignThemes\") * F.col(\"tone\"))\\\n",
    "                 .withColumn(\"IndianPharmaThemesTone\", F.col(\"IndianPharmaThemes\") * F.col(\"tone\"))\\\n",
    "        \n",
    "        t3 = time.time()\n",
    "        print(\"T3 time:\", t3-t2)\n",
    "        # df3.unpersist()\n",
    "        aggregation_cols = ['country','month','year']\n",
    "        df5 = df4.groupby(*aggregation_cols).agg(F.count(F.col(\"tone\")).alias('TotalArticles'),\\\n",
    "                                  F.avg('tone').alias('AverageSentiment'),\\\n",
    "                                  F.sum('PrimaryFirms').alias('PrimaryFirms_TotalArticles'),\\\n",
    "                                   F.sum('PrimaryFirmTone').alias('SumPrimaryFirmTone'),\\\n",
    "                                  F.sum('SecondaryFirms').alias('SecondaryFirms_TotalArticles'),\\\n",
    "                                   F.sum('SecondaryFirmTone').alias('SumSecondaryFirmTone'),\\\n",
    "                                  F.sum('IndianThemes').alias('IndianThemes_TotalArticles'),\\\n",
    "                                   F.sum('IndianThemesTone').alias('SumIndianThemesTone'),\\\n",
    "                                  F.sum('IndianForeignThemes').alias('IndianForeignThemes_TotalArticles'),\\\n",
    "                                   F.sum('IndianForeignThemesTone').alias('SumIndianForeignThemesTone'),\\\n",
    "                                  F.sum('IndianPharmaThemes').alias('IndianPharmaThemes_TotalArticles'),\\\n",
    "                                   F.sum('IndianPharmaThemesTone').alias('SumIndianPharmaThemesTone'))\n",
    "        # df4.unpersist()\n",
    "        df6 = df5.withColumn(\"AverageSentiment_PrimaryFirms\", F.col(\"SumPrimaryFirmTone\")/F.col(\"PrimaryFirms_TotalArticles\"))\\\n",
    "            .withColumn(\"AverageSentiment_SecondaryFirms\", F.col(\"SumSecondaryFirmTone\")/F.col(\"SecondaryFirms_TotalArticles\"))\\\n",
    "            .withColumn(\"AverageSentiment_IndianThemes\", F.col(\"SumIndianThemesTone\")/F.col(\"IndianThemes_TotalArticles\"))\\\n",
    "            .withColumn(\"AverageSentiment_IndianForeignThemes\", F.col(\"SumIndianForeignThemesTone\")/F.col(\"IndianForeignThemes_TotalArticles\"))\\\n",
    "            .withColumn(\"AverageSentiment_IndianPharmaThemes\", F.col(\"SumIndianPharmaThemesTone\")/F.col(\"IndianPharmaThemes_TotalArticles\"))\\\n",
    "            .drop(\"SumPrimaryFirmTone\",\"SumSecondaryFirmTone\",\"SumIndianThemesTone\",\"SumIndianForeignThemesTone\",\"SumIndianPharmaThemesTone\").fillna(0)\n",
    "        # df5.unpersist()\n",
    "        t4 = time.time()\n",
    "        print(\"T4 time:\", t4-t3)\n",
    "        \n",
    "        df6.repartition(1).write.option(\"header\",True) \\\n",
    "           .csv(f\"s3://shrivats-dev/Tasks/23_Primary_Secondary_Firms_Themes_Sentiment/{country}/Monthly/{year}\")\n",
    "        df6.unpersist()\n",
    "        t5 = time.time()\n",
    "        print(\"T5 time:\", t5-t4)\n",
    "        print(\"=\"*50)\n",
    "        \n",
    "        # break\n",
    "print(\"Total time\", time.time()-t0)\n",
    "        "
   ]
  },
  {
   "cell_type": "code",
   "execution_count": 13,
   "id": "3f7b2089-5883-4f61-bd9f-0d52e5d675fd",
   "metadata": {
    "execution": {
     "iopub.execute_input": "2022-12-12T00:13:11.059464Z",
     "iopub.status.busy": "2022-12-12T00:13:11.059216Z",
     "iopub.status.idle": "2022-12-12T00:13:11.115734Z",
     "shell.execute_reply": "2022-12-12T00:13:11.115052Z",
     "shell.execute_reply.started": "2022-12-12T00:13:11.059432Z"
    },
    "tags": []
   },
   "outputs": [
    {
     "data": {
      "application/vnd.jupyter.widget-view+json": {
       "model_id": "22a14541dffc4d7a863a39a08810cb10",
       "version_major": 2,
       "version_minor": 0
      },
      "text/plain": [
       "VBox()"
      ]
     },
     "metadata": {},
     "output_type": "display_data"
    },
    {
     "data": {
      "application/vnd.jupyter.widget-view+json": {
       "model_id": "",
       "version_major": 2,
       "version_minor": 0
      },
      "text/plain": [
       "FloatProgress(value=0.0, bar_style='info', description='Progress:', layout=Layout(height='25px', width='50%'),…"
      ]
     },
     "metadata": {},
     "output_type": "display_data"
    }
   ],
   "source": [
    "cols = ['PrimaryFirms', 'SecondaryFirms', 'IndianThemes', 'IndianForeignThemes', 'IndianPharmaThemes']\n",
    "agg_cols = {col:'sum' for col in cols}"
   ]
  },
  {
   "cell_type": "code",
   "execution_count": 12,
   "id": "9c2a2e19-ab78-4ffd-bbe1-f1d9ecf5bca4",
   "metadata": {
    "execution": {
     "iopub.execute_input": "2022-12-03T21:55:15.951806Z",
     "iopub.status.busy": "2022-12-03T21:55:15.951602Z",
     "iopub.status.idle": "2022-12-03T22:01:42.618757Z",
     "shell.execute_reply": "2022-12-03T22:01:42.618166Z",
     "shell.execute_reply.started": "2022-12-03T21:55:15.951777Z"
    },
    "tags": []
   },
   "outputs": [
    {
     "data": {
      "application/vnd.jupyter.widget-view+json": {
       "model_id": "9fa3cb6c174745c6812507adbaeaf3d2",
       "version_major": 2,
       "version_minor": 0
      },
      "text/plain": [
       "VBox()"
      ]
     },
     "metadata": {},
     "output_type": "display_data"
    },
    {
     "data": {
      "application/vnd.jupyter.widget-view+json": {
       "model_id": "",
       "version_major": 2,
       "version_minor": 0
      },
      "text/plain": [
       "FloatProgress(value=0.0, bar_style='info', description='Progress:', layout=Layout(height='25px', width='50%'),…"
      ]
     },
     "metadata": {},
     "output_type": "display_data"
    },
    {
     "name": "stdout",
     "output_type": "stream",
     "text": [
      "+------------------------+-------------------+-----------------------+-----------------+-----------------+\n",
      "|sum(IndianForeignThemes)|sum(SecondaryFirms)|sum(IndianPharmaThemes)|sum(IndianThemes)|sum(PrimaryFirms)|\n",
      "+------------------------+-------------------+-----------------------+-----------------+-----------------+\n",
      "|                      98|                203|                   1794|             5899|              193|\n",
      "+------------------------+-------------------+-----------------------+-----------------+-----------------+"
     ]
    }
   ],
   "source": [
    "df3.agg(agg_cols).show()"
   ]
  },
  {
   "cell_type": "markdown",
   "id": "a6321eec-38ad-451d-a971-ccf1cacc59a0",
   "metadata": {
    "execution": {
     "iopub.execute_input": "2022-11-13T23:51:29.605408Z",
     "iopub.status.busy": "2022-11-13T23:51:29.605138Z",
     "iopub.status.idle": "2022-11-13T23:51:29.661693Z",
     "shell.execute_reply": "2022-11-13T23:51:29.661103Z",
     "shell.execute_reply.started": "2022-11-13T23:51:29.605378Z"
    }
   },
   "source": [
    "## Joining Files"
   ]
  },
  {
   "cell_type": "markdown",
   "id": "d2da097e-4159-494b-afb4-72fe861f4f5f",
   "metadata": {},
   "source": [
    "### Country Level"
   ]
  },
  {
   "cell_type": "code",
   "execution_count": 21,
   "id": "64ec0be5-e1a3-4d01-959e-526780610e2e",
   "metadata": {
    "execution": {
     "iopub.execute_input": "2022-12-12T19:36:13.942911Z",
     "iopub.status.busy": "2022-12-12T19:36:13.942571Z",
     "iopub.status.idle": "2022-12-12T19:36:21.261137Z",
     "shell.execute_reply": "2022-12-12T19:36:21.260516Z",
     "shell.execute_reply.started": "2022-12-12T19:36:13.942878Z"
    },
    "tags": []
   },
   "outputs": [
    {
     "data": {
      "application/vnd.jupyter.widget-view+json": {
       "model_id": "3a36fbf3628847de91e60fc95b569945",
       "version_major": 2,
       "version_minor": 0
      },
      "text/plain": [
       "VBox()"
      ]
     },
     "metadata": {},
     "output_type": "display_data"
    },
    {
     "data": {
      "application/vnd.jupyter.widget-view+json": {
       "model_id": "",
       "version_major": 2,
       "version_minor": 0
      },
      "text/plain": [
       "FloatProgress(value=0.0, bar_style='info', description='Progress:', layout=Layout(height='25px', width='50%'),…"
      ]
     },
     "metadata": {},
     "output_type": "display_data"
    },
    {
     "name": "stderr",
     "output_type": "stream",
     "text": [
      "An error was encountered:\n",
      "'path s3://shrivats-dev/Tasks/23_Primary_Secondary_Firms_Themes_Sentiment/MZ/Monthly/AllYears already exists.;'\n",
      "Traceback (most recent call last):\n",
      "  File \"/usr/lib/spark/python/lib/pyspark.zip/pyspark/sql/readwriter.py\", line 935, in csv\n",
      "    self._jwrite.csv(path)\n",
      "  File \"/usr/lib/spark/python/lib/py4j-0.10.7-src.zip/py4j/java_gateway.py\", line 1257, in __call__\n",
      "    answer, self.gateway_client, self.target_id, self.name)\n",
      "  File \"/usr/lib/spark/python/lib/pyspark.zip/pyspark/sql/utils.py\", line 69, in deco\n",
      "    raise AnalysisException(s.split(': ', 1)[1], stackTrace)\n",
      "pyspark.sql.utils.AnalysisException: 'path s3://shrivats-dev/Tasks/23_Primary_Secondary_Firms_Themes_Sentiment/MZ/Monthly/AllYears already exists.;'\n",
      "\n"
     ]
    }
   ],
   "source": [
    "countries = [\"MZ\", \"MI\", \"SG\",\"GA\",\"SF\",\"CM\"]\n",
    "for country in countries:\n",
    "    df_combined = spark.read.option(\"header\",True) \\\n",
    "               .csv(f\"s3://shrivats-dev/Tasks/23_Primary_Secondary_Firms_Themes_Sentiment/{country}/Monthly/*/*.csv\")\n",
    "    df_combined.repartition(1).write.option(\"header\",True) \\\n",
    "               .csv(f\"s3://shrivats-dev/Tasks/23_Primary_Secondary_Firms_Themes_Sentiment/{country}/Monthly/AllYears\")    "
   ]
  },
  {
   "cell_type": "markdown",
   "id": "dd409fe1-6a31-4792-8f65-1b3185713a32",
   "metadata": {},
   "source": [
    "### All"
   ]
  },
  {
   "cell_type": "code",
   "execution_count": 35,
   "id": "5e28e08a-1406-409d-83ce-cf3bd1f9be4b",
   "metadata": {
    "execution": {
     "iopub.execute_input": "2022-12-12T20:11:52.664865Z",
     "iopub.status.busy": "2022-12-12T20:11:52.664548Z",
     "iopub.status.idle": "2022-12-12T20:12:10.019106Z",
     "shell.execute_reply": "2022-12-12T20:12:10.018315Z",
     "shell.execute_reply.started": "2022-12-12T20:11:52.664831Z"
    },
    "tags": []
   },
   "outputs": [
    {
     "data": {
      "application/vnd.jupyter.widget-view+json": {
       "model_id": "df5fa2b492114e6d882d4ebdba8a14ea",
       "version_major": 2,
       "version_minor": 0
      },
      "text/plain": [
       "VBox()"
      ]
     },
     "metadata": {},
     "output_type": "display_data"
    },
    {
     "data": {
      "application/vnd.jupyter.widget-view+json": {
       "model_id": "",
       "version_major": 2,
       "version_minor": 0
      },
      "text/plain": [
       "FloatProgress(value=0.0, bar_style='info', description='Progress:', layout=Layout(height='25px', width='50%'),…"
      ]
     },
     "metadata": {},
     "output_type": "display_data"
    }
   ],
   "source": [
    "df_combined_all_countries = spark.read.option(\"header\",True) \\\n",
    "               .csv(f\"s3://shrivats-dev/Tasks/23_Primary_Secondary_Firms_Themes_Sentiment/*/Monthly/2*/*.csv\")\n",
    "df_combined_all_countries = df_combined_all_countries.withColumn(\"month\", F.col(\"month\").cast(IntegerType()))\n",
    "df_combined_all_countries_sorted = df_combined_all_countries.sort(\"country\",\"year\",\"month\")\n",
    "df_combined_all_countries_sorted.repartition(1).write.option(\"header\",True) \\\n",
    "               .csv(f\"s3://shrivats-dev/Tasks/23_Primary_Secondary_Firms_Themes_Sentiment/MZ_MI_SG_GA_SF_CM/Monthly\")  "
   ]
  },
  {
   "cell_type": "code",
   "execution_count": null,
   "id": "5300a7b3-1f44-4a22-9351-8b14a62987b0",
   "metadata": {},
   "outputs": [],
   "source": []
  }
 ],
 "metadata": {
  "kernelspec": {
   "display_name": "PySpark",
   "language": "python",
   "name": "pysparkkernel"
  },
  "language_info": {
   "codemirror_mode": {
    "name": "python",
    "version": 3
   },
   "file_extension": ".py",
   "mimetype": "text/x-python",
   "name": "pyspark",
   "pygments_lexer": "python3"
  }
 },
 "nbformat": 4,
 "nbformat_minor": 5
}
