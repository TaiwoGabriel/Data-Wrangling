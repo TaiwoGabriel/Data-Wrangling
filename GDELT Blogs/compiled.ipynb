{
 "cells": [
  {
   "cell_type": "code",
   "execution_count": 1,
   "id": "19ebd6a2",
   "metadata": {},
   "outputs": [],
   "source": [
    "import pandas as pd"
   ]
  },
  {
   "cell_type": "code",
   "execution_count": 2,
   "id": "e1be32aa",
   "metadata": {},
   "outputs": [],
   "source": [
    "df = pd.read_excel(\"compiled.xlsx\")"
   ]
  },
  {
   "cell_type": "code",
   "execution_count": 3,
   "id": "0396fc87",
   "metadata": {},
   "outputs": [],
   "source": [
    "americas = [\"AG\", \"AR\", \"BS\", \"BB\", \"BM\", \"BO\", \"BR\", \"BZ\", \"VG\", \"CA\", \"KY\", \"CL\", \"CO\", \"CR\", \"CU\", \"DM\", \"DO\", \"EC\", \"SV\", \"FK\", \"GF\", \"GL\", \"GD\", \"GP\", \"GT\", \"GY\", \"HT\", \"HN\", \"JM\", \"MQ\", \"MX\", \"MS\", \"CW\", \"AW\", \"SX\", \"BQ\", \"NI\", \"UM\", \"PA\", \"PY\", \"PE\", \"PR\", \"BL\", \"KN\", \"AI\", \"LC\", \"MF\", \"PM\", \"VC\", \"SR\", \"TT\", \"TC\", \"US\", \"VI\", \"UY\", \"VE\"]\n",
    "years = [\"2022\"]"
   ]
  },
  {
   "cell_type": "code",
   "execution_count": 4,
   "id": "99576fd6",
   "metadata": {},
   "outputs": [],
   "source": [
    "americas_df = df[df['country'].isin(americas)]\n",
    "americas_df = americas_df[americas_df[\"Year\"] == 2022]\n",
    "americas_df = americas_df[americas_df[\"Month\"] != \"JAN\"]"
   ]
  },
  {
   "cell_type": "code",
   "execution_count": 5,
   "id": "f179b882",
   "metadata": {},
   "outputs": [
    {
     "data": {
      "text/html": [
       "<div>\n",
       "<style scoped>\n",
       "    .dataframe tbody tr th:only-of-type {\n",
       "        vertical-align: middle;\n",
       "    }\n",
       "\n",
       "    .dataframe tbody tr th {\n",
       "        vertical-align: top;\n",
       "    }\n",
       "\n",
       "    .dataframe thead th {\n",
       "        text-align: right;\n",
       "    }\n",
       "</style>\n",
       "<table border=\"1\" class=\"dataframe\">\n",
       "  <thead>\n",
       "    <tr style=\"text-align: right;\">\n",
       "      <th></th>\n",
       "      <th>country</th>\n",
       "      <th>Predicted_Sector</th>\n",
       "      <th>average_tone</th>\n",
       "      <th>country_name</th>\n",
       "      <th>Month</th>\n",
       "      <th>Year</th>\n",
       "    </tr>\n",
       "  </thead>\n",
       "  <tbody>\n",
       "    <tr>\n",
       "      <th>2947</th>\n",
       "      <td>AG</td>\n",
       "      <td>extractives &amp; minerals processing</td>\n",
       "      <td>-0.276</td>\n",
       "      <td>Algeria</td>\n",
       "      <td>FEB</td>\n",
       "      <td>2022</td>\n",
       "    </tr>\n",
       "    <tr>\n",
       "      <th>2952</th>\n",
       "      <td>AR</td>\n",
       "      <td>extractives &amp; minerals processing</td>\n",
       "      <td>0.658</td>\n",
       "      <td>Argentina</td>\n",
       "      <td>FEB</td>\n",
       "      <td>2022</td>\n",
       "    </tr>\n",
       "    <tr>\n",
       "      <th>2958</th>\n",
       "      <td>BB</td>\n",
       "      <td>extractives &amp; minerals processing</td>\n",
       "      <td>-0.192</td>\n",
       "      <td>Barbados</td>\n",
       "      <td>FEB</td>\n",
       "      <td>2022</td>\n",
       "    </tr>\n",
       "    <tr>\n",
       "      <th>2966</th>\n",
       "      <td>BL</td>\n",
       "      <td>extractives &amp; minerals processing</td>\n",
       "      <td>0.314</td>\n",
       "      <td>Bolivia</td>\n",
       "      <td>FEB</td>\n",
       "      <td>2022</td>\n",
       "    </tr>\n",
       "    <tr>\n",
       "      <th>2967</th>\n",
       "      <td>BM</td>\n",
       "      <td>extractives &amp; minerals processing</td>\n",
       "      <td>-0.926</td>\n",
       "      <td>Myanmar (Burma)</td>\n",
       "      <td>FEB</td>\n",
       "      <td>2022</td>\n",
       "    </tr>\n",
       "  </tbody>\n",
       "</table>\n",
       "</div>"
      ],
      "text/plain": [
       "     country                   Predicted_Sector  average_tone  \\\n",
       "2947      AG  extractives & minerals processing        -0.276   \n",
       "2952      AR  extractives & minerals processing         0.658   \n",
       "2958      BB  extractives & minerals processing        -0.192   \n",
       "2966      BL  extractives & minerals processing         0.314   \n",
       "2967      BM  extractives & minerals processing        -0.926   \n",
       "\n",
       "         country_name Month  Year  \n",
       "2947          Algeria   FEB  2022  \n",
       "2952        Argentina   FEB  2022  \n",
       "2958         Barbados   FEB  2022  \n",
       "2966          Bolivia   FEB  2022  \n",
       "2967  Myanmar (Burma)   FEB  2022  "
      ]
     },
     "execution_count": 5,
     "metadata": {},
     "output_type": "execute_result"
    }
   ],
   "source": [
    "americas_df.head()"
   ]
  },
  {
   "cell_type": "code",
   "execution_count": 6,
   "id": "16997a79",
   "metadata": {},
   "outputs": [
    {
     "data": {
      "text/plain": [
       "(array(['AG', 'AR', 'BB', 'BL', 'BM', 'BO', 'BR', 'CA', 'CO', 'CU', 'CW',\n",
       "        'DO', 'EC', 'GL', 'GP', 'GT', 'GY', 'JM', 'KN', 'MX', 'NI', 'PA',\n",
       "        'PE', 'PM', 'SV', 'TT', 'US', 'UY', 'VC', 'VE', 'VI', 'BS', 'MF',\n",
       "        'FK'], dtype=object),\n",
       " 34)"
      ]
     },
     "execution_count": 6,
     "metadata": {},
     "output_type": "execute_result"
    }
   ],
   "source": [
    "americas_df.country.unique(), len(americas_df.country.unique())"
   ]
  },
  {
   "cell_type": "code",
   "execution_count": 7,
   "id": "4e0e766f",
   "metadata": {},
   "outputs": [
    {
     "data": {
      "text/html": [
       "<div>\n",
       "<style scoped>\n",
       "    .dataframe tbody tr th:only-of-type {\n",
       "        vertical-align: middle;\n",
       "    }\n",
       "\n",
       "    .dataframe tbody tr th {\n",
       "        vertical-align: top;\n",
       "    }\n",
       "\n",
       "    .dataframe thead th {\n",
       "        text-align: right;\n",
       "    }\n",
       "</style>\n",
       "<table border=\"1\" class=\"dataframe\">\n",
       "  <thead>\n",
       "    <tr style=\"text-align: right;\">\n",
       "      <th></th>\n",
       "      <th>FIPS code</th>\n",
       "      <th>Tone - Extractives &amp; Minerals</th>\n",
       "      <th>Month</th>\n",
       "    </tr>\n",
       "  </thead>\n",
       "  <tbody>\n",
       "    <tr>\n",
       "      <th>2947</th>\n",
       "      <td>AG</td>\n",
       "      <td>-0.276</td>\n",
       "      <td>Feb-22</td>\n",
       "    </tr>\n",
       "    <tr>\n",
       "      <th>2952</th>\n",
       "      <td>AR</td>\n",
       "      <td>0.658</td>\n",
       "      <td>Feb-22</td>\n",
       "    </tr>\n",
       "    <tr>\n",
       "      <th>2958</th>\n",
       "      <td>BB</td>\n",
       "      <td>-0.192</td>\n",
       "      <td>Feb-22</td>\n",
       "    </tr>\n",
       "    <tr>\n",
       "      <th>2966</th>\n",
       "      <td>BL</td>\n",
       "      <td>0.314</td>\n",
       "      <td>Feb-22</td>\n",
       "    </tr>\n",
       "    <tr>\n",
       "      <th>2967</th>\n",
       "      <td>BM</td>\n",
       "      <td>-0.926</td>\n",
       "      <td>Feb-22</td>\n",
       "    </tr>\n",
       "  </tbody>\n",
       "</table>\n",
       "</div>"
      ],
      "text/plain": [
       "     FIPS code  Tone - Extractives & Minerals   Month\n",
       "2947        AG                         -0.276  Feb-22\n",
       "2952        AR                          0.658  Feb-22\n",
       "2958        BB                         -0.192  Feb-22\n",
       "2966        BL                          0.314  Feb-22\n",
       "2967        BM                         -0.926  Feb-22"
      ]
     },
     "execution_count": 7,
     "metadata": {},
     "output_type": "execute_result"
    }
   ],
   "source": [
    "americas_df[\"Month\"] = americas_df.apply(lambda row: f\"{row.Month.capitalize()}-22\", axis = 1)\n",
    "americas_df.drop(columns=[\"Year\", \"country_name\", \"Predicted_Sector\"], inplace=True)\n",
    "americas_df.rename(columns={\"average_tone\": \"Tone - Extractives & Minerals\", \"country\": \"FIPS code\"}, inplace=True)\n",
    "americas_df.head()"
   ]
  },
  {
   "cell_type": "code",
   "execution_count": 8,
   "id": "beecd8af",
   "metadata": {},
   "outputs": [],
   "source": [
    "americas_df.to_excel(\"compiled_blog_tone_data.xlsx\")"
   ]
  },
  {
   "cell_type": "code",
   "execution_count": 9,
   "id": "15a51925",
   "metadata": {},
   "outputs": [
    {
     "data": {
      "text/plain": [
       "249"
      ]
     },
     "execution_count": 9,
     "metadata": {},
     "output_type": "execute_result"
    }
   ],
   "source": [
    "len(americas_df)"
   ]
  },
  {
   "cell_type": "code",
   "execution_count": 13,
   "id": "bcb64a36",
   "metadata": {},
   "outputs": [],
   "source": [
    "# for c in americas_df[\"FIPS code\"].unique():\n",
    "#     l = len(americas_df[americas_df[\"FIPS code\"] == c])\n",
    "#     print(c, l)\n",
    "#     if l < 8:\n",
    "#         print()\n",
    "#         print(americas_df[americas_df[\"FIPS code\"] == c])\n",
    "#         print()        "
   ]
  },
  {
   "cell_type": "code",
   "execution_count": null,
   "id": "9d5ab75b",
   "metadata": {},
   "outputs": [],
   "source": []
  }
 ],
 "metadata": {
  "kernelspec": {
   "display_name": "conda_pytorch_p38",
   "language": "python",
   "name": "conda_pytorch_p38"
  },
  "language_info": {
   "codemirror_mode": {
    "name": "ipython",
    "version": 3
   },
   "file_extension": ".py",
   "mimetype": "text/x-python",
   "name": "python",
   "nbconvert_exporter": "python",
   "pygments_lexer": "ipython3",
   "version": "3.8.12"
  }
 },
 "nbformat": 4,
 "nbformat_minor": 5
}
