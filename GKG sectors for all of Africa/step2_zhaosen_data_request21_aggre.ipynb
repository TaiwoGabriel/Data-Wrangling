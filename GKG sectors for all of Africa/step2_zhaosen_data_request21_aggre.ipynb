{
 "cells": [
  {
   "cell_type": "code",
   "execution_count": 2,
   "id": "5e1ef84f-e9b5-403a-8cac-da8ae20c16e6",
   "metadata": {
    "tags": []
   },
   "outputs": [],
   "source": [
    "%%capture\n",
    "!conda install -y fastprogress"
   ]
  },
  {
   "cell_type": "code",
   "execution_count": 3,
   "id": "2a4c4110-536b-4f35-a423-753d266a8b99",
   "metadata": {
    "tags": []
   },
   "outputs": [],
   "source": [
    "import pandas as pd\n",
    "import seaborn as sns\n",
    "import matplotlib.pyplot as plt\n",
    "import pickle\n",
    "from fastprogress.fastprogress import master_bar, progress_bar\n",
    "from collections import Counter, defaultdict\n",
    "import boto3, io, time, os\n",
    "from pathlib import Path\n",
    "\n",
    "import warnings\n",
    "warnings.filterwarnings(\"ignore\")"
   ]
  },
  {
   "cell_type": "code",
   "execution_count": 4,
   "id": "80215d70-ed74-46dc-80c6-9684232efe0e",
   "metadata": {},
   "outputs": [],
   "source": [
    "root_path = '/root/zhaosen_data/'\n",
    "data_path = root_path + \"data/\"\n",
    "visualizations_path = root_path + \"visualizations/\"\n",
    "data_specific_path = f\"{root_path}data_specific/\"\n",
    "visualizations_specific = f\"{root_path}visualizations_specific/\""
   ]
  },
  {
   "cell_type": "code",
   "execution_count": 5,
   "id": "db759dfb-fb03-4885-ba8f-4af46729969c",
   "metadata": {
    "tags": []
   },
   "outputs": [],
   "source": [
    "# scrape_years = [2015]\n",
    "# scrape_months = [\"05\"]\n",
    "\n",
    "scrape_years = [yr for yr in range(2015, 2023)]\n",
    "scrape_months = ['{:02d}'.format(mo) for mo in range(1, 13)] \n",
    "df_iter_dict = {}\n",
    "\n",
    "# This plot size is required for because of the high number of countries in the plot.\n",
    "# Please change it to a smaller figsize if required for other plots.\n",
    "sns.set(rc={'figure.figsize':(25,100)})"
   ]
  },
  {
   "cell_type": "code",
   "execution_count": 10,
   "id": "492180b0-5c01-40fa-bad3-1d20cf9cefc5",
   "metadata": {
    "tags": []
   },
   "outputs": [],
   "source": [
    "def return_all_files(bucket, parquet_folder_location):\n",
    "    \n",
    "    '''\n",
    "    Return a list of all parquet files in the s3 folder\n",
    "    Input: \n",
    "        bucket: s3 bucket location\n",
    "        parquet_folder_location: Location of parquet files inside the s3 bucket\n",
    "    Output:\n",
    "        files_list: List of tuples pairs of (bucket,file_name)\n",
    "    '''\n",
    "    \n",
    "    s3_client = boto3.Session()\n",
    "    s3 = s3_client.resource('s3')\n",
    "    my_bucket = s3.Bucket(bucket)\n",
    "    files_list = [(file.bucket_name, file.key) for file in my_bucket.objects.filter(Prefix = parquet_folder_location)]\n",
    "    return files_list\n",
    "\n",
    "def read_parquet_file(bucket, file_key):\n",
    "    \n",
    "    '''\n",
    "    Function that reads a given parquet file and returns the dataframe associated with it\n",
    "    Input: \n",
    "        bucket: s3 bucket location\n",
    "        file_key: file_name of parquet files inside the s3 bucket\n",
    "    Output:\n",
    "        df: Dataframe of the stored file contents\n",
    "    '''\n",
    "    \n",
    "    engine = 'pyarrow'\n",
    "    s3_client = boto3.client('s3')\n",
    "    obj = s3_client.get_object(Bucket=bucket, Key=file_key)\n",
    "    file = io.BytesIO(obj['Body'].read() )\n",
    "    df = pd.read_parquet(file)\n",
    "    return df\n",
    "\n",
    "# Convert the themes and orgs into lists so that they can be grouped\n",
    "def get_org_theme_list(row, extract = \"organization\"):\n",
    "    if row is None or len(row) == 0:\n",
    "        return []\n",
    "    answer = []\n",
    "    for item in row:\n",
    "        answer.append(item[extract])\n",
    "    return answer\n",
    "\n",
    "# aggregate the dfs\n",
    "def agg_dfs(new_df, old_df = None):\n",
    "    final_df = new_df if old_df is None else pd.concat([old_df, new_df])\n",
    "    return final_df.groupby(['country', 'Predicted_Sector']).agg({'organizations': 'sum', 'themes': 'sum', 'tone': 'sum', 'group_size': 'sum'}).reset_index()\n",
    "\n",
    "\n",
    "\n",
    "def save_df_to_s3(df, file_location, year, month, file_format):\n",
    "    S3_CLIENT = boto3.client('s3')\n",
    "    S3_BUCKET = 'sector-classification'\n",
    "    \n",
    "    assert file_format in (\"csv\", \"parquet\"), \"File format must be in {csv, parquet}\"\n",
    "\n",
    "    file_name = f\"tones{year}{month}.{file_format}\"\n",
    "    file_key = file_location + \"/\"  + file_name\n",
    "    if file_format == \"csv\":\n",
    "        with io.StringIO() as buffer:\n",
    "            df.to_csv(buffer, index=False)\n",
    "            response = S3_CLIENT.put_object(Bucket = S3_BUCKET, Key = file_key, Body = buffer.getvalue())\n",
    "    else:\n",
    "        with io.BytesIO() as buffer:\n",
    "            df.to_parquet(buffer, index=False)\n",
    "            response = S3_CLIENT.put_object(Bucket = S3_BUCKET, Key = file_key, Body = buffer.getvalue())\n",
    "\n",
    "    status = response.get(\"ResponseMetadata\", {}).get(\"HTTPStatusCode\")\n",
    "    success = \"Successful\" if status == 200 else \"Unsuccessful\"\n",
    "    print(f\"\\nCSV | {success} S3 put_object response. Status - {status}\\n\")"
   ]
  },
  {
   "cell_type": "code",
   "execution_count": 11,
   "id": "67253d88-97c4-4e18-be7d-baa45f45f77c",
   "metadata": {
    "tags": []
   },
   "outputs": [],
   "source": [
    "for year in scrape_years:\n",
    "    curr_viz_path = f\"{visualizations_path}{year}/\"\n",
    "    Path(curr_viz_path).mkdir(parents=True, exist_ok=True)\n",
    "    \n",
    "    for month in scrape_months:\n",
    "        if year == 2015 and int(month) < 3:\n",
    "            continue\n",
    "        if year == 2022 and int(month) > 10:\n",
    "            continue\n",
    "        curr_df_path = f\"{data_path}{year}/{month}/\"\n",
    "        Path(curr_df_path).mkdir(parents=True, exist_ok=True)\n",
    "        files_list = return_all_files('sector-classification', f\"Bert_Results_Africa_2015_2023/{year}/{month}\")\n",
    "        if len(files_list) > 0:\n",
    "            df_iter_dict[(year, month)] = files_list"
   ]
  },
  {
   "cell_type": "code",
   "execution_count": 12,
   "id": "4c17242c-85e7-46cb-be08-b2eea822cc99",
   "metadata": {
    "tags": []
   },
   "outputs": [
    {
     "name": "stdout",
     "output_type": "stream",
     "text": [
      "Fetching 30 files for 05 2015\n"
     ]
    },
    {
     "data": {
      "text/html": [
       "\n",
       "    <div>\n",
       "        <style>\n",
       "            /* Turns off some styling */\n",
       "            progress {\n",
       "                /* gets rid of default border in Firefox and Opera. */\n",
       "                border: none;\n",
       "                /* Needs to be in here for Safari polyfill so background images work as expected. */\n",
       "                background-size: auto;\n",
       "            }\n",
       "            .progress-bar-interrupted, .progress-bar-interrupted::-webkit-progress-bar {\n",
       "                background: #F44336;\n",
       "            }\n",
       "        </style>\n",
       "      <progress value='30' class='' max='30' style='width:300px; height:20px; vertical-align: middle;'></progress>\n",
       "      100.00% [30/30 03:19<00:00]\n",
       "    </div>\n",
       "    "
      ],
      "text/plain": [
       "<IPython.core.display.HTML object>"
      ]
     },
     "metadata": {},
     "output_type": "display_data"
    },
    {
     "name": "stdout",
     "output_type": "stream",
     "text": [
      "Total time taken:  3.332 mins\n",
      "\n",
      "CSV | Successful S3 put_object response. Status - 200\n",
      "\n"
     ]
    }
   ],
   "source": [
    "# fips_df = pd.read_excel(\"countries_to_consider.xls\")\n",
    "# fips_df = fips_df[fips_df['ccode'].notna()]\n",
    "# countries_df = dict(zip(fips_df.fips, fips_df.Countryname))           \n",
    "\n",
    "# fips_list_to_consider = list(countries_df.keys())\n",
    "for key, value in df_iter_dict.items():\n",
    "\n",
    "    year, month = key\n",
    "    curr_df_path = f\"{data_path}{year}/{month}/\"\n",
    "    curr_viz_path = f\"{visualizations_path}{year}/\"\n",
    "\n",
    "    fp = Path(f\"{curr_df_path}heatmap_df.pkl\")\n",
    "    # if fp.is_file():\n",
    "    #     print(f\"{month} {year} has already been processed. Skipping..\")\n",
    "    #     continue\n",
    "    heatmap_df = None\n",
    "    print(f\"Fetching {len(value)} files for {month} {year}\")\n",
    "    t0 = time.time()\n",
    "    for buck, curr_file in progress_bar(value):\n",
    "        if not curr_file.endswith(\".parquet\"):\n",
    "            print(f\"{curr_file} not valid, skipping..\")\n",
    "            continue\n",
    "        df = read_parquet_file(buck, curr_file)\n",
    "        df = df[[\"organizations\", \"themes\", \"tone\", \"country\", \"Predicted_Sector\"]]\n",
    "        df[\"tone\"] = df[\"tone\"].apply(lambda x: x[\"tone\"])\n",
    "        df = df.astype({'tone' : 'float64'})\n",
    "        # df = df[df['country'].isin(fips_list_to_consider)]\n",
    "        df['organizations'] = df['organizations'].apply(lambda row: get_org_theme_list(row))\n",
    "        df['themes'] = df['themes'].apply(lambda row: get_org_theme_list(row, extract = \"theme\"))\n",
    "        df[\"group_size\"] = 1\n",
    "        df = agg_dfs(df)\n",
    "        heatmap_df = df.copy() if heatmap_df is None else agg_dfs(df.copy(), heatmap_df)\n",
    "        del df\n",
    "    print(\"Total time taken: \",round((time.time() - t0)/60, 3), \"mins\")\n",
    "    heatmap_df[\"average_tone\"] = heatmap_df.apply(lambda row: round((row.tone / row.group_size),3), axis=1)\n",
    "    heatmap_df[\"country_name\"] = 0\n",
    "    heatmap_df[\"organizations\"] = heatmap_df[\"organizations\"].apply(lambda x: Counter(x))\n",
    "    heatmap_df[\"themes\"] = heatmap_df[\"themes\"].apply(lambda x: Counter(x))\n",
    "    # heatmap_df.to_pickle(f\"{curr_df_path}heatmap_df.pkl\")\n",
    "    # heatmap_df = heatmap_df[['country', 'Predicted_Sector', 'average_tone']]\n",
    "    # pivot = heatmap_df.pivot(index='country', columns='Predicted_Sector', values='average_tone')\n",
    "    # pivot.to_pickle(f\"{curr_df_path}heatmap_pivot_df.pkl\")\n",
    "    # print(f\"Data Saved to: {curr_df_path}heatmap_pivot_df.pkl\")\n",
    "    # print(\"Data stored. Saving Heatmap..\")\n",
    "    # plt.clf()\n",
    "    # ax = sns.heatmap(pivot, annot=True, cmap=\"Blues_r\")\n",
    "    # plt.savefig(f\"{curr_viz_path}{month.lower()}_heatmap.png\", bbox_inches='tight')\n",
    "    # del pivot, heatmap_df\n",
    "    \n",
    "#     current_month_to_plot, current_year_to_plot = month, year\n",
    "\n",
    "#     year, month = current_year_to_plot, current_month_to_plot\n",
    "    # curr_only_df_path = f\"{data_path}{year}/{month}\"\n",
    "    # curr_viz_path = f\"{visualizations_specific}{year}/{month}/\"\n",
    "    # Path(curr_df_path).mkdir(parents=True, exist_ok=True)\n",
    "    # fp = Path(f\"{curr_only_df_path}/heatmap_df.pkl\")\n",
    "\n",
    "    grouped_df = heatmap_df.copy()\n",
    "\n",
    "    tones_df = grouped_df.drop(['organizations', 'themes', 'tone', 'country_name'], axis=1)\n",
    "    tones_df[\"Month\"] = int(month)\n",
    "    tones_df[\"Year\"] = year\n",
    "\n",
    "    # Pivot the 'predicted_sector' column into new columns based on 'group_size' and 'average_tone'\n",
    "    pivot_df = tones_df.pivot_table(index=['country', 'Month', 'Year'], columns='Predicted_Sector', values=['group_size', 'average_tone'])\n",
    "\n",
    "    # Flatten multi-level column index\n",
    "    pivot_df.columns = [' '.join(col[::-1]).strip() for col in pivot_df.columns.values]\n",
    "\n",
    "    # Add two new columns for the sum of group_size and the weighted average of average_tone\n",
    "    pivot_df['total'] = pivot_df.filter(regex='group_size').sum(axis=1)\n",
    "    pivot_df['total_average'] = pivot_df.filter(regex='average_tone').multiply((pivot_df.filter(regex='group_size')).values).sum(axis=1) / pivot_df['total']\n",
    "\n",
    "    pivot_df = pivot_df.reset_index()\n",
    "\n",
    "    save_df_to_s3(df=pivot_df, file_location='Bert_Results_Africa_2015_2023/aggregated_results', year=year, month=month, file_format=\"csv\")\n",
    "    # pivot_df.to_csv(f\"{root_path}/final_data/tones{year}{month}.csv\", index=False)\n"
   ]
  },
  {
   "cell_type": "code",
   "execution_count": null,
   "id": "74216199-450e-41fb-9ca1-c10d9c818fa2",
   "metadata": {},
   "outputs": [],
   "source": []
  },
  {
   "cell_type": "code",
   "execution_count": 34,
   "id": "7a742cfd-46b2-4ca6-b581-63d43a34428e",
   "metadata": {
    "tags": []
   },
   "outputs": [],
   "source": [
    "\n",
    "# for year in scrape_years:\n",
    "#     for month in scrape_months:\n",
    "#         if year == 2015 and int(month) < 3:\n",
    "#             continue\n",
    "#         if year == 2022 and int(month) > 10:\n",
    "#             continue\n",
    "\n"
   ]
  },
  {
   "cell_type": "code",
   "execution_count": null,
   "id": "f35706d6-ce39-483d-a88a-997a3b4ba0a8",
   "metadata": {},
   "outputs": [],
   "source": []
  }
 ],
 "metadata": {
  "availableInstances": [
   {
    "_defaultOrder": 0,
    "_isFastLaunch": true,
    "category": "General purpose",
    "gpuNum": 0,
    "memoryGiB": 4,
    "name": "ml.t3.medium",
    "vcpuNum": 2
   },
   {
    "_defaultOrder": 1,
    "_isFastLaunch": false,
    "category": "General purpose",
    "gpuNum": 0,
    "memoryGiB": 8,
    "name": "ml.t3.large",
    "vcpuNum": 2
   },
   {
    "_defaultOrder": 2,
    "_isFastLaunch": false,
    "category": "General purpose",
    "gpuNum": 0,
    "memoryGiB": 16,
    "name": "ml.t3.xlarge",
    "vcpuNum": 4
   },
   {
    "_defaultOrder": 3,
    "_isFastLaunch": false,
    "category": "General purpose",
    "gpuNum": 0,
    "memoryGiB": 32,
    "name": "ml.t3.2xlarge",
    "vcpuNum": 8
   },
   {
    "_defaultOrder": 4,
    "_isFastLaunch": true,
    "category": "General purpose",
    "gpuNum": 0,
    "memoryGiB": 8,
    "name": "ml.m5.large",
    "vcpuNum": 2
   },
   {
    "_defaultOrder": 5,
    "_isFastLaunch": false,
    "category": "General purpose",
    "gpuNum": 0,
    "memoryGiB": 16,
    "name": "ml.m5.xlarge",
    "vcpuNum": 4
   },
   {
    "_defaultOrder": 6,
    "_isFastLaunch": false,
    "category": "General purpose",
    "gpuNum": 0,
    "memoryGiB": 32,
    "name": "ml.m5.2xlarge",
    "vcpuNum": 8
   },
   {
    "_defaultOrder": 7,
    "_isFastLaunch": false,
    "category": "General purpose",
    "gpuNum": 0,
    "memoryGiB": 64,
    "name": "ml.m5.4xlarge",
    "vcpuNum": 16
   },
   {
    "_defaultOrder": 8,
    "_isFastLaunch": false,
    "category": "General purpose",
    "gpuNum": 0,
    "memoryGiB": 128,
    "name": "ml.m5.8xlarge",
    "vcpuNum": 32
   },
   {
    "_defaultOrder": 9,
    "_isFastLaunch": false,
    "category": "General purpose",
    "gpuNum": 0,
    "memoryGiB": 192,
    "name": "ml.m5.12xlarge",
    "vcpuNum": 48
   },
   {
    "_defaultOrder": 10,
    "_isFastLaunch": false,
    "category": "General purpose",
    "gpuNum": 0,
    "memoryGiB": 256,
    "name": "ml.m5.16xlarge",
    "vcpuNum": 64
   },
   {
    "_defaultOrder": 11,
    "_isFastLaunch": false,
    "category": "General purpose",
    "gpuNum": 0,
    "memoryGiB": 384,
    "name": "ml.m5.24xlarge",
    "vcpuNum": 96
   },
   {
    "_defaultOrder": 12,
    "_isFastLaunch": false,
    "category": "General purpose",
    "gpuNum": 0,
    "memoryGiB": 8,
    "name": "ml.m5d.large",
    "vcpuNum": 2
   },
   {
    "_defaultOrder": 13,
    "_isFastLaunch": false,
    "category": "General purpose",
    "gpuNum": 0,
    "memoryGiB": 16,
    "name": "ml.m5d.xlarge",
    "vcpuNum": 4
   },
   {
    "_defaultOrder": 14,
    "_isFastLaunch": false,
    "category": "General purpose",
    "gpuNum": 0,
    "memoryGiB": 32,
    "name": "ml.m5d.2xlarge",
    "vcpuNum": 8
   },
   {
    "_defaultOrder": 15,
    "_isFastLaunch": false,
    "category": "General purpose",
    "gpuNum": 0,
    "memoryGiB": 64,
    "name": "ml.m5d.4xlarge",
    "vcpuNum": 16
   },
   {
    "_defaultOrder": 16,
    "_isFastLaunch": false,
    "category": "General purpose",
    "gpuNum": 0,
    "memoryGiB": 128,
    "name": "ml.m5d.8xlarge",
    "vcpuNum": 32
   },
   {
    "_defaultOrder": 17,
    "_isFastLaunch": false,
    "category": "General purpose",
    "gpuNum": 0,
    "memoryGiB": 192,
    "name": "ml.m5d.12xlarge",
    "vcpuNum": 48
   },
   {
    "_defaultOrder": 18,
    "_isFastLaunch": false,
    "category": "General purpose",
    "gpuNum": 0,
    "memoryGiB": 256,
    "name": "ml.m5d.16xlarge",
    "vcpuNum": 64
   },
   {
    "_defaultOrder": 19,
    "_isFastLaunch": false,
    "category": "General purpose",
    "gpuNum": 0,
    "memoryGiB": 384,
    "name": "ml.m5d.24xlarge",
    "vcpuNum": 96
   },
   {
    "_defaultOrder": 20,
    "_isFastLaunch": true,
    "category": "Compute optimized",
    "gpuNum": 0,
    "memoryGiB": 4,
    "name": "ml.c5.large",
    "vcpuNum": 2
   },
   {
    "_defaultOrder": 21,
    "_isFastLaunch": false,
    "category": "Compute optimized",
    "gpuNum": 0,
    "memoryGiB": 8,
    "name": "ml.c5.xlarge",
    "vcpuNum": 4
   },
   {
    "_defaultOrder": 22,
    "_isFastLaunch": false,
    "category": "Compute optimized",
    "gpuNum": 0,
    "memoryGiB": 16,
    "name": "ml.c5.2xlarge",
    "vcpuNum": 8
   },
   {
    "_defaultOrder": 23,
    "_isFastLaunch": false,
    "category": "Compute optimized",
    "gpuNum": 0,
    "memoryGiB": 32,
    "name": "ml.c5.4xlarge",
    "vcpuNum": 16
   },
   {
    "_defaultOrder": 24,
    "_isFastLaunch": false,
    "category": "Compute optimized",
    "gpuNum": 0,
    "memoryGiB": 72,
    "name": "ml.c5.9xlarge",
    "vcpuNum": 36
   },
   {
    "_defaultOrder": 25,
    "_isFastLaunch": false,
    "category": "Compute optimized",
    "gpuNum": 0,
    "memoryGiB": 96,
    "name": "ml.c5.12xlarge",
    "vcpuNum": 48
   },
   {
    "_defaultOrder": 26,
    "_isFastLaunch": false,
    "category": "Compute optimized",
    "gpuNum": 0,
    "memoryGiB": 144,
    "name": "ml.c5.18xlarge",
    "vcpuNum": 72
   },
   {
    "_defaultOrder": 27,
    "_isFastLaunch": false,
    "category": "Compute optimized",
    "gpuNum": 0,
    "memoryGiB": 192,
    "name": "ml.c5.24xlarge",
    "vcpuNum": 96
   },
   {
    "_defaultOrder": 28,
    "_isFastLaunch": true,
    "category": "Accelerated computing",
    "gpuNum": 1,
    "memoryGiB": 16,
    "name": "ml.g4dn.xlarge",
    "vcpuNum": 4
   },
   {
    "_defaultOrder": 29,
    "_isFastLaunch": false,
    "category": "Accelerated computing",
    "gpuNum": 1,
    "memoryGiB": 32,
    "name": "ml.g4dn.2xlarge",
    "vcpuNum": 8
   },
   {
    "_defaultOrder": 30,
    "_isFastLaunch": false,
    "category": "Accelerated computing",
    "gpuNum": 1,
    "memoryGiB": 64,
    "name": "ml.g4dn.4xlarge",
    "vcpuNum": 16
   },
   {
    "_defaultOrder": 31,
    "_isFastLaunch": false,
    "category": "Accelerated computing",
    "gpuNum": 1,
    "memoryGiB": 128,
    "name": "ml.g4dn.8xlarge",
    "vcpuNum": 32
   },
   {
    "_defaultOrder": 32,
    "_isFastLaunch": false,
    "category": "Accelerated computing",
    "gpuNum": 4,
    "memoryGiB": 192,
    "name": "ml.g4dn.12xlarge",
    "vcpuNum": 48
   },
   {
    "_defaultOrder": 33,
    "_isFastLaunch": false,
    "category": "Accelerated computing",
    "gpuNum": 1,
    "memoryGiB": 256,
    "name": "ml.g4dn.16xlarge",
    "vcpuNum": 64
   },
   {
    "_defaultOrder": 34,
    "_isFastLaunch": false,
    "category": "Accelerated computing",
    "gpuNum": 1,
    "memoryGiB": 61,
    "name": "ml.p3.2xlarge",
    "vcpuNum": 8
   },
   {
    "_defaultOrder": 35,
    "_isFastLaunch": false,
    "category": "Accelerated computing",
    "gpuNum": 4,
    "memoryGiB": 244,
    "name": "ml.p3.8xlarge",
    "vcpuNum": 32
   },
   {
    "_defaultOrder": 36,
    "_isFastLaunch": false,
    "category": "Accelerated computing",
    "gpuNum": 8,
    "memoryGiB": 488,
    "name": "ml.p3.16xlarge",
    "vcpuNum": 64
   },
   {
    "_defaultOrder": 37,
    "_isFastLaunch": false,
    "category": "Accelerated computing",
    "gpuNum": 8,
    "memoryGiB": 768,
    "name": "ml.p3dn.24xlarge",
    "vcpuNum": 96
   },
   {
    "_defaultOrder": 38,
    "_isFastLaunch": false,
    "category": "Memory Optimized",
    "gpuNum": 0,
    "memoryGiB": 16,
    "name": "ml.r5.large",
    "vcpuNum": 2
   },
   {
    "_defaultOrder": 39,
    "_isFastLaunch": false,
    "category": "Memory Optimized",
    "gpuNum": 0,
    "memoryGiB": 32,
    "name": "ml.r5.xlarge",
    "vcpuNum": 4
   },
   {
    "_defaultOrder": 40,
    "_isFastLaunch": false,
    "category": "Memory Optimized",
    "gpuNum": 0,
    "memoryGiB": 64,
    "name": "ml.r5.2xlarge",
    "vcpuNum": 8
   },
   {
    "_defaultOrder": 41,
    "_isFastLaunch": false,
    "category": "Memory Optimized",
    "gpuNum": 0,
    "memoryGiB": 128,
    "name": "ml.r5.4xlarge",
    "vcpuNum": 16
   },
   {
    "_defaultOrder": 42,
    "_isFastLaunch": false,
    "category": "Memory Optimized",
    "gpuNum": 0,
    "memoryGiB": 256,
    "name": "ml.r5.8xlarge",
    "vcpuNum": 32
   },
   {
    "_defaultOrder": 43,
    "_isFastLaunch": false,
    "category": "Memory Optimized",
    "gpuNum": 0,
    "memoryGiB": 384,
    "name": "ml.r5.12xlarge",
    "vcpuNum": 48
   },
   {
    "_defaultOrder": 44,
    "_isFastLaunch": false,
    "category": "Memory Optimized",
    "gpuNum": 0,
    "memoryGiB": 512,
    "name": "ml.r5.16xlarge",
    "vcpuNum": 64
   },
   {
    "_defaultOrder": 45,
    "_isFastLaunch": false,
    "category": "Memory Optimized",
    "gpuNum": 0,
    "memoryGiB": 768,
    "name": "ml.r5.24xlarge",
    "vcpuNum": 96
   },
   {
    "_defaultOrder": 46,
    "_isFastLaunch": false,
    "category": "Accelerated computing",
    "gpuNum": 1,
    "memoryGiB": 16,
    "name": "ml.g5.xlarge",
    "vcpuNum": 4
   },
   {
    "_defaultOrder": 47,
    "_isFastLaunch": false,
    "category": "Accelerated computing",
    "gpuNum": 1,
    "memoryGiB": 32,
    "name": "ml.g5.2xlarge",
    "vcpuNum": 8
   },
   {
    "_defaultOrder": 48,
    "_isFastLaunch": false,
    "category": "Accelerated computing",
    "gpuNum": 1,
    "memoryGiB": 64,
    "name": "ml.g5.4xlarge",
    "vcpuNum": 16
   },
   {
    "_defaultOrder": 49,
    "_isFastLaunch": false,
    "category": "Accelerated computing",
    "gpuNum": 1,
    "memoryGiB": 128,
    "name": "ml.g5.8xlarge",
    "vcpuNum": 32
   },
   {
    "_defaultOrder": 50,
    "_isFastLaunch": false,
    "category": "Accelerated computing",
    "gpuNum": 1,
    "memoryGiB": 256,
    "name": "ml.g5.16xlarge",
    "vcpuNum": 64
   },
   {
    "_defaultOrder": 51,
    "_isFastLaunch": false,
    "category": "Accelerated computing",
    "gpuNum": 4,
    "memoryGiB": 192,
    "name": "ml.g5.12xlarge",
    "vcpuNum": 48
   },
   {
    "_defaultOrder": 52,
    "_isFastLaunch": false,
    "category": "Accelerated computing",
    "gpuNum": 4,
    "memoryGiB": 384,
    "name": "ml.g5.24xlarge",
    "vcpuNum": 96
   },
   {
    "_defaultOrder": 53,
    "_isFastLaunch": false,
    "category": "Accelerated computing",
    "gpuNum": 8,
    "memoryGiB": 768,
    "name": "ml.g5.48xlarge",
    "vcpuNum": 192
   }
  ],
  "instance_type": "ml.r5.2xlarge",
  "kernelspec": {
   "display_name": "Python 3 (Data Science)",
   "language": "python",
   "name": "python3__SAGEMAKER_INTERNAL__arn:aws:sagemaker:us-east-1:081325390199:image/datascience-1.0"
  },
  "language_info": {
   "codemirror_mode": {
    "name": "ipython",
    "version": 3
   },
   "file_extension": ".py",
   "mimetype": "text/x-python",
   "name": "python",
   "nbconvert_exporter": "python",
   "pygments_lexer": "ipython3",
   "version": "3.7.10"
  }
 },
 "nbformat": 4,
 "nbformat_minor": 5
}
