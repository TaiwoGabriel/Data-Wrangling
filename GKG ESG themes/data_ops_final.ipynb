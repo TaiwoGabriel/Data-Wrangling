{
 "cells": [
  {
   "cell_type": "code",
   "execution_count": 1,
   "id": "fa4c381b-ae6a-4acd-ae6e-aabb989e056f",
   "metadata": {
    "execution": {
     "iopub.execute_input": "2022-11-10T19:44:27.331416Z",
     "iopub.status.busy": "2022-11-10T19:44:27.331149Z",
     "iopub.status.idle": "2022-11-10T19:44:27.348793Z",
     "shell.execute_reply": "2022-11-10T19:44:27.348103Z",
     "shell.execute_reply.started": "2022-11-10T19:44:27.331384Z"
    },
    "tags": []
   },
   "outputs": [
    {
     "data": {
      "text/html": [
       "Current session configs: <tt>{'conf': {'spark.pyspark.python': 'python', 'spark.pyspark.virtualenv.enabled': 'true', 'spark.pyspark.virtualenv.type': 'native', 'spark.pyspark.virtualenv.bin.path': '/usr/bin/virtualenv', 'spark.driver.maxResultSize': '0'}, 'driverMemory': '100000M', 'proxyUser': 'assumed-role_AdministratorAccess_atharva_upenn_edu', 'kind': 'pyspark'}</tt><br>"
      ],
      "text/plain": [
       "<IPython.core.display.HTML object>"
      ]
     },
     "metadata": {},
     "output_type": "display_data"
    },
    {
     "data": {
      "text/html": [
       "No active sessions."
      ],
      "text/plain": [
       "<IPython.core.display.HTML object>"
      ]
     },
     "metadata": {},
     "output_type": "display_data"
    }
   ],
   "source": [
    "%%configure -f\n",
    "{ \"conf\":{\n",
    "          \"spark.pyspark.python\": \"python\",\n",
    "          \"spark.pyspark.virtualenv.enabled\": \"true\",\n",
    "          \"spark.pyspark.virtualenv.type\":\"native\",\n",
    "          \"spark.pyspark.virtualenv.bin.path\":\"/usr/bin/virtualenv\",\n",
    "          \"spark.driver.maxResultSize\":\"0\"\n",
    "         },\n",
    " \"driverMemory\": \"100000M\"\n",
    "}"
   ]
  },
  {
   "cell_type": "code",
   "execution_count": 2,
   "id": "c48f06c7-003b-4f39-a31a-4d3b95aa33b1",
   "metadata": {
    "execution": {
     "iopub.execute_input": "2022-11-10T19:44:28.380642Z",
     "iopub.status.busy": "2022-11-10T19:44:28.380374Z",
     "iopub.status.idle": "2022-11-10T19:45:19.274098Z",
     "shell.execute_reply": "2022-11-10T19:45:19.273517Z",
     "shell.execute_reply.started": "2022-11-10T19:44:28.380612Z"
    }
   },
   "outputs": [
    {
     "data": {
      "application/vnd.jupyter.widget-view+json": {
       "model_id": "5d281d5e2769491284867af0996cd05a",
       "version_major": 2,
       "version_minor": 0
      },
      "text/plain": [
       "VBox()"
      ]
     },
     "metadata": {},
     "output_type": "display_data"
    },
    {
     "name": "stdout",
     "output_type": "stream",
     "text": [
      "Starting Spark application\n"
     ]
    },
    {
     "data": {
      "text/html": [
       "<table>\n",
       "<tr><th>ID</th><th>YARN Application ID</th><th>Kind</th><th>State</th><th>Spark UI</th><th>Driver log</th><th>User</th><th>Current session?</th></tr><tr><td>35</td><td>application_1668092583877_0036</td><td>pyspark</td><td>idle</td><td><a target=\"_blank\" href=\"http://ip-172-31-92-166.ec2.internal:20888/proxy/application_1668092583877_0036/\" class=\"emr-proxy-link\" emr-resource=\"j-27VHNJQABU2LT\n",
       "\" application-id=\"application_1668092583877_0036\">Link</a></td><td><a target=\"_blank\" href=\"http://ip-172-31-89-131.ec2.internal:8042/node/containerlogs/container_1668092583877_0036_01_000001/livy\" >Link</a></td><td>None</td><td>✔</td></tr></table>"
      ],
      "text/plain": [
       "<IPython.core.display.HTML object>"
      ]
     },
     "metadata": {},
     "output_type": "display_data"
    },
    {
     "data": {
      "application/vnd.jupyter.widget-view+json": {
       "model_id": "",
       "version_major": 2,
       "version_minor": 0
      },
      "text/plain": [
       "FloatProgress(value=0.0, bar_style='info', description='Progress:', layout=Layout(height='25px', width='50%'),…"
      ]
     },
     "metadata": {},
     "output_type": "display_data"
    },
    {
     "name": "stdout",
     "output_type": "stream",
     "text": [
      "SparkSession available as 'spark'.\n"
     ]
    },
    {
     "data": {
      "application/vnd.jupyter.widget-view+json": {
       "model_id": "",
       "version_major": 2,
       "version_minor": 0
      },
      "text/plain": [
       "FloatProgress(value=0.0, bar_style='info', description='Progress:', layout=Layout(height='25px', width='50%'),…"
      ]
     },
     "metadata": {},
     "output_type": "display_data"
    },
    {
     "name": "stdout",
     "output_type": "stream",
     "text": [
      "Collecting pandas==0.24.2\n",
      "  Using cached https://files.pythonhosted.org/packages/db/83/7d4008ffc2988066ff37f6a0bb6d7b60822367dcb36ba5e39aa7801fda54/pandas-0.24.2-cp27-cp27mu-manylinux1_x86_64.whl\n",
      "Requirement already satisfied: python-dateutil>=2.5.0 in /usr/lib/python2.7/site-packages (from pandas==0.24.2)\n",
      "Requirement already satisfied: numpy>=1.12.0 in /usr/lib64/python2.7/site-packages (from pandas==0.24.2)\n",
      "Collecting pytz>=2011k (from pandas==0.24.2)\n",
      "  Using cached https://files.pythonhosted.org/packages/85/ac/92f998fc52a70afd7f6b788142632afb27cd60c8c782d1452b7466603332/pytz-2022.6-py2.py3-none-any.whl\n",
      "Requirement already satisfied: six>=1.5 in /usr/lib/python2.7/site-packages (from python-dateutil>=2.5.0->pandas==0.24.2)\n",
      "Installing collected packages: pytz, pandas\n",
      "Successfully installed pandas-0.24.2 pytz-2022.6\n",
      "\n",
      "Collecting boto3\n",
      "  Using cached https://files.pythonhosted.org/packages/5a/fd/d814f9cbefebbea88977628d11b860b5d564ba6f16f64c378e2da2a36405/boto3-1.17.112-py2.py3-none-any.whl\n",
      "Collecting s3transfer<0.5.0,>=0.4.0 (from boto3)\n",
      "  Using cached https://files.pythonhosted.org/packages/63/d0/693477c688348654ddc21dcdce0817653a294aa43f41771084c25e7ff9c7/s3transfer-0.4.2-py2.py3-none-any.whl\n",
      "Requirement already satisfied: jmespath<1.0.0,>=0.7.1 in /usr/lib/python2.7/site-packages (from boto3)\n",
      "Collecting botocore<1.21.0,>=1.20.112 (from boto3)\n",
      "  Using cached https://files.pythonhosted.org/packages/c7/ea/11c3beca131920f552602b98d7ba9fc5b46bee6a59cbd48a95a85cbb8f41/botocore-1.20.112-py2.py3-none-any.whl\n",
      "Requirement already satisfied: futures<4.0.0,>=2.2.0; python_version == \"2.7\" in /usr/lib/python2.7/site-packages (from s3transfer<0.5.0,>=0.4.0->boto3)\n",
      "Requirement already satisfied: urllib3<1.27,>=1.25.4 in /usr/lib/python2.7/site-packages (from botocore<1.21.0,>=1.20.112->boto3)\n",
      "Requirement already satisfied: python-dateutil<3.0.0,>=2.1 in /usr/lib/python2.7/site-packages (from botocore<1.21.0,>=1.20.112->boto3)\n",
      "Requirement already satisfied: six>=1.5 in /usr/lib/python2.7/site-packages (from python-dateutil<3.0.0,>=2.1->botocore<1.21.0,>=1.20.112->boto3)\n",
      "Installing collected packages: botocore, s3transfer, boto3\n",
      "  Found existing installation: botocore 1.18.6\n",
      "    Not uninstalling botocore at /usr/lib/python2.7/site-packages, outside environment /tmp/1668109489710-0\n",
      "  Found existing installation: s3transfer 0.3.3\n",
      "    Not uninstalling s3transfer at /usr/lib/python2.7/site-packages, outside environment /tmp/1668109489710-0\n",
      "Successfully installed boto3-1.17.112 botocore-1.20.112 s3transfer-0.4.2\n",
      "\n",
      "Collecting s3fs\n",
      "Requirement already satisfied: botocore>=1.12.91 in /mnt/tmp/1668109489710-0/lib/python2.7/site-packages (from s3fs)\n",
      "Collecting six>=1.12.0 (from s3fs)\n",
      "  Using cached https://files.pythonhosted.org/packages/d9/5a/e7c31adbe875f2abbb91bd84cf2dc52d792b5a01506781dbcf25c91daf11/six-1.16.0-py2.py3-none-any.whl\n",
      "Requirement already satisfied: boto3>=1.9.91 in /mnt/tmp/1668109489710-0/lib/python2.7/site-packages (from s3fs)\n",
      "Requirement already satisfied: urllib3<1.27,>=1.25.4 in /usr/lib/python2.7/site-packages (from botocore>=1.12.91->s3fs)\n",
      "Requirement already satisfied: jmespath<1.0.0,>=0.7.1 in /usr/lib/python2.7/site-packages (from botocore>=1.12.91->s3fs)\n",
      "Requirement already satisfied: python-dateutil<3.0.0,>=2.1 in /usr/lib/python2.7/site-packages (from botocore>=1.12.91->s3fs)\n",
      "Requirement already satisfied: s3transfer<0.5.0,>=0.4.0 in /mnt/tmp/1668109489710-0/lib/python2.7/site-packages (from boto3>=1.9.91->s3fs)\n",
      "Requirement already satisfied: futures<4.0.0,>=2.2.0; python_version == \"2.7\" in /usr/lib/python2.7/site-packages (from s3transfer<0.5.0,>=0.4.0->boto3>=1.9.91->s3fs)\n",
      "Installing collected packages: six, s3fs\n",
      "  Found existing installation: six 1.9.0\n",
      "    Not uninstalling six at /usr/lib/python2.7/site-packages, outside environment /tmp/1668109489710-0\n",
      "Successfully installed s3fs-0.2.2 six-1.16.0\n",
      "\n",
      "You are using pip version 9.0.1, however version 22.3.1 is available.\n",
      "You should consider upgrading via the 'pip install --upgrade pip' command.\n",
      "\n",
      "You are using pip version 9.0.1, however version 22.3.1 is available.\n",
      "You should consider upgrading via the 'pip install --upgrade pip' command.\n",
      "\n",
      "You are using pip version 9.0.1, however version 22.3.1 is available.\n",
      "You should consider upgrading via the 'pip install --upgrade pip' command."
     ]
    }
   ],
   "source": [
    "sc.install_pypi_package(\"pandas==0.24.2\")\n",
    "sc.install_pypi_package(\"boto3\")\n",
    "sc.install_pypi_package(\"s3fs\")"
   ]
  },
  {
   "cell_type": "code",
   "execution_count": 3,
   "id": "d40883e7-17f0-4a10-964c-eeb400a84334",
   "metadata": {
    "execution": {
     "iopub.execute_input": "2022-11-10T19:45:19.275368Z",
     "iopub.status.busy": "2022-11-10T19:45:19.275172Z",
     "iopub.status.idle": "2022-11-10T19:45:19.330387Z",
     "shell.execute_reply": "2022-11-10T19:45:19.329827Z",
     "shell.execute_reply.started": "2022-11-10T19:45:19.275340Z"
    },
    "tags": []
   },
   "outputs": [
    {
     "data": {
      "application/vnd.jupyter.widget-view+json": {
       "model_id": "34082c33fff14177a13980b78bd7af7d",
       "version_major": 2,
       "version_minor": 0
      },
      "text/plain": [
       "VBox()"
      ]
     },
     "metadata": {},
     "output_type": "display_data"
    },
    {
     "data": {
      "application/vnd.jupyter.widget-view+json": {
       "model_id": "",
       "version_major": 2,
       "version_minor": 0
      },
      "text/plain": [
       "FloatProgress(value=0.0, bar_style='info', description='Progress:', layout=Layout(height='25px', width='50%'),…"
      ]
     },
     "metadata": {},
     "output_type": "display_data"
    },
    {
     "name": "stdout",
     "output_type": "stream",
     "text": [
      "100000M\n",
      "livy-session-35\n",
      "client\n",
      "None\n",
      "None\n",
      "true\n",
      "0\n",
      "('spark.yarn.executor.memoryOverhead', ':', None)\n",
      "('spark.sql.shuffle.partitions', ':', None)"
     ]
    }
   ],
   "source": [
    "confs = [\"spark.yarn.executor.memoryOverhead\",\"spark.sql.shuffle.partitions\"]\n",
    "print(sc._conf.get('spark.driver.memory'))\n",
    "print(sc._conf.get('spark.app.name'))\n",
    "print(sc._conf.get('spark.submit.deployMode'))\n",
    "print(sc._conf.get(\"spark.yarn.executor.memoryOverhead\"))\n",
    "print(sc._conf.get(\"spark.sql.files.maxPartitionBytes\"))\n",
    "print(sc._conf.get(\"spark.pyspark.virtualenv.enabled\"))\n",
    "print(sc._conf.get(\"spark.driver.maxResultSize\"))\n",
    "for conf in confs:\n",
    "    print(conf,\":\",sc._conf.get(conf))"
   ]
  },
  {
   "cell_type": "code",
   "execution_count": 4,
   "id": "b9367027-18c2-4309-b140-090b4b7f4aab",
   "metadata": {
    "execution": {
     "iopub.execute_input": "2022-11-10T19:45:19.331940Z",
     "iopub.status.busy": "2022-11-10T19:45:19.331746Z",
     "iopub.status.idle": "2022-11-10T19:45:20.091161Z",
     "shell.execute_reply": "2022-11-10T19:45:20.090578Z",
     "shell.execute_reply.started": "2022-11-10T19:45:19.331913Z"
    }
   },
   "outputs": [
    {
     "data": {
      "application/vnd.jupyter.widget-view+json": {
       "model_id": "4991906fc80843a7932d72ef3a62bdc1",
       "version_major": 2,
       "version_minor": 0
      },
      "text/plain": [
       "VBox()"
      ]
     },
     "metadata": {},
     "output_type": "display_data"
    },
    {
     "data": {
      "application/vnd.jupyter.widget-view+json": {
       "model_id": "",
       "version_major": 2,
       "version_minor": 0
      },
      "text/plain": [
       "FloatProgress(value=0.0, bar_style='info', description='Progress:', layout=Layout(height='25px', width='50%'),…"
      ]
     },
     "metadata": {},
     "output_type": "display_data"
    }
   ],
   "source": [
    "from pyspark import SparkContext\n",
    "from pyspark.sql import SQLContext\n",
    "from pyspark import SparkConf\n",
    "from pyspark.sql import SparkSession\n",
    "from pyspark.sql.functions import year, month, dayofmonth, to_date\n",
    "from pyspark.sql.functions import udf\n",
    "from pyspark.sql.types import StringType, ArrayType, MapType, IntegerType\n",
    "from pyspark.sql.types import *\n",
    "from pyspark.sql import functions as F\n",
    "from collections import Counter\n",
    "import pyspark\n",
    "import pandas as pd\n",
    "import re\n",
    "import s3fs\n",
    "import boto3"
   ]
  },
  {
   "cell_type": "code",
   "execution_count": 5,
   "id": "8a821849-9261-4e58-96ab-f231fd86647d",
   "metadata": {
    "execution": {
     "iopub.execute_input": "2022-11-10T19:45:20.092622Z",
     "iopub.status.busy": "2022-11-10T19:45:20.092415Z",
     "iopub.status.idle": "2022-11-10T19:45:31.456077Z",
     "shell.execute_reply": "2022-11-10T19:45:31.455358Z",
     "shell.execute_reply.started": "2022-11-10T19:45:20.092593Z"
    }
   },
   "outputs": [
    {
     "data": {
      "application/vnd.jupyter.widget-view+json": {
       "model_id": "7020a8fdabf2460fb29d57c5d9a1b27f",
       "version_major": 2,
       "version_minor": 0
      },
      "text/plain": [
       "VBox()"
      ]
     },
     "metadata": {},
     "output_type": "display_data"
    },
    {
     "data": {
      "application/vnd.jupyter.widget-view+json": {
       "model_id": "",
       "version_major": 2,
       "version_minor": 0
      },
      "text/plain": [
       "FloatProgress(value=0.0, bar_style='info', description='Progress:', layout=Layout(height='25px', width='50%'),…"
      ]
     },
     "metadata": {},
     "output_type": "display_data"
    }
   ],
   "source": [
    "# schema = StructType([ StructField(\"theme\", StringType(), True),StructField(\"theme_category\", ArrayType(StringType()), True)])\n",
    "adjacency_list = spark.read.option(\"header\",True).csv('s3://atharva-dev/adjacency_list.csv')\n",
    "adjacency_list = adjacency_list.toPandas()\n",
    "adjacency_list['topics'] = adjacency_list['topics'].apply(lambda x: x.split(','))\n",
    "adjacency_list = spark.createDataFrame(adjacency_list)\n",
    "matrix_df = spark.read.option(\"header\",True).csv('s3://atharva-dev/GKG themes tagged with ESG.csv')\n",
    "matrix_df = matrix_df.toPandas()\n",
    "theme_categories = [x.lower().replace(' ','_') for x in list([x.strip() for x in matrix_df.columns])]\n",
    "theme_categories.remove('theme')\n",
    "schema = StructType([ StructField(\"theme\", StringType(), True),StructField(\"theme_category\", StringType(), True)])\n",
    "theme_dict_df = spark.read.option(\"header\",True).csv('s3://atharva-dev/theme_dict.csv',schema=schema)"
   ]
  },
  {
   "cell_type": "code",
   "execution_count": 6,
   "id": "c9c5c554-bd0e-4e40-a974-4a58c1bc96bf",
   "metadata": {
    "execution": {
     "iopub.execute_input": "2022-11-10T19:45:31.457210Z",
     "iopub.status.busy": "2022-11-10T19:45:31.457007Z",
     "iopub.status.idle": "2022-11-10T19:45:33.733414Z",
     "shell.execute_reply": "2022-11-10T19:45:33.732737Z",
     "shell.execute_reply.started": "2022-11-10T19:45:31.457181Z"
    }
   },
   "outputs": [
    {
     "data": {
      "application/vnd.jupyter.widget-view+json": {
       "model_id": "05e98e46927e40c69eac084e4334b419",
       "version_major": 2,
       "version_minor": 0
      },
      "text/plain": [
       "VBox()"
      ]
     },
     "metadata": {},
     "output_type": "display_data"
    },
    {
     "data": {
      "application/vnd.jupyter.widget-view+json": {
       "model_id": "",
       "version_major": 2,
       "version_minor": 0
      },
      "text/plain": [
       "FloatProgress(value=0.0, bar_style='info', description='Progress:', layout=Layout(height='25px', width='50%'),…"
      ]
     },
     "metadata": {},
     "output_type": "display_data"
    },
    {
     "name": "stdout",
     "output_type": "stream",
     "text": [
      "+--------------------+--------------------+\n",
      "|               theme|              topics|\n",
      "+--------------------+--------------------+\n",
      "|    act_harmthreaten|[fclt_risk, fclt_...|\n",
      "|   act_makestatement|[fclt_government,...|\n",
      "|         agriculture|[bbk_topic_enviro...|\n",
      "|    aid_humanitarian|[bbk_topic_social...|\n",
      "|            alliance|  [fclt_affiliation]|\n",
      "|         appointment|    [fclt_employees]|\n",
      "|       armedconflict|[bbk_topic_govern...|\n",
      "|       assassination|[fclt_government,...|\n",
      "|           austerity|  [fclt_affiliation]|\n",
      "|   aviation_incident|[fclt_health_&_sa...|\n",
      "|        black_market|     [fclt_customer]|\n",
      "|            bullying|[fclt_environment...|\n",
      "|           ceasefire|[fclt_health_&_sa...|\n",
      "|charasmatic_leade...|[bbk_topic_govern...|\n",
      "|        claim_credit|[fclt_health_&_sa...|\n",
      "|      constitutional| [fclt_human_rights]|\n",
      "|          corruption|[bbk_topic_govern...|\n",
      "|crime_common_robbery|[fclt_health_&_sa...|\n",
      "| crime_illegal_drugs|[bbk_topic_social...|\n",
      "|crisislex_c01_chi...|[bbk_topic_social...|\n",
      "+--------------------+--------------------+\n",
      "only showing top 20 rows"
     ]
    }
   ],
   "source": [
    "adjacency_list.show()"
   ]
  },
  {
   "cell_type": "code",
   "execution_count": 7,
   "id": "0deb2154-1c7a-4add-9261-0ec97d6351c1",
   "metadata": {
    "execution": {
     "iopub.execute_input": "2022-11-10T19:45:33.734466Z",
     "iopub.status.busy": "2022-11-10T19:45:33.734266Z",
     "iopub.status.idle": "2022-11-10T19:45:35.332012Z",
     "shell.execute_reply": "2022-11-10T19:45:35.331324Z",
     "shell.execute_reply.started": "2022-11-10T19:45:33.734436Z"
    }
   },
   "outputs": [
    {
     "data": {
      "application/vnd.jupyter.widget-view+json": {
       "model_id": "98b88e324ee74f50911f42eccef4a10f",
       "version_major": 2,
       "version_minor": 0
      },
      "text/plain": [
       "VBox()"
      ]
     },
     "metadata": {},
     "output_type": "display_data"
    },
    {
     "data": {
      "application/vnd.jupyter.widget-view+json": {
       "model_id": "",
       "version_major": 2,
       "version_minor": 0
      },
      "text/plain": [
       "FloatProgress(value=0.0, bar_style='info', description='Progress:', layout=Layout(height='25px', width='50%'),…"
      ]
     },
     "metadata": {},
     "output_type": "display_data"
    },
    {
     "name": "stdout",
     "output_type": "stream",
     "text": [
      "+--------------------+--------------------+\n",
      "|               theme|      theme_category|\n",
      "+--------------------+--------------------+\n",
      "|          tax_fncact|bbk_topic_environ...|\n",
      "|        media_social|    bbk_topic_social|\n",
      "|           education|bbk_subcategory_e...|\n",
      "|soc_pointsofinterest|           fclt_risk|\n",
      "|       tax_ethnicity|bbk_category_sust...|\n",
      "|    tax_worldmammals|fclt_labor_relations|\n",
      "|           media_msm|bbk_category_envi...|\n",
      "|            alliance|bbk_subcategory_u...|\n",
      "|         tax_weapons|fclt_labor_relations|\n",
      "|         agriculture|bbk_subcategory_b...|\n",
      "|      soc_innovation|    fclt_affiliation|\n",
      "|  tax_worldlanguages|bbk_subcategory_s...|\n",
      "|    movement_general|bbk_category_sust...|\n",
      "|                kill|    bbk_topic_social|\n",
      "|              affect|bbk_subcategory_h...|\n",
      "|    natural_disaster|bbk_topic_environ...|\n",
      "|manmade_disaster_...|       fclt_supplier|\n",
      "|       tax_worldfish|           fclt_risk|\n",
      "|             protest|bbk_subcategory_p...|\n",
      "|              strike|bbk_subcategory_c...|\n",
      "+--------------------+--------------------+\n",
      "only showing top 20 rows"
     ]
    }
   ],
   "source": [
    "theme_dict_df.show()"
   ]
  },
  {
   "cell_type": "code",
   "execution_count": 8,
   "id": "79c71b26-1332-47c9-9e21-06f80d40e3b3",
   "metadata": {
    "execution": {
     "iopub.execute_input": "2022-11-10T19:45:35.333162Z",
     "iopub.status.busy": "2022-11-10T19:45:35.332933Z",
     "iopub.status.idle": "2022-11-10T19:45:38.720848Z",
     "shell.execute_reply": "2022-11-10T19:45:38.720163Z",
     "shell.execute_reply.started": "2022-11-10T19:45:35.333132Z"
    },
    "tags": []
   },
   "outputs": [
    {
     "data": {
      "application/vnd.jupyter.widget-view+json": {
       "model_id": "6439207e10dc4bd496cd4b41a0f68999",
       "version_major": 2,
       "version_minor": 0
      },
      "text/plain": [
       "VBox()"
      ]
     },
     "metadata": {},
     "output_type": "display_data"
    },
    {
     "data": {
      "application/vnd.jupyter.widget-view+json": {
       "model_id": "",
       "version_major": 2,
       "version_minor": 0
      },
      "text/plain": [
       "FloatProgress(value=0.0, bar_style='info', description='Progress:', layout=Layout(height='25px', width='50%'),…"
      ]
     },
     "metadata": {},
     "output_type": "display_data"
    },
    {
     "name": "stdout",
     "output_type": "stream",
     "text": [
      "/tmp/1668109489710-0/lib/python2.7/site-packages/boto3/compat.py:86: PythonDeprecationWarning: Boto3 will no longer support Python 2.7 starting July 15, 2021. To continue receiving service updates, bug fixes, and security updates please upgrade to Python 3.6 or later. More information can be found here: https://aws.amazon.com/blogs/developer/announcing-end-of-support-for-python-2-7-in-aws-sdk-for-python-and-aws-cli-v1/\n",
      "  warnings.warn(warning, PythonDeprecationWarning)"
     ]
    }
   ],
   "source": [
    "s3 = boto3.resource('s3')\n",
    "my_bucket = s3.Bucket('atharva-dev')\n",
    "def get_folder_name(path):\n",
    "    return path.split('/')[0]\n",
    "\n",
    "files = [obj.key for obj in my_bucket.objects.all()]\n",
    "folders = list(dict.fromkeys(list(map(get_folder_name, files))))"
   ]
  },
  {
   "cell_type": "code",
   "execution_count": null,
   "id": "e4a31993-787b-4135-970a-b3b229a6ac55",
   "metadata": {
    "execution": {
     "iopub.execute_input": "2022-11-10T19:47:22.032928Z",
     "iopub.status.busy": "2022-11-10T19:47:22.032647Z"
    },
    "tags": []
   },
   "outputs": [
    {
     "data": {
      "application/vnd.jupyter.widget-view+json": {
       "model_id": "26e933b3aae34352a4b7e43eac74b072",
       "version_major": 2,
       "version_minor": 0
      },
      "text/plain": [
       "VBox()"
      ]
     },
     "metadata": {},
     "output_type": "display_data"
    },
    {
     "data": {
      "application/vnd.jupyter.widget-view+json": {
       "model_id": "ecea08ef81b5494bb12e06dae2622aa3",
       "version_major": 2,
       "version_minor": 0
      },
      "text/plain": [
       "FloatProgress(value=0.0, bar_style='info', description='Progress:', layout=Layout(height='25px', width='50%'),…"
      ]
     },
     "metadata": {},
     "output_type": "display_data"
    }
   ],
   "source": [
    "for folder in folders:\n",
    "    print(folder)\n",
    "    #Read all parquet files and concatenate them in one dataframe from a folder\n",
    "    df = spark.read.parquet(\"s3://atharva-dev/\"+folder)\n",
    "    #Sort by date\n",
    "    df = df.sort('date')\n",
    "    #Keep only date and not time from date column\n",
    "    df = df.withColumn('date', F.to_date(df.date))\n",
    "    #For themes column in df, only keep the keys of dictionary in array\n",
    "    df = df.withColumn('themes', F.explode('themes'))\n",
    "    #From themes column, get the theme and store in same column\n",
    "    df = df.withColumn('themes', F.col('themes').getItem('theme'))\n",
    "    #From tone column, get the tone and store in same column\n",
    "    df = df.withColumn('tone', F.col('tone').getItem('tone'))\n",
    "    #Remove excess spaces from all columns\n",
    "    df = df.withColumn('themes', F.trim(F.col('themes')))\n",
    "    df = df.withColumn('tone', F.trim(F.col('tone')))\n",
    "    #lowercase and remove spaces from themes\n",
    "    df = df.withColumn('themes', F.lower(F.col('themes')))\n",
    "    #join df with adjacency list on themes\n",
    "    df = df.join(adjacency_list, df.themes == adjacency_list.theme, how='left')\n",
    "    #Drop theme column\n",
    "    df = df.drop('theme')\n",
    "    # Create a dataset comprising of rows with topics having null values into df_2 and drop them from df\n",
    "    df_2 = df.filter(df.topics.isNull())\n",
    "    df = df.filter(df.topics.isNotNull())\n",
    "    #Join df_2 with theme_dict_df on themes\n",
    "    df_2 = df_2.join(theme_dict_df, df_2.themes == theme_dict_df.theme, how='left')\n",
    "    #Drop topics and theme column from df_2, and rename theme_category to topics\n",
    "    df_2 = df_2.drop('topics','theme').withColumnRenamed('theme_category','topics')\n",
    "    #Drop rows with null values in topics column\n",
    "    df_2 = df_2.filter(df_2.topics.isNotNull())\n",
    "    #Explode topics column in df\n",
    "    df = df.withColumn('topics', F.explode('topics'))\n",
    "    #Concatenate df and df_2 and sort by date\n",
    "    df = df.union(df_2).sort('date')\n",
    "    #Pivot topics column to get two columns per topic with topic + _tone with mean aggregate of tone and topic + _freq with count aggregate of topics\n",
    "    df = df.groupBy('date','country').pivot('topics').agg(F.mean('tone'),F.count('topics'))\n",
    "    # df.coalesce(1).write.csv(\"s3://atharva-dev/\"+folder+\".csv\",header=True, mode='overwrite')\n",
    "    #Write spark dataframe to csv file without coalescing\n",
    "    df.write.csv(\"s3://atharva-dev/\"+folder+\".csv\",header=True, mode='overwrite')"
   ]
  }
 ],
 "metadata": {
  "kernelspec": {
   "display_name": "Python 3.9.7 64-bit",
   "language": "python",
   "name": "python3"
  },
  "language_info": {
   "codemirror_mode": {
    "name": "python",
    "version": 3
   },
   "file_extension": ".py",
   "mimetype": "text/x-python",
   "name": "python",
   "pygments_lexer": "python3",
   "version": "3.9.7"
  },
  "vscode": {
   "interpreter": {
    "hash": "aee8b7b246df8f9039afb4144a1f6fd8d2ca17a180786b69acc140d282b71a49"
   }
  }
 },
 "nbformat": 4,
 "nbformat_minor": 5
}
