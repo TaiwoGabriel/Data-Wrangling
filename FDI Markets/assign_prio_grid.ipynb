{
 "cells": [
  {
   "cell_type": "code",
   "execution_count": null,
   "metadata": {},
   "outputs": [],
   "source": [
    "#Import python libraries\n",
    "import pandas as pd\n",
    "import numpy as np\n",
    "import os\n",
    "from datetime import datetime\n",
    "#ignore warning\n",
    "import warnings\n",
    "warnings.filterwarnings('ignore')"
   ]
  },
  {
   "cell_type": "code",
   "execution_count": null,
   "metadata": {},
   "outputs": [],
   "source": [
    "df = pd.read_csv(\"df_merged.csv\")"
   ]
  },
  {
   "cell_type": "code",
   "execution_count": null,
   "metadata": {},
   "outputs": [],
   "source": [
    "pg_lat = []\n",
    "pg_long = []\n",
    "\n",
    "def lat_long_to_PG_lat_long(x, list_lat_long):\n",
    "    for i in range(len(x)):\n",
    "        if x[i] >= 0:\n",
    "            if x[i] % 1 >= 0 and x[i] % 1 <= 0.5:\n",
    "                list_lat_long.append(int(x[i]) + 0.25)\n",
    "            else:\n",
    "                list_lat_long.append(int(x[i]) + 0.75)\n",
    "\n",
    "        if x[i] < 0:\n",
    "            if x[i] % 1 >= 0 and x[i] % 1 <= 0.5:\n",
    "                list_lat_long.append(int(x[i]) - 0.75)\n",
    "            else:\n",
    "                list_lat_long.append(int(x[i]) - 0.25)\n",
    "\n",
    "\n",
    "lat_long_to_PG_lat_long(df[\"lat\"], pg_lat)\n",
    "lat_long_to_PG_lat_long(df[\"lng\"], pg_long)\n",
    "\n",
    "df['pg_lat'] = pg_lat\n",
    "df['pg_long'] = pg_long"
   ]
  },
  {
   "cell_type": "code",
   "execution_count": null,
   "metadata": {},
   "outputs": [],
   "source": [
    "gid = pd.read_csv(\"../PRIO GRID spine.csv\")"
   ]
  },
  {
   "cell_type": "code",
   "execution_count": null,
   "metadata": {},
   "outputs": [],
   "source": [
    "a = df.merge(gid, how=\"left\", left_on=[\n",
    "             \"pg_lat\", \"pg_long\"], right_on=[\"lat\", \"lon\"])\n",
    "a['gid'] = a['gid'].astype('Int64')"
   ]
  },
  {
   "cell_type": "code",
   "execution_count": null,
   "metadata": {},
   "outputs": [],
   "source": [
    "#Fill missing values in capex with those of same row in capital investment\n",
    "a['capital investment'] = a['capital investment'].fillna(a['capex'])\n",
    "a_modified = a[['project date','investing company','parent company', 'source country',\n",
    "       'source state', 'source city', 'destination country',\n",
    "       'destination state', 'admin region', 'destination city',\n",
    "       'lat_x', 'lng', 'pg_lat', 'pg_long', 'gid', 'industry sector',\n",
    "       'subsector', 'cluster', 'industry activity', 'capital investment',\n",
    "       'estimated', 'jobs created', 'estimated 1', 'project type',\n",
    "       'motive', 'email', 'contact name 1 ', 'position 1 ', 'email 1 ',\n",
    "       'telephone 1 ', 'contact name 2 ', 'position 2 ', 'email 2 ',\n",
    "       'telephone 2 ', 'contact name 3 ', 'position 3 ', 'email 3 ',\n",
    "       'telephone 3 ']]\n",
    "a_modified.rename(columns={'gid':'PRIO GRID ID','motive':'motive description','lat_x':'dest_latitude','lng':'dest_longitude'}, inplace=True)"
   ]
  },
  {
   "cell_type": "code",
   "execution_count": null,
   "metadata": {},
   "outputs": [],
   "source": [
    "# a_modified.to_csv(\"all_combined_with_prio_grid_id.csv\", index=False)"
   ]
  },
  {
   "cell_type": "markdown",
   "metadata": {},
   "source": [
    "MONTHLY"
   ]
  },
  {
   "cell_type": "code",
   "execution_count": null,
   "metadata": {},
   "outputs": [],
   "source": [
    "#Rename project date to project_date\n",
    "a_modified['Project No.'] = 1\n",
    "a_modified.rename(columns={'project date':'project_date'}, inplace=True)\n",
    "a_modified['project_date'] = pd.to_datetime(a_modified['project_date'], format='%Y-%m-%d')\n",
    "a_modified['project_date_monthly'] = a_modified.project_date.dt.to_period(\"M\")"
   ]
  },
  {
   "cell_type": "code",
   "execution_count": null,
   "metadata": {},
   "outputs": [],
   "source": [
    "grouped_data = a_modified.groupby(['project_date_monthly','PRIO GRID ID']).sum()\n",
    "grouped_data.reset_index(inplace=True, drop=False)\n"
   ]
  },
  {
   "cell_type": "code",
   "execution_count": null,
   "metadata": {},
   "outputs": [],
   "source": [
    "grouped_data = grouped_data[['PRIO GRID ID','project_date_monthly','Project No.','capital investment']]\n",
    "grouped_data.rename(columns={'Project No.':'Number of FDI projects','project_date_monthly':'Month-year'}, inplace=True)\n",
    "grouped_data.reset_index(inplace=True, drop=True)"
   ]
  },
  {
   "cell_type": "code",
   "execution_count": null,
   "metadata": {},
   "outputs": [],
   "source": [
    "grouped_data"
   ]
  },
  {
   "cell_type": "markdown",
   "metadata": {},
   "source": [
    "Yearly"
   ]
  },
  {
   "cell_type": "code",
   "execution_count": null,
   "metadata": {},
   "outputs": [],
   "source": [
    "a_modified['project_date_yearly'] = a_modified.project_date.dt.to_period(\"Y\")"
   ]
  },
  {
   "cell_type": "code",
   "execution_count": null,
   "metadata": {},
   "outputs": [],
   "source": [
    "grouped_data_year = a_modified.groupby(['project_date_yearly','PRIO GRID ID']).sum()\n",
    "grouped_data_year.reset_index(inplace=True, drop=False)\n",
    "grouped_data_year = grouped_data_year[['PRIO GRID ID','project_date_yearly','Project No.','capital investment']]\n",
    "grouped_data_year.rename(columns={'Project No.':'Number of FDI projects','project_date_yearly':'Year'}, inplace=True)\n",
    "grouped_data_year.reset_index(inplace=True, drop=True)"
   ]
  },
  {
   "cell_type": "code",
   "execution_count": null,
   "metadata": {},
   "outputs": [],
   "source": [
    "grouped_data_year"
   ]
  },
  {
   "cell_type": "markdown",
   "metadata": {},
   "source": [
    "Export Data"
   ]
  },
  {
   "cell_type": "code",
   "execution_count": null,
   "metadata": {},
   "outputs": [],
   "source": [
    "# grouped_data.to_csv(\"monthly_fdi_projects.csv\", index=False)\n",
    "# grouped_data_year.to_csv(\"yearly_fdi_projects.csv\", index=False)"
   ]
  },
  {
   "cell_type": "markdown",
   "metadata": {},
   "source": [
    "Add COW – correlates of war codes"
   ]
  },
  {
   "cell_type": "code",
   "execution_count": null,
   "metadata": {},
   "outputs": [],
   "source": [
    "country_names_gid = pd.read_csv('prio grid full panel with country names.csv')"
   ]
  },
  {
   "cell_type": "code",
   "execution_count": null,
   "metadata": {},
   "outputs": [],
   "source": [
    "country_names_gid.sort_values(by=['statenme'], inplace=True)\n",
    "country_names_gid.reset_index(inplace=True, drop=True)"
   ]
  },
  {
   "cell_type": "code",
   "execution_count": null,
   "metadata": {},
   "outputs": [],
   "source": [
    "a_modified['project_date_yearly'] = a_modified.project_date.dt.to_period(\"Y\")\n",
    "grouped_data_year = a_modified.groupby(['project_date_yearly','PRIO GRID ID']).sum()\n",
    "grouped_data_year.reset_index(inplace=True, drop=False)\n",
    "# grouped_data_year = grouped_data_year[['PRIO GRID ID','project_date_yearly','Project No.','capital investment']]\n",
    "grouped_data_year.rename(columns={'Project No.':'Number of FDI projects','project_date_yearly':'Year'}, inplace=True)\n",
    "grouped_data_year.reset_index(inplace=True, drop=True)"
   ]
  },
  {
   "cell_type": "code",
   "execution_count": null,
   "metadata": {},
   "outputs": [],
   "source": [
    "#Join the two dataframes grouped_data_year and country_names_gid on PRIO GRID ID\n",
    "grouped_data_year_with_COW = grouped_data_year.merge(country_names_gid, how=\"left\", left_on=\"PRIO GRID ID\", right_on=\"gid\")"
   ]
  },
  {
   "cell_type": "code",
   "execution_count": null,
   "metadata": {},
   "outputs": [],
   "source": [
    "grouped_data_year_with_COW = grouped_data_year_with_COW.groupby(['Year','statenme']).sum()[['capital investment','jobs created','Number of FDI projects']]\n",
    "grouped_data_year_with_COW.reset_index(inplace=True, drop=False)\n",
    "grouped_data_year_with_COW"
   ]
  },
  {
   "cell_type": "code",
   "execution_count": null,
   "metadata": {},
   "outputs": [],
   "source": [
    "#Create a dataframe with the unique country names and each country name will have corresponding another column with years from 1990 to 2022\n",
    "country_names_gid_new = pd.DataFrame()\n",
    "country_names_gid_new['Year'] = pd.date_range(start='2003', end='2020', freq='Y').year\n",
    "# Join every row of country_names_gid with every row of country_names_gid_new\n",
    "country_names_gid_new = country_names_gid_new.assign(key=1).merge(pd.DataFrame(country_names_gid['statenme'].unique()).assign(key=1), on='key').drop('key', 1)"
   ]
  },
  {
   "cell_type": "code",
   "execution_count": null,
   "metadata": {},
   "outputs": [],
   "source": [
    "grouped_data_year_with_COW['Year'] = grouped_data_year_with_COW['Year'].astype('int64')\n",
    "#join the two dataframes grouped_data_year_with_COW and country_names_gid_new on country name and year\n",
    "grouped_data_year_with_COW_new = grouped_data_year_with_COW.merge(country_names_gid_new, how=\"right\", left_on=[\"statenme\",\"Year\"], right_on=[0,\"Year\"])"
   ]
  }
 ],
 "metadata": {
  "kernelspec": {
   "display_name": "Python 3.9.7 64-bit",
   "language": "python",
   "name": "python3"
  },
  "language_info": {
   "codemirror_mode": {
    "name": "ipython",
    "version": 3
   },
   "file_extension": ".py",
   "mimetype": "text/x-python",
   "name": "python",
   "nbconvert_exporter": "python",
   "pygments_lexer": "ipython3",
   "version": "3.9.7"
  },
  "orig_nbformat": 4,
  "vscode": {
   "interpreter": {
    "hash": "aee8b7b246df8f9039afb4144a1f6fd8d2ca17a180786b69acc140d282b71a49"
   }
  }
 },
 "nbformat": 4,
 "nbformat_minor": 2
}
