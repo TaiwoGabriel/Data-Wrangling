{
 "cells": [
  {
   "cell_type": "code",
   "execution_count": 1,
   "id": "0f02a4a1-1c1d-4a82-9f52-d7714a493c28",
   "metadata": {},
   "outputs": [],
   "source": [
    "%%capture\n",
    "!pip install pypdfium2\n",
    "!pip install fastprogress"
   ]
  },
  {
   "cell_type": "code",
   "execution_count": 2,
   "id": "c78443f0-52a9-43ce-b95b-c66984c41539",
   "metadata": {},
   "outputs": [],
   "source": [
    "import pypdfium2 as pdfium\n",
    "import os, boto3\n",
    "from fastprogress.fastprogress import master_bar, progress_bar\n",
    "import warnings\n",
    "warnings.filterwarnings(\"ignore\", category=DeprecationWarning)"
   ]
  },
  {
   "cell_type": "code",
   "execution_count": 3,
   "id": "7579a49d-9443-4a34-b0ae-5fa9ee03883c",
   "metadata": {},
   "outputs": [],
   "source": [
    "BUCKET = \"vijaydev\"\n",
    "STORAGE = \"democra_files\""
   ]
  },
  {
   "cell_type": "code",
   "execution_count": 4,
   "id": "b3c7bf0f-13d8-4226-ba2e-7c00243c19cb",
   "metadata": {},
   "outputs": [],
   "source": [
    "def return_all_files(bucket, folder_location):\n",
    "    \n",
    "    '''\n",
    "    Return a list of all parquet files in the s3 folder\n",
    "    Input: \n",
    "        bucket: s3 bucket location\n",
    "        parquet_folder_location: Location of parquet files inside the s3 bucket\n",
    "    Output:\n",
    "        files_list: List of tuples pairs of (bucket,file_name)\n",
    "    '''\n",
    "    \n",
    "    s3_client = boto3.Session()\n",
    "    s3 = s3_client.resource('s3')\n",
    "    my_bucket = s3.Bucket(bucket)\n",
    "    files_list = [(file.key, os.path.basename(file.key)) for file in my_bucket.objects.filter(Prefix = folder_location)]\n",
    "    return files_list"
   ]
  },
  {
   "cell_type": "code",
   "execution_count": 5,
   "id": "20de0234-3b07-47d9-899f-8f2983f0b6ec",
   "metadata": {},
   "outputs": [],
   "source": [
    "process_folders = [\"esg_reports_batch_1\", \"esg_reports_batch_2\", \"esg_reports_batch_3\", \"esg_reports_batch_4\"]"
   ]
  },
  {
   "cell_type": "code",
   "execution_count": 6,
   "id": "816ec64d-de92-4351-9884-04d93e8a51eb",
   "metadata": {},
   "outputs": [],
   "source": [
    "curr_files = []\n",
    "for folder in process_folders:\n",
    "    curr_files += return_all_files(BUCKET, folder)"
   ]
  },
  {
   "cell_type": "code",
   "execution_count": 7,
   "id": "e1b8f4bf-5a9f-4979-a359-c2047156ee11",
   "metadata": {},
   "outputs": [
    {
     "name": "stdout",
     "output_type": "stream",
     "text": [
      "Processing files from folders ['esg_reports_batch_1', 'esg_reports_batch_2', 'esg_reports_batch_3', 'esg_reports_batch_4']\n"
     ]
    },
    {
     "data": {
      "text/html": [
       "\n",
       "<style>\n",
       "    /* Turns off some styling */\n",
       "    progress {\n",
       "        /* gets rid of default border in Firefox and Opera. */\n",
       "        border: none;\n",
       "        /* Needs to be in here for Safari polyfill so background images work as expected. */\n",
       "        background-size: auto;\n",
       "    }\n",
       "    progress:not([value]), progress:not([value])::-webkit-progress-bar {\n",
       "        background: repeating-linear-gradient(45deg, #7e7e7e, #7e7e7e 10px, #5c5c5c 10px, #5c5c5c 20px);\n",
       "    }\n",
       "    .progress-bar-interrupted, .progress-bar-interrupted::-webkit-progress-bar {\n",
       "        background: #F44336;\n",
       "    }\n",
       "</style>\n"
      ],
      "text/plain": [
       "<IPython.core.display.HTML object>"
      ]
     },
     "metadata": {},
     "output_type": "display_data"
    },
    {
     "data": {
      "text/html": [],
      "text/plain": [
       "<IPython.core.display.HTML object>"
      ]
     },
     "metadata": {},
     "output_type": "display_data"
    },
    {
     "name": "stdout",
     "output_type": "stream",
     "text": [
      "Completed!\n"
     ]
    }
   ],
   "source": [
    "mb = master_bar(range(len(curr_files)))\n",
    "print(f\"Processing files from folders {process_folders}\")\n",
    "for idx in mb:\n",
    "    path, name = curr_files[idx]        \n",
    "    s3_client = boto3.client('s3')\n",
    "    s3_client.download_file(BUCKET, path, name)\n",
    "    pdf = pdfium.PdfDocument(name)\n",
    "    n_pages = len(pdf)\n",
    "    for i in progress_bar(range(n_pages), parent = mb):\n",
    "        page = pdf[i]\n",
    "        textpage = page.get_textpage()\n",
    "        text_all = textpage.get_text_range()\n",
    "        if \"democra\" in text_all.lower():\n",
    "            s3_client.upload_file(name, BUCKET, os.path.join(STORAGE,name))\n",
    "    os.remove(name)\n",
    "print(\"Completed!\")"
   ]
  },
  {
   "cell_type": "code",
   "execution_count": null,
   "id": "bc0c999e-e74f-4759-a7cb-40506fc7751b",
   "metadata": {},
   "outputs": [],
   "source": []
  }
 ],
 "metadata": {
  "kernelspec": {
   "display_name": "conda_python3",
   "language": "python",
   "name": "conda_python3"
  },
  "language_info": {
   "codemirror_mode": {
    "name": "ipython",
    "version": 3
   },
   "file_extension": ".py",
   "mimetype": "text/x-python",
   "name": "python",
   "nbconvert_exporter": "python",
   "pygments_lexer": "ipython3",
   "version": "3.10.6"
  }
 },
 "nbformat": 4,
 "nbformat_minor": 5
}
