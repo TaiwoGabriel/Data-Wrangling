{
 "cells": [
  {
   "cell_type": "code",
   "execution_count": 22,
   "metadata": {},
   "outputs": [],
   "source": [
    "import pandas as pd"
   ]
  },
  {
   "cell_type": "code",
   "execution_count": 23,
   "metadata": {},
   "outputs": [],
   "source": [
    "#Read the csv file\n",
    "tentative_list = pd.read_csv('tentative_list.csv')\n",
    "world_heritage_sites = pd.read_csv('World Heritage Sites.csv')"
   ]
  },
  {
   "cell_type": "code",
   "execution_count": 24,
   "metadata": {},
   "outputs": [],
   "source": [
    "# year_put_on_tentative_list keep only the year by using regex\n",
    "tentative_list['year_put_on_tentative_list'] = tentative_list['year_put_on_tentative_list'].str.extract('(\\d{4})', expand=False)"
   ]
  },
  {
   "cell_type": "code",
   "execution_count": 25,
   "metadata": {},
   "outputs": [],
   "source": [
    "#Remove accents from name_en_new\n",
    "tentative_list['name_en'] = tentative_list['name_en'].str.normalize('NFKD').str.encode('ascii', errors='ignore').str.decode('utf-8')"
   ]
  },
  {
   "cell_type": "code",
   "execution_count": 26,
   "metadata": {},
   "outputs": [],
   "source": [
    "#function to clean name_en_new\n",
    "import re\n",
    "def clean_string(string):\n",
    "    # remove hyphens or dashes\n",
    "    string = re.sub('[-]', ' ', string)\n",
    "    # remove (*) and (#) from the string\n",
    "    string = re.sub('\\(\\*\\)|\\(#\\)', '', string)\n",
    "    # remove leading/trailing whitespaces\n",
    "    string = string.strip()\n",
    "    # remove extra whitespaces between words\n",
    "    string = re.sub('\\s+', ' ', string)\n",
    "    # remove non-alphanumeric characters except spaces and hyphens\n",
    "    string = re.sub('[^0-9a-zA-Z\\s-]', '', string)\n",
    "    # convert to title case\n",
    "    string = string.title()\n",
    "    # return the cleaned string\n",
    "    return string\n",
    "\n",
    "#Apply the function to name_en_new\n",
    "tentative_list['name_en'] = tentative_list['name_en'].apply(clean_string)\n",
    "\n",
    "#Apply the function to name_en\n",
    "world_heritage_sites['name_en'] = world_heritage_sites['name_en'].apply(clean_string)"
   ]
  },
  {
   "cell_type": "code",
   "execution_count": 27,
   "metadata": {},
   "outputs": [],
   "source": [
    "#left join world_heritage_sites and tentative_list\n",
    "world_heritage_sites = world_heritage_sites.merge(tentative_list[['name_en', 'year_put_on_tentative_list']], how='left', left_on='name_en', right_on='name_en')"
   ]
  },
  {
   "cell_type": "code",
   "execution_count": 29,
   "metadata": {},
   "outputs": [],
   "source": [
    "world_heritage_sites.to_csv('World Heritage Sites with tentative list.csv', index=False)"
   ]
  },
  {
   "attachments": {},
   "cell_type": "markdown",
   "metadata": {},
   "source": [
    "Testing code below"
   ]
  },
  {
   "cell_type": "code",
   "execution_count": 54,
   "metadata": {},
   "outputs": [],
   "source": [
    "world_heritage_sites = pd.read_csv('World Heritage Sites.csv')\n",
    "world_heritage_sites_with_tentative_list = pd.read_csv('World Heritage Sites with tentative list.csv')"
   ]
  },
  {
   "cell_type": "code",
   "execution_count": 55,
   "metadata": {},
   "outputs": [
    {
     "data": {
      "text/plain": [
       "440"
      ]
     },
     "execution_count": 55,
     "metadata": {},
     "output_type": "execute_result"
    }
   ],
   "source": [
    "#get total non null values in year_put_on_tentative_list\n",
    "world_heritage_sites_with_tentative_list['year_put_on_tentative_list'].count()"
   ]
  },
  {
   "cell_type": "code",
   "execution_count": 56,
   "metadata": {},
   "outputs": [
    {
     "data": {
      "text/plain": [
       "1996.0    57\n",
       "1995.0    42\n",
       "1998.0    30\n",
       "1999.0    21\n",
       "2010.0    21\n",
       "2005.0    20\n",
       "2004.0    20\n",
       "2001.0    18\n",
       "2007.0    18\n",
       "2006.0    16\n",
       "2000.0    15\n",
       "1997.0    15\n",
       "1993.0    15\n",
       "2012.0    14\n",
       "2009.0    13\n",
       "2015.0    12\n",
       "2003.0    12\n",
       "1990.0    10\n",
       "2008.0    10\n",
       "2002.0     9\n",
       "1994.0     9\n",
       "2011.0     8\n",
       "1992.0     7\n",
       "2013.0     6\n",
       "1991.0     5\n",
       "2017.0     5\n",
       "2014.0     5\n",
       "2016.0     3\n",
       "2018.0     2\n",
       "1989.0     1\n",
       "1984.0     1\n",
       "Name: year_put_on_tentative_list, dtype: int64"
      ]
     },
     "execution_count": 56,
     "metadata": {},
     "output_type": "execute_result"
    }
   ],
   "source": [
    "#get unique values in year_put_on_tentative_list & count\n",
    "world_heritage_sites_with_tentative_list['year_put_on_tentative_list'].value_counts()"
   ]
  },
  {
   "cell_type": "code",
   "execution_count": 53,
   "metadata": {},
   "outputs": [
    {
     "data": {
      "text/plain": [
       "2047    1\n",
       "605     1\n",
       "2171    1\n",
       "595     1\n",
       "2287    1\n",
       "       ..\n",
       "1234    1\n",
       "221     1\n",
       "1231    1\n",
       "1229    1\n",
       "2048    1\n",
       "Name: unique_number, Length: 1150, dtype: int64"
      ]
     },
     "execution_count": 53,
     "metadata": {},
     "output_type": "execute_result"
    }
   ],
   "source": [
    "#unique values in unique_number\n",
    "world_heritage_sites_with_tentative_list['unique_number'].value_counts()"
   ]
  },
  {
   "cell_type": "code",
   "execution_count": 57,
   "metadata": {},
   "outputs": [
    {
     "data": {
      "text/plain": [
       "2047    1\n",
       "405     1\n",
       "2171    1\n",
       "595     1\n",
       "2287    1\n",
       "       ..\n",
       "1254    1\n",
       "1256    1\n",
       "1259    1\n",
       "1262    1\n",
       "2048    1\n",
       "Name: unique_number, Length: 1154, dtype: int64"
      ]
     },
     "execution_count": 57,
     "metadata": {},
     "output_type": "execute_result"
    }
   ],
   "source": [
    "world_heritage_sites['unique_number'].value_counts()"
   ]
  },
  {
   "cell_type": "code",
   "execution_count": 58,
   "metadata": {},
   "outputs": [],
   "source": [
    "#Join column year_put_on_tentative_list from world_heritage_sites_with_tentative_list to world_heritage_sites where unique_number is equal to unique_number\n",
    "world_heritage_sites = world_heritage_sites.merge(world_heritage_sites_with_tentative_list[['unique_number', 'year_put_on_tentative_list']], how='left', left_on='unique_number', right_on='unique_number')\n"
   ]
  },
  {
   "cell_type": "code",
   "execution_count": 60,
   "metadata": {},
   "outputs": [],
   "source": [
    "world_heritage_sites.to_csv('World Heritage Sites with tentative list - final.csv', index=False)"
   ]
  },
  {
   "cell_type": "code",
   "execution_count": null,
   "metadata": {},
   "outputs": [],
   "source": []
  }
 ],
 "metadata": {
  "kernelspec": {
   "display_name": "Python 3",
   "language": "python",
   "name": "python3"
  },
  "language_info": {
   "codemirror_mode": {
    "name": "ipython",
    "version": 3
   },
   "file_extension": ".py",
   "mimetype": "text/x-python",
   "name": "python",
   "nbconvert_exporter": "python",
   "pygments_lexer": "ipython3",
   "version": "3.9.7"
  },
  "orig_nbformat": 4,
  "vscode": {
   "interpreter": {
    "hash": "aee8b7b246df8f9039afb4144a1f6fd8d2ca17a180786b69acc140d282b71a49"
   }
  }
 },
 "nbformat": 4,
 "nbformat_minor": 2
}
