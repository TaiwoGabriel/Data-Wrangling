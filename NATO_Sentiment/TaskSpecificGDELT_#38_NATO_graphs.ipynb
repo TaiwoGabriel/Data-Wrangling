{
 "cells": [
  {
   "cell_type": "code",
   "execution_count": null,
   "id": "3b5db3e6-99eb-4e51-a598-c909195eb89c",
   "metadata": {
    "execution": {
     "iopub.execute_input": "2023-01-29T19:17:03.195642Z",
     "iopub.status.busy": "2023-01-29T19:17:03.195251Z",
     "iopub.status.idle": "2023-01-29T19:18:03.219903Z",
     "shell.execute_reply": "2023-01-29T19:18:03.219045Z",
     "shell.execute_reply.started": "2023-01-29T19:17:03.195590Z"
    },
    "tags": []
   },
   "outputs": [
    {
     "ename": "",
     "evalue": "",
     "output_type": "error",
     "traceback": [
      "\u001b[1;31mRunning cells with '/usr/bin/python3' requires the ipykernel package.\n",
      "\u001b[1;31mRun the following command to install 'ipykernel' into the Python environment. \n",
      "\u001b[1;31mCommand: '/usr/bin/python3 -m pip install ipykernel -U --user --force-reinstall'"
     ]
    }
   ],
   "source": [
    "# sc.list_packages()\n",
    "sc.install_pypi_package(\"pandas==0.25.1\")\n",
    "sc.install_pypi_package(\"boto3==1.26.7\")\n",
    "sc.install_pypi_package(\"rapidfuzz\")"
   ]
  },
  {
   "cell_type": "code",
   "execution_count": 2,
   "id": "74b739d0-c36f-4cbc-8ebd-e6acb10ea9fe",
   "metadata": {
    "execution": {
     "iopub.execute_input": "2023-01-29T19:18:03.221211Z",
     "iopub.status.busy": "2023-01-29T19:18:03.221012Z",
     "iopub.status.idle": "2023-01-29T19:18:03.282343Z",
     "shell.execute_reply": "2023-01-29T19:18:03.281488Z",
     "shell.execute_reply.started": "2023-01-29T19:18:03.221182Z"
    },
    "tags": []
   },
   "outputs": [
    {
     "data": {
      "application/vnd.jupyter.widget-view+json": {
       "model_id": "69033c16d86e4d50b7afc9c36d6b8582",
       "version_major": 2,
       "version_minor": 0
      },
      "text/plain": [
       "VBox()"
      ]
     },
     "metadata": {},
     "output_type": "display_data"
    },
    {
     "data": {
      "application/vnd.jupyter.widget-view+json": {
       "model_id": "",
       "version_major": 2,
       "version_minor": 0
      },
      "text/plain": [
       "FloatProgress(value=0.0, bar_style='info', description='Progress:', layout=Layout(height='25px', width='50%'),…"
      ]
     },
     "metadata": {},
     "output_type": "display_data"
    },
    {
     "name": "stdout",
     "output_type": "stream",
     "text": [
      "livy-session-1\n",
      "client\n",
      "None\n",
      "None\n",
      "spark.yarn.executor.memoryOverhead : None\n",
      "spark.sql.shuffle.partitions : None\n",
      "spark.network.timeout : None\n",
      "spark.driver.memory : 2048M"
     ]
    }
   ],
   "source": [
    "confs = [\"spark.yarn.executor.memoryOverhead\",\"spark.sql.shuffle.partitions\",\"spark.network.timeout\",\"spark.driver.memory\"]\n",
    "print(sc._conf.get('spark.app.name'))\n",
    "print(sc._conf.get('spark.submit.deployMode'))\n",
    "print(sc._conf.get(\"spark.yarn.executor.memoryOverhead\"))\n",
    "print(sc._conf.get(\"spark.sql.files.maxPartitionBytes\"))\n",
    "for conf in confs:\n",
    "    print(conf,\":\",sc._conf.get(conf))"
   ]
  },
  {
   "cell_type": "markdown",
   "id": "69298fe2-a519-49e1-b542-b8d77b70d94a",
   "metadata": {},
   "source": [
    "# Imports"
   ]
  },
  {
   "cell_type": "code",
   "execution_count": 3,
   "id": "ab789e2a-863f-4619-8043-59704f270c82",
   "metadata": {
    "execution": {
     "iopub.execute_input": "2023-01-29T19:18:03.284070Z",
     "iopub.status.busy": "2023-01-29T19:18:03.283859Z",
     "iopub.status.idle": "2023-01-29T19:18:03.549077Z",
     "shell.execute_reply": "2023-01-29T19:18:03.548479Z",
     "shell.execute_reply.started": "2023-01-29T19:18:03.284041Z"
    },
    "tags": []
   },
   "outputs": [
    {
     "data": {
      "application/vnd.jupyter.widget-view+json": {
       "model_id": "f5aa8a83ac1140c2a942b4ebd613bba5",
       "version_major": 2,
       "version_minor": 0
      },
      "text/plain": [
       "VBox()"
      ]
     },
     "metadata": {},
     "output_type": "display_data"
    },
    {
     "data": {
      "application/vnd.jupyter.widget-view+json": {
       "model_id": "",
       "version_major": 2,
       "version_minor": 0
      },
      "text/plain": [
       "FloatProgress(value=0.0, bar_style='info', description='Progress:', layout=Layout(height='25px', width='50%'),…"
      ]
     },
     "metadata": {},
     "output_type": "display_data"
    }
   ],
   "source": [
    "from pyspark import SparkContext\n",
    "from pyspark.sql import SQLContext\n",
    "from pyspark import SparkConf\n",
    "from pyspark.sql import SparkSession\n",
    "from pyspark.sql.functions import year, month, dayofmonth\n",
    "import boto3\n",
    "import re\n",
    "from pyspark.sql.functions import udf\n",
    "from pyspark.sql.types import StringType, ArrayType, MapType, IntegerType, DoubleType\n",
    "from pyspark.sql.types import *\n",
    "from pyspark.sql import functions as F\n",
    "from collections import Counter\n",
    "import pyspark\n",
    "import rapidfuzz\n",
    "from rapidfuzz import fuzz\n",
    "import time\n",
    "import random\n",
    "\n",
    "# import s3fs\n",
    "# import boto3\n",
    "#How to pip install while creation of cluster"
   ]
  },
  {
   "cell_type": "code",
   "execution_count": 4,
   "id": "f58b24e0-067c-4440-950b-e801758bf96c",
   "metadata": {
    "execution": {
     "iopub.execute_input": "2023-01-29T19:18:03.550533Z",
     "iopub.status.busy": "2023-01-29T19:18:03.550333Z",
     "iopub.status.idle": "2023-01-29T19:18:03.608294Z",
     "shell.execute_reply": "2023-01-29T19:18:03.607630Z",
     "shell.execute_reply.started": "2023-01-29T19:18:03.550503Z"
    },
    "tags": []
   },
   "outputs": [
    {
     "data": {
      "application/vnd.jupyter.widget-view+json": {
       "model_id": "d0f99eebf36c4d3f86b254c2068e69bb",
       "version_major": 2,
       "version_minor": 0
      },
      "text/plain": [
       "VBox()"
      ]
     },
     "metadata": {},
     "output_type": "display_data"
    },
    {
     "data": {
      "application/vnd.jupyter.widget-view+json": {
       "model_id": "",
       "version_major": 2,
       "version_minor": 0
      },
      "text/plain": [
       "FloatProgress(value=0.0, bar_style='info', description='Progress:', layout=Layout(height='25px', width='50%'),…"
      ]
     },
     "metadata": {},
     "output_type": "display_data"
    }
   ],
   "source": [
    "\n",
    "#          .config(\"spark.memory.offHeap.enabled\",\"true\") \\\n",
    "#          .config(\"spark.memory.offHeap.size\",\"10g\") \\\n",
    "# .config(\"spark.submit.deployMode\",\"client\") \\\n",
    "#         .config(\"spark.driver.memory\",\"200g\") \\\n",
    "#         .config(\"spark.executor.memory\",\"50g\") \\\n",
    "#         .config(\"spark.emr.default.executor.memory\", '50g') \\\n",
    "\n",
    "# spark.conf.set(\"spark.sql.shuffle.partitions\",100)\n",
    "\n",
    "#Number of partitions should be equal to or greater than the cores to achieve parallelism\n",
    "# config = pyspark.SparkConf().setAll([('spark.executor.memory', '80'), ('spark.executor.cores', '12'), \\\n",
    "#                                      ('spark.cores.max', '240'), ('spark.driver.memory','300g'), ('spark.sql.shuffle.partitions','80')])\n",
    "# spark.sparkContext.stop()\n",
    "# config = pyspark.SparkConf().setAll([('spark.network.timeout', '100800s'), ('spark.driver.memory','122000M')]) #, ('spark.executor.cores', '12')])\n",
    "# spark = SparkSession.builder.config(conf=config).appName('ProcessingData') \\\n",
    "#         .getOrCreate()\n",
    "spark = SparkSession.builder.getOrCreate()\n",
    "# sc = pyspark.SparkContext.getOrCreate(conf=config)"
   ]
  },
  {
   "cell_type": "markdown",
   "id": "08e400ac-9742-47e3-8ac7-11246f1d63fd",
   "metadata": {},
   "source": [
    "## Task\n",
    "Read data of specific countries heritage sites. Within them, if any org in any row is a close match to the NATO organization then return a one. Groupby with average tone, and count for total, NATO orgs. Groupby level, country, month.\n",
    "\n",
    "\n",
    "Countries:\n",
    "1. Serbia - RI\n",
    "2. Libya - LY\n",
    "3. Mali - ML\n",
    "\n"
   ]
  },
  {
   "cell_type": "markdown",
   "id": "f18b7ce6-2e38-49e9-a9d1-8c1deb998b7a",
   "metadata": {},
   "source": [
    "## 1.  Reading Files"
   ]
  },
  {
   "cell_type": "code",
   "execution_count": 5,
   "id": "561d75de-47fc-4d2a-9890-aaf8abf7871d",
   "metadata": {
    "execution": {
     "iopub.execute_input": "2023-01-29T19:18:03.609578Z",
     "iopub.status.busy": "2023-01-29T19:18:03.609374Z",
     "iopub.status.idle": "2023-01-29T19:18:03.674532Z",
     "shell.execute_reply": "2023-01-29T19:18:03.673934Z",
     "shell.execute_reply.started": "2023-01-29T19:18:03.609548Z"
    },
    "tags": []
   },
   "outputs": [
    {
     "data": {
      "application/vnd.jupyter.widget-view+json": {
       "model_id": "5821948be71e46579d9537bb85336087",
       "version_major": 2,
       "version_minor": 0
      },
      "text/plain": [
       "VBox()"
      ]
     },
     "metadata": {},
     "output_type": "display_data"
    },
    {
     "data": {
      "application/vnd.jupyter.widget-view+json": {
       "model_id": "",
       "version_major": 2,
       "version_minor": 0
      },
      "text/plain": [
       "FloatProgress(value=0.0, bar_style='info', description='Progress:', layout=Layout(height='25px', width='50%'),…"
      ]
     },
     "metadata": {},
     "output_type": "display_data"
    }
   ],
   "source": [
    "from boto3 import client\n",
    "\n",
    "def return_yearly_parquet_files(year):\n",
    "    print(f\"Return file list for the year: {year}\")\n",
    "    file_list = []\n",
    "    conn = client('s3')  # again assumes boto.cfg setup, assume AWS S3\n",
    "    for key in conn.list_objects(Bucket='kcsra', Prefix = f\"{str(year)} GDELT GKG PG\")['Contents']:\n",
    "        file = \"s3://kcsra/\"+ key['Key']\n",
    "        if \"parquet\" in file:\n",
    "            file_list.append(file)\n",
    "    return file_list\n",
    "\n",
    "def folder_parquet_files(year):\n",
    "    print(f\"Return file list for the year: {year}\")\n",
    "    file_list = []\n",
    "    conn = client('s3')  # again assumes boto.cfg setup, assume AWS S3\n",
    "    for key in conn.list_objects(Bucket='kcsra', Prefix = f\"{str(year)} GDELT GKG PG\")['Contents']:\n",
    "        file = \"s3://kcsra/\"+ key['Key']\n",
    "        if \"parquet\" in file:\n",
    "            file_list.append(file)\n",
    "    return file_list\n",
    "\n",
    "\n",
    "def return_correct_file_paths(year_file_list):\n",
    "    print(\"Returning the working parquet files ...\")\n",
    "    correct_file_paths = []\n",
    "    for i,file in enumerate(year_file_list):\n",
    "\n",
    "        try:\n",
    "            df = spark.read.parquet(file)\n",
    "            correct_file_paths.append(file)\n",
    "        except Exception as e:\n",
    "            print(f\"[{str(i+1)}/{len(year_file_list)}]\")\n",
    "            print(\"->ERROR while reading:\")\n",
    "            print(file)\n",
    "            print()\n",
    "    return correct_file_paths\n",
    "\n",
    "def return_df(correct_file_paths, req_cols, grid_id = None, prio_grid_list = None):\n",
    "    print(\"Constructing a dataframe from required file paths\")\n",
    "\n",
    "    df = spark.read.parquet(*correct_file_paths).select(*req_cols).dropDuplicates(['gkgrecordid','GRID_IDs'])\n",
    "    \n",
    "    if grid_id:\n",
    "        print(\"Filter Grid ID:\", grid_id)\n",
    "        df = df.filter(df.GRID_IDs == grid_id)\n",
    "    \n",
    "    if prio_grid_list:\n",
    "        print(\"Filter Prio Grid ID List:\", prio_grid_list)\n",
    "#         print(type(prio_grid_list))\n",
    "        df = df.filter(df.GRID_IDs.isin(prio_grid_list))\n",
    "\n",
    "    df = df.withColumn('day',dayofmonth(df.date)).withColumn('month',month(df.date))\n",
    "    \n",
    "    print(\"Total rows:\",df.count())\n",
    "    # df.printSchema()\n",
    "    return df\n",
    "\n",
    "def extract_tone(tone_string):\n",
    "    try:\n",
    "        tone_float = re.findall(\"tone=(.*?),\",str(tone_string))[0].strip(\"'\")\n",
    "        tone_float = float(tone_float)\n",
    "        return tone_float\n",
    "    except Exception as e:\n",
    "        print(\"Error extracting tone:\" + str(e))\n",
    "        print(tone_string)\n",
    "        print(\"=\"*20)\n",
    "        return None\n",
    "    \n",
    "def save_tone_in_new_col(df):\n",
    "    print(\"Saving the tone in a new column\")\n",
    "    extract_tone_udf = udf(extract_tone, DoubleType())\n",
    "    df = df.withColumn('Extracted_tone', extract_tone_udf(df['tone'])).drop(\"tone\").withColumnRenamed(\"Extracted_tone\", \"tone\")\n",
    "    return df\n",
    "\n",
    "@udf(returnType=ArrayType(StringType()))\n",
    "def retrieve_theme_list(themes):\n",
    "    if not themes:\n",
    "        return {}\n",
    "    themes = str(themes)\n",
    "    return list(Counter(re.findall(f\"theme=(.*?),\",themes)).keys())\n",
    "\n",
    "@udf(returnType=ArrayType(StringType())) \n",
    "def retrieve_organization_list(organizations):\n",
    "    if not organizations:\n",
    "        return {}\n",
    "    organizations = str(organizations)\n",
    "    return list(Counter(re.findall(f\"organization=(.*?),\",organizations)).keys())\n",
    "\n",
    "@udf(returnType=StringType())\n",
    "def aggregate_category(category):\n",
    "    super_counter = Counter({})\n",
    "    for row in category:\n",
    "        super_counter += Counter(row)\n",
    "    return \", \".join([f\"{categ[0]}:{categ[1]}\" for categ in super_counter.most_common(20)])\n",
    "\n",
    "\n",
    "def are_strings_similar(target_str, data_str, match_threshold):\n",
    "    target_str, data_str = str(target_str).lower(), str(data_str).lower()\n",
    "    partial_match, sorted_match = fuzz.partial_ratio(target_str, data_str), fuzz.token_sort_ratio(target_str, data_str)\n",
    "\n",
    "    if max(partial_match, sorted_match) >= match_threshold:\n",
    "        # print(max(partial_match, sorted_match))\n",
    "        return True\n",
    "    else:\n",
    "        return False\n",
    "\n",
    "\n",
    "def compare_string_matches_lists(target_list, data_list, match_threshold = 75):\n",
    "    for target_str in target_list:\n",
    "        for data_str in data_list:\n",
    "            if are_strings_similar(target_str, data_str, match_threshold):\n",
    "                # print(\"Match Found\", f\"| {target_str} : {data_str}\")\n",
    "                return 1\n",
    "    return 0\n",
    "\n",
    "\n",
    "def udf_compare_strings_lists(target_list, match_threshold):\n",
    "    return udf(lambda data_list: compare_string_matches_lists(target_list, data_list, match_threshold))"
   ]
  },
  {
   "cell_type": "code",
   "execution_count": 6,
   "id": "59777657-8adc-4467-a1a5-9d8565592bfd",
   "metadata": {
    "execution": {
     "iopub.execute_input": "2023-01-29T19:18:03.676145Z",
     "iopub.status.busy": "2023-01-29T19:18:03.675811Z",
     "iopub.status.idle": "2023-01-29T19:18:03.737263Z",
     "shell.execute_reply": "2023-01-29T19:18:03.736382Z",
     "shell.execute_reply.started": "2023-01-29T19:18:03.676095Z"
    },
    "tags": []
   },
   "outputs": [
    {
     "data": {
      "application/vnd.jupyter.widget-view+json": {
       "model_id": "a31cf7f4a0bd440da8efa945ce112397",
       "version_major": 2,
       "version_minor": 0
      },
      "text/plain": [
       "VBox()"
      ]
     },
     "metadata": {},
     "output_type": "display_data"
    },
    {
     "data": {
      "application/vnd.jupyter.widget-view+json": {
       "model_id": "",
       "version_major": 2,
       "version_minor": 0
      },
      "text/plain": [
       "FloatProgress(value=0.0, bar_style='info', description='Progress:', layout=Layout(height='25px', width='50%'),…"
      ]
     },
     "metadata": {},
     "output_type": "display_data"
    },
    {
     "name": "stdout",
     "output_type": "stream",
     "text": [
      "True"
     ]
    }
   ],
   "source": [
    "target_str = \"North Atlantic Treaty Organization\"\n",
    "data_str = \"North Atlantic\"\n",
    "match_threshold = 78\n",
    "are_strings_similar(target_str, data_str, match_threshold)"
   ]
  },
  {
   "cell_type": "markdown",
   "id": "00ca0057-e859-49c0-ad89-b628921edc6e",
   "metadata": {},
   "source": [
    "# MAIN"
   ]
  },
  {
   "cell_type": "code",
   "execution_count": 7,
   "id": "bace5273-5e06-4e23-952e-faa3759b5676",
   "metadata": {
    "execution": {
     "iopub.execute_input": "2023-01-29T19:18:03.738923Z",
     "iopub.status.busy": "2023-01-29T19:18:03.738625Z",
     "iopub.status.idle": "2023-01-29T19:18:03.792253Z",
     "shell.execute_reply": "2023-01-29T19:18:03.791646Z",
     "shell.execute_reply.started": "2023-01-29T19:18:03.738877Z"
    },
    "tags": []
   },
   "outputs": [
    {
     "data": {
      "application/vnd.jupyter.widget-view+json": {
       "model_id": "f63068f48a0b4deabb1c8a8a25264149",
       "version_major": 2,
       "version_minor": 0
      },
      "text/plain": [
       "VBox()"
      ]
     },
     "metadata": {},
     "output_type": "display_data"
    },
    {
     "data": {
      "application/vnd.jupyter.widget-view+json": {
       "model_id": "",
       "version_major": 2,
       "version_minor": 0
      },
      "text/plain": [
       "FloatProgress(value=0.0, bar_style='info', description='Progress:', layout=Layout(height='25px', width='50%'),…"
      ]
     },
     "metadata": {},
     "output_type": "display_data"
    }
   ],
   "source": [
    "#Collect all the orgs in a list and run the matcher function to label primary and secondary firms"
   ]
  },
  {
   "cell_type": "code",
   "execution_count": null,
   "id": "4c19df3a-954b-4c21-8a94-b7b992535862",
   "metadata": {
    "tags": []
   },
   "outputs": [],
   "source": []
  },
  {
   "cell_type": "code",
   "execution_count": 8,
   "id": "73513529-2bc4-42b2-af21-c4ca2d030b2d",
   "metadata": {
    "execution": {
     "iopub.execute_input": "2023-01-29T19:18:03.793396Z",
     "iopub.status.busy": "2023-01-29T19:18:03.793191Z",
     "iopub.status.idle": "2023-01-29T19:18:03.848010Z",
     "shell.execute_reply": "2023-01-29T19:18:03.847454Z",
     "shell.execute_reply.started": "2023-01-29T19:18:03.793366Z"
    },
    "tags": []
   },
   "outputs": [
    {
     "data": {
      "application/vnd.jupyter.widget-view+json": {
       "model_id": "a59ee37eeddd4fea8575cf04ab376424",
       "version_major": 2,
       "version_minor": 0
      },
      "text/plain": [
       "VBox()"
      ]
     },
     "metadata": {},
     "output_type": "display_data"
    },
    {
     "data": {
      "application/vnd.jupyter.widget-view+json": {
       "model_id": "",
       "version_major": 2,
       "version_minor": 0
      },
      "text/plain": [
       "FloatProgress(value=0.0, bar_style='info', description='Progress:', layout=Layout(height='25px', width='50%'),…"
      ]
     },
     "metadata": {},
     "output_type": "display_data"
    },
    {
     "name": "stdout",
     "output_type": "stream",
     "text": [
      "['NATO', 'North Atlantic Treaty Organization']"
     ]
    }
   ],
   "source": [
    "nato_org = \"\"\"NATO\n",
    "North Atlantic Treaty Organization\"\"\"\n",
    "\n",
    "\n",
    "nato_org_list = [nato.strip() for nato in nato_org.split(\"\\n\")]\n",
    "nato_org_list"
   ]
  },
  {
   "cell_type": "code",
   "execution_count": 9,
   "id": "2938f28b-27aa-4340-aab7-05d31d62db56",
   "metadata": {
    "execution": {
     "iopub.execute_input": "2023-01-29T19:18:03.849794Z",
     "iopub.status.busy": "2023-01-29T19:18:03.849597Z",
     "iopub.status.idle": "2023-01-29T19:18:03.905034Z",
     "shell.execute_reply": "2023-01-29T19:18:03.904425Z",
     "shell.execute_reply.started": "2023-01-29T19:18:03.849765Z"
    },
    "tags": []
   },
   "outputs": [
    {
     "data": {
      "application/vnd.jupyter.widget-view+json": {
       "model_id": "ceb90a553539460fb4b57e2e201d2844",
       "version_major": 2,
       "version_minor": 0
      },
      "text/plain": [
       "VBox()"
      ]
     },
     "metadata": {},
     "output_type": "display_data"
    },
    {
     "data": {
      "application/vnd.jupyter.widget-view+json": {
       "model_id": "",
       "version_major": 2,
       "version_minor": 0
      },
      "text/plain": [
       "FloatProgress(value=0.0, bar_style='info', description='Progress:', layout=Layout(height='25px', width='50%'),…"
      ]
     },
     "metadata": {},
     "output_type": "display_data"
    }
   ],
   "source": [
    "# match_str = \"\"\"[Google, Ballistic Research Centre, Institute Of Forensic Sciences, Torrent Pharmaceuticals, Bajaj Alliance, Directorate Of Forensic Sciences, Institute Of Behavioral Sciences, Gujarat Forensic Sciences University, Formula Group, Institute Of Research Development, Congress Mp Shashi Tharoor, Telecom Day, Us Central Intelligence Agency, Cadila Pharmaceuticals, Directorate Of Forensic Science Laboratory]\"\"\"\n",
    "\n",
    "# data_list = [x.strip() for x in match_str.strip().strip(\"[\").strip(\"]\").split(\",\")]\n",
    "# compare_string_matches_lists(prim_firm_list, data_list, match_threshold = 75)"
   ]
  },
  {
   "cell_type": "code",
   "execution_count": 40,
   "id": "edaf50a8-e18f-4a33-a206-b19ea87a3eae",
   "metadata": {
    "execution": {
     "iopub.execute_input": "2023-01-29T19:30:15.294349Z",
     "iopub.status.busy": "2023-01-29T19:30:15.294055Z",
     "iopub.status.idle": "2023-01-29T19:30:36.207207Z",
     "shell.execute_reply": "2023-01-29T19:30:36.206590Z",
     "shell.execute_reply.started": "2023-01-29T19:30:15.294317Z"
    },
    "tags": []
   },
   "outputs": [
    {
     "data": {
      "application/vnd.jupyter.widget-view+json": {
       "model_id": "615da7e3277e4cfca6d706f758c039b8",
       "version_major": 2,
       "version_minor": 0
      },
      "text/plain": [
       "VBox()"
      ]
     },
     "metadata": {},
     "output_type": "display_data"
    },
    {
     "data": {
      "application/vnd.jupyter.widget-view+json": {
       "model_id": "",
       "version_major": 2,
       "version_minor": 0
      },
      "text/plain": [
       "FloatProgress(value=0.0, bar_style='info', description='Progress:', layout=Layout(height='25px', width='50%'),…"
      ]
     },
     "metadata": {},
     "output_type": "display_data"
    },
    {
     "name": "stdout",
     "output_type": "stream",
     "text": [
      "Country: RI | Year: 2015\n",
      "Constructing a dataframe from required file paths\n",
      "Filter Prio Grid ID List: [191201]\n",
      "Total rows: 67\n",
      "Saving the tone in a new column\n",
      "Time to read files: 1.2914097309112549\n",
      "T3 time: 0.03980112075805664\n",
      "T4 time: 0.04251432418823242\n",
      "T5 time: 1.9462265968322754\n",
      "==================================================\n",
      "Country: RI | Year: 2016\n",
      "Constructing a dataframe from required file paths\n",
      "Filter Prio Grid ID List: [191201]\n",
      "Total rows: 63\n",
      "Saving the tone in a new column\n",
      "Time to read files: 1.0856688022613525\n",
      "T3 time: 0.04265451431274414\n",
      "T4 time: 0.03257298469543457\n",
      "T5 time: 1.7622535228729248\n",
      "==================================================\n",
      "Country: RI | Year: 2017\n",
      "Constructing a dataframe from required file paths\n",
      "Filter Prio Grid ID List: [191201]\n",
      "Total rows: 49\n",
      "Saving the tone in a new column\n",
      "Time to read files: 1.0385966300964355\n",
      "T3 time: 0.042794227600097656\n",
      "T4 time: 0.03257632255554199\n",
      "T5 time: 1.205320119857788\n",
      "==================================================\n",
      "Country: RI | Year: 2018\n",
      "Constructing a dataframe from required file paths\n",
      "Filter Prio Grid ID List: [191201]\n",
      "Total rows: 30\n",
      "Saving the tone in a new column\n",
      "Time to read files: 1.107961893081665\n",
      "T3 time: 0.039132118225097656\n",
      "T4 time: 0.03223013877868652\n",
      "T5 time: 1.2837436199188232\n",
      "==================================================\n",
      "Country: RI | Year: 2019\n",
      "Constructing a dataframe from required file paths\n",
      "Filter Prio Grid ID List: [191201]\n",
      "Total rows: 8\n",
      "Saving the tone in a new column\n",
      "Time to read files: 0.8130574226379395\n",
      "T3 time: 0.040979623794555664\n",
      "T4 time: 0.07113027572631836\n",
      "T5 time: 1.0589828491210938\n",
      "==================================================\n",
      "Country: RI | Year: 2020\n",
      "Constructing a dataframe from required file paths\n",
      "Filter Prio Grid ID List: [191201]\n",
      "Total rows: 32\n",
      "Saving the tone in a new column\n",
      "Time to read files: 0.8707258701324463\n",
      "T3 time: 0.053836822509765625\n",
      "T4 time: 0.07789874076843262\n",
      "T5 time: 1.1903021335601807\n",
      "==================================================\n",
      "Country: RI | Year: 2021\n",
      "Constructing a dataframe from required file paths\n",
      "Filter Prio Grid ID List: [191201]\n",
      "Total rows: 33\n",
      "Saving the tone in a new column\n",
      "Time to read files: 0.9691708087921143\n",
      "T3 time: 0.040679216384887695\n",
      "T4 time: 0.07416343688964844\n",
      "T5 time: 1.272526502609253\n",
      "==================================================\n",
      "Country: RI | Year: 2022\n",
      "Constructing a dataframe from required file paths\n",
      "Filter Prio Grid ID List: [191201]\n",
      "Total rows: 8\n",
      "Saving the tone in a new column\n",
      "Time to read files: 0.8369054794311523\n",
      "T3 time: 0.048769474029541016\n",
      "T4 time: 0.03345680236816406\n",
      "T5 time: 1.241152286529541\n",
      "==================================================\n",
      "Total time 19.720067024230957"
     ]
    }
   ],
   "source": [
    "country_prio_map = {'RI': [191201],\n",
    " 'LY': [176789, 176785, 176804, 165261, 173179],\n",
    " 'ML': [149391, 153715, 150114, 153000]}\n",
    "\n",
    "match_threshold = 91\n",
    "req_cols = ['gkgrecordid','date','tone','country', 'year','GRID_IDs', 'organizations']\n",
    "t0 = time.time()\n",
    "for country in country_prio_map.keys():\n",
    "    if country == \"RI\":\n",
    "        pass\n",
    "    else:\n",
    "        continue\n",
    "    for year in [2015,2016,2017,2018,2019,2020,2021,2022]:#,2020,2022]: #range(2015, 2023):\n",
    "        t1 = time.time()\n",
    "        print(f\"Country: {country} | Year: {year}\")\n",
    "        prio_grid_list = country_prio_map[country]\n",
    "        \n",
    "#         file_list = return_yearly_parquet_files(year)\n",
    "#         file_list2 = [file for file in file_list if country in file]\n",
    "#         correct_file_paths = return_correct_file_paths(file_list2)\n",
    "        \n",
    "#         correct_file_paths = random.sample(correct_file_paths, int(len(correct_file_paths)/2))\n",
    "\n",
    "        #--------------------------------------------------------------------------------------\n",
    "        #Injecting manually generated files due to error in original files:\n",
    "        correct_file_paths = [f\"s3://shrivats-dev/Data/#23_PrioGridLabelled/{country}/{year}\"]\n",
    "#         correct_file_paths = ['s3://shrivats-dev/Data/#23_PrioGridLabelled/SF/2016/part-00000-697f4c00-5877-4831-b597-ba556d26223c-c000.snappy.parquet']\n",
    "        #--------------------------------------------------------------------------------------\n",
    "        \n",
    "        df = return_df(correct_file_paths, req_cols, prio_grid_list = prio_grid_list)\n",
    "        \n",
    "        \n",
    "        df = save_tone_in_new_col(df)\n",
    "        df = df.dropna(subset = [\"tone\"])\n",
    "        req_cols_grpby = ['country', 'day', 'month', 'year', 'tone', 'Nato']\n",
    "        t2 = time.time()\n",
    "        \n",
    "        print(\"Time to read files:\", t2-t1)\n",
    "        \n",
    "        df2 = df.withColumn(\"Org_list\", retrieve_organization_list(F.col(\"organizations\")))\n",
    "        # df.unpersist()\n",
    "\n",
    "        df3 = df2.withColumn('Nato', udf_compare_strings_lists(nato_org_list, match_threshold)(F.col(\"Org_list\")).cast(IntegerType()))\\\n",
    "                .select(*req_cols_grpby)\n",
    "        # df2.unpersist()\n",
    "        \n",
    "        df4 = df3.withColumn(\"NatoTone\", F.col(\"Nato\") * F.col(\"tone\"))\n",
    "                 \n",
    "        \n",
    "        t3 = time.time()\n",
    "        print(\"T3 time:\", t3-t2)\n",
    "        # df3.unpersist()\n",
    "        aggregation_cols = ['country','month','year']\n",
    "        df5 = df4.groupby(*aggregation_cols).agg(F.count(F.col(\"tone\")).alias('TotalArticles'),\\\n",
    "                                  F.avg('tone').alias('AverageSentiment'),\\\n",
    "                                  F.sum('Nato').alias('Nato_TotalArticles'),\\\n",
    "                                F.sum('NatoTone').alias('SumNatoTone'))\n",
    "                                  \n",
    "        # df4.unpersist()\n",
    "        df6 = df5.withColumn(\"AverageSentiment_Nato\", F.col(\"SumNatoTone\")/F.col(\"Nato_TotalArticles\"))\\\n",
    "            .drop(\"SumNatoTone\").fillna(0)\n",
    "        # df5.unpersist()\n",
    "        t4 = time.time()\n",
    "        print(\"T4 time:\", t4-t3)\n",
    "#         continue\n",
    "        df6.repartition(1).write.option(\"header\",True) \\\n",
    "           .csv(f\"s3://shrivats-dev/Tasks/#38_NATO_Sentiment/{country}/{year}\")\n",
    "        df6.unpersist()\n",
    "        t5 = time.time()\n",
    "        print(\"T5 time:\", t5-t4)\n",
    "        print(\"=\"*50)\n",
    "        \n",
    "        # break\n",
    "print(\"Total time\", time.time()-t0)\n",
    "        "
   ]
  },
  {
   "cell_type": "code",
   "execution_count": 42,
   "id": "0314198c-0300-4542-8b1c-48308ed9d102",
   "metadata": {
    "execution": {
     "iopub.execute_input": "2023-01-29T19:30:53.848381Z",
     "iopub.status.busy": "2023-01-29T19:30:53.848119Z",
     "iopub.status.idle": "2023-01-29T19:30:55.125636Z",
     "shell.execute_reply": "2023-01-29T19:30:55.125042Z",
     "shell.execute_reply.started": "2023-01-29T19:30:53.848349Z"
    },
    "tags": []
   },
   "outputs": [
    {
     "data": {
      "application/vnd.jupyter.widget-view+json": {
       "model_id": "55363c4fa8f14c00b85ab1eb5a810a34",
       "version_major": 2,
       "version_minor": 0
      },
      "text/plain": [
       "VBox()"
      ]
     },
     "metadata": {},
     "output_type": "display_data"
    },
    {
     "data": {
      "application/vnd.jupyter.widget-view+json": {
       "model_id": "",
       "version_major": 2,
       "version_minor": 0
      },
      "text/plain": [
       "FloatProgress(value=0.0, bar_style='info', description='Progress:', layout=Layout(height='25px', width='50%'),…"
      ]
     },
     "metadata": {},
     "output_type": "display_data"
    },
    {
     "name": "stdout",
     "output_type": "stream",
     "text": [
      "+-------+---+-----+----+-----------------+----+--------+\n",
      "|country|day|month|year|             tone|Nato|NatoTone|\n",
      "+-------+---+-----+----+-----------------+----+--------+\n",
      "|     RI| 10|    3|2022|0.728155339805825|   0|     0.0|\n",
      "|     RI| 16|    4|2022|-1.61920714684534|   0|    -0.0|\n",
      "|     RI| 23|    6|2022|-1.20897521768252|   0|    -0.0|\n",
      "|     RI| 29|    7|2022|-1.76026823134954|   0|    -0.0|\n",
      "|     RI| 21|   11|2022|-4.25531914893617|   0|    -0.0|\n",
      "|     RI| 31|    5|2022|-3.60248447204969|   0|    -0.0|\n",
      "|     RI| 22|   11|2022|-6.58135283363803|   0|    -0.0|\n",
      "|     RI|  2|   12|2022|-6.41592920353982|   0|    -0.0|\n",
      "+-------+---+-----+----+-----------------+----+--------+"
     ]
    }
   ],
   "source": [
    "df4.show(10)"
   ]
  },
  {
   "cell_type": "code",
   "execution_count": 43,
   "id": "d58ba332-7bec-4251-9ff9-a1462bf59850",
   "metadata": {
    "execution": {
     "iopub.execute_input": "2023-01-29T19:30:55.126865Z",
     "iopub.status.busy": "2023-01-29T19:30:55.126672Z",
     "iopub.status.idle": "2023-01-29T19:30:59.748039Z",
     "shell.execute_reply": "2023-01-29T19:30:59.747317Z",
     "shell.execute_reply.started": "2023-01-29T19:30:55.126835Z"
    },
    "tags": []
   },
   "outputs": [
    {
     "data": {
      "application/vnd.jupyter.widget-view+json": {
       "model_id": "1d29450a682f45d59da2924bdefce210",
       "version_major": 2,
       "version_minor": 0
      },
      "text/plain": [
       "VBox()"
      ]
     },
     "metadata": {},
     "output_type": "display_data"
    },
    {
     "data": {
      "application/vnd.jupyter.widget-view+json": {
       "model_id": "",
       "version_major": 2,
       "version_minor": 0
      },
      "text/plain": [
       "FloatProgress(value=0.0, bar_style='info', description='Progress:', layout=Layout(height='25px', width='50%'),…"
      ]
     },
     "metadata": {},
     "output_type": "display_data"
    },
    {
     "name": "stdout",
     "output_type": "stream",
     "text": [
      "DF: 8\n",
      "DF4: 8\n",
      "Perc: 1.0"
     ]
    }
   ],
   "source": [
    "#After filtering on prio_grid:\n",
    "print(\"DF:\", df.count())\n",
    "print(\"DF4:\",df4.count())\n",
    "print(\"Perc:\", df.count()/df4.count())"
   ]
  },
  {
   "cell_type": "code",
   "execution_count": 44,
   "id": "1a549b5c-7efc-4dcb-95df-8ecb35fa6e83",
   "metadata": {
    "execution": {
     "iopub.execute_input": "2023-01-29T19:30:59.749734Z",
     "iopub.status.busy": "2023-01-29T19:30:59.749528Z",
     "iopub.status.idle": "2023-01-29T19:31:01.046197Z",
     "shell.execute_reply": "2023-01-29T19:31:01.045603Z",
     "shell.execute_reply.started": "2023-01-29T19:30:59.749703Z"
    },
    "tags": []
   },
   "outputs": [
    {
     "data": {
      "application/vnd.jupyter.widget-view+json": {
       "model_id": "6aa6b6edcfa54be6a2c41e5850085f1f",
       "version_major": 2,
       "version_minor": 0
      },
      "text/plain": [
       "VBox()"
      ]
     },
     "metadata": {},
     "output_type": "display_data"
    },
    {
     "data": {
      "application/vnd.jupyter.widget-view+json": {
       "model_id": "",
       "version_major": 2,
       "version_minor": 0
      },
      "text/plain": [
       "FloatProgress(value=0.0, bar_style='info', description='Progress:', layout=Layout(height='25px', width='50%'),…"
      ]
     },
     "metadata": {},
     "output_type": "display_data"
    },
    {
     "name": "stdout",
     "output_type": "stream",
     "text": [
      "+-------+-----+----+-------------+------------------+------------------+---------------------+\n",
      "|country|month|year|TotalArticles|  AverageSentiment|Nato_TotalArticles|AverageSentiment_Nato|\n",
      "+-------+-----+----+-------------+------------------+------------------+---------------------+\n",
      "|     RI|    4|2022|            1| -1.61920714684534|                 0|                  0.0|\n",
      "|     RI|    5|2022|            1| -3.60248447204969|                 0|                  0.0|\n",
      "|     RI|    7|2022|            1| -1.76026823134954|                 0|                  0.0|\n",
      "|     RI|    6|2022|            1| -1.20897521768252|                 0|                  0.0|\n",
      "|     RI|   11|2022|            2|-5.418335991287099|                 0|                  0.0|\n",
      "|     RI|   12|2022|            1| -6.41592920353982|                 0|                  0.0|\n",
      "|     RI|    3|2022|            1| 0.728155339805825|                 0|                  0.0|\n",
      "+-------+-----+----+-------------+------------------+------------------+---------------------+"
     ]
    }
   ],
   "source": [
    "df6.show(20)"
   ]
  },
  {
   "cell_type": "code",
   "execution_count": 45,
   "id": "0a98ca1e-0668-48ff-b249-c27a526824aa",
   "metadata": {
    "execution": {
     "iopub.execute_input": "2023-01-29T19:31:02.566377Z",
     "iopub.status.busy": "2023-01-29T19:31:02.565601Z",
     "iopub.status.idle": "2023-01-29T19:31:05.125008Z",
     "shell.execute_reply": "2023-01-29T19:31:05.124353Z",
     "shell.execute_reply.started": "2023-01-29T19:31:02.566331Z"
    },
    "tags": []
   },
   "outputs": [
    {
     "data": {
      "application/vnd.jupyter.widget-view+json": {
       "model_id": "2b2d5978f7e641a883e3e09e6f31291a",
       "version_major": 2,
       "version_minor": 0
      },
      "text/plain": [
       "VBox()"
      ]
     },
     "metadata": {},
     "output_type": "display_data"
    },
    {
     "data": {
      "application/vnd.jupyter.widget-view+json": {
       "model_id": "",
       "version_major": 2,
       "version_minor": 0
      },
      "text/plain": [
       "FloatProgress(value=0.0, bar_style='info', description='Progress:', layout=Layout(height='25px', width='50%'),…"
      ]
     },
     "metadata": {},
     "output_type": "display_data"
    },
    {
     "name": "stdout",
     "output_type": "stream",
     "text": [
      "+-------+---+-----+----+----+----+--------+\n",
      "|country|day|month|year|tone|Nato|NatoTone|\n",
      "+-------+---+-----+----+----+----+--------+\n",
      "|      0|  0|    0|   0|   0|   0|       0|\n",
      "+-------+---+-----+----+----+----+--------+"
     ]
    }
   ],
   "source": [
    "\n",
    "# Find Count of Null, None, NaN of All DataFrame Columns\n",
    "from pyspark.sql.functions import col,isnan, when, count\n",
    "df4.select([count(when(isnan(c) | col(c).isNull(), c)).alias(c) for c in df4.columns if 'date' not in c]\n",
    "   ).show()\n"
   ]
  },
  {
   "cell_type": "code",
   "execution_count": 46,
   "id": "3f7b2089-5883-4f61-bd9f-0d52e5d675fd",
   "metadata": {
    "execution": {
     "iopub.execute_input": "2023-01-29T19:31:05.126296Z",
     "iopub.status.busy": "2023-01-29T19:31:05.126097Z",
     "iopub.status.idle": "2023-01-29T19:31:05.182658Z",
     "shell.execute_reply": "2023-01-29T19:31:05.181978Z",
     "shell.execute_reply.started": "2023-01-29T19:31:05.126267Z"
    },
    "tags": []
   },
   "outputs": [
    {
     "data": {
      "application/vnd.jupyter.widget-view+json": {
       "model_id": "0241cab13255482e86317fb2c1776c7c",
       "version_major": 2,
       "version_minor": 0
      },
      "text/plain": [
       "VBox()"
      ]
     },
     "metadata": {},
     "output_type": "display_data"
    },
    {
     "data": {
      "application/vnd.jupyter.widget-view+json": {
       "model_id": "",
       "version_major": 2,
       "version_minor": 0
      },
      "text/plain": [
       "FloatProgress(value=0.0, bar_style='info', description='Progress:', layout=Layout(height='25px', width='50%'),…"
      ]
     },
     "metadata": {},
     "output_type": "display_data"
    }
   ],
   "source": [
    "cols = ['Nato']\n",
    "agg_cols = {col:'sum' for col in cols}"
   ]
  },
  {
   "cell_type": "code",
   "execution_count": 47,
   "id": "a2276b35-a3f8-44be-b61c-54233805029a",
   "metadata": {
    "execution": {
     "iopub.execute_input": "2023-01-29T19:31:06.640230Z",
     "iopub.status.busy": "2023-01-29T19:31:06.640005Z",
     "iopub.status.idle": "2023-01-29T19:31:08.133640Z",
     "shell.execute_reply": "2023-01-29T19:31:08.133039Z",
     "shell.execute_reply.started": "2023-01-29T19:31:06.640200Z"
    },
    "tags": []
   },
   "outputs": [
    {
     "data": {
      "application/vnd.jupyter.widget-view+json": {
       "model_id": "b99177adfa1448cf823343c6fd1e7350",
       "version_major": 2,
       "version_minor": 0
      },
      "text/plain": [
       "VBox()"
      ]
     },
     "metadata": {},
     "output_type": "display_data"
    },
    {
     "data": {
      "application/vnd.jupyter.widget-view+json": {
       "model_id": "",
       "version_major": 2,
       "version_minor": 0
      },
      "text/plain": [
       "FloatProgress(value=0.0, bar_style='info', description='Progress:', layout=Layout(height='25px', width='50%'),…"
      ]
     },
     "metadata": {},
     "output_type": "display_data"
    },
    {
     "name": "stdout",
     "output_type": "stream",
     "text": [
      "+-------+---+-----+----+-----------------+----+\n",
      "|country|day|month|year|             tone|Nato|\n",
      "+-------+---+-----+----+-----------------+----+\n",
      "|     RI| 10|    3|2022|0.728155339805825|   0|\n",
      "|     RI| 16|    4|2022|-1.61920714684534|   0|\n",
      "|     RI| 23|    6|2022|-1.20897521768252|   0|\n",
      "|     RI| 29|    7|2022|-1.76026823134954|   0|\n",
      "|     RI| 21|   11|2022|-4.25531914893617|   0|\n",
      "|     RI| 31|    5|2022|-3.60248447204969|   0|\n",
      "|     RI| 22|   11|2022|-6.58135283363803|   0|\n",
      "|     RI|  2|   12|2022|-6.41592920353982|   0|\n",
      "+-------+---+-----+----+-----------------+----+"
     ]
    }
   ],
   "source": [
    "df3.show()"
   ]
  },
  {
   "cell_type": "code",
   "execution_count": 48,
   "id": "9c2a2e19-ab78-4ffd-bbe1-f1d9ecf5bca4",
   "metadata": {
    "execution": {
     "iopub.execute_input": "2023-01-29T19:31:08.371944Z",
     "iopub.status.busy": "2023-01-29T19:31:08.371701Z",
     "iopub.status.idle": "2023-01-29T19:31:10.298990Z",
     "shell.execute_reply": "2023-01-29T19:31:10.298298Z",
     "shell.execute_reply.started": "2023-01-29T19:31:08.371914Z"
    },
    "tags": []
   },
   "outputs": [
    {
     "data": {
      "application/vnd.jupyter.widget-view+json": {
       "model_id": "9e64f6e29ad24e61b4a1fa7b2da9532e",
       "version_major": 2,
       "version_minor": 0
      },
      "text/plain": [
       "VBox()"
      ]
     },
     "metadata": {},
     "output_type": "display_data"
    },
    {
     "data": {
      "application/vnd.jupyter.widget-view+json": {
       "model_id": "",
       "version_major": 2,
       "version_minor": 0
      },
      "text/plain": [
       "FloatProgress(value=0.0, bar_style='info', description='Progress:', layout=Layout(height='25px', width='50%'),…"
      ]
     },
     "metadata": {},
     "output_type": "display_data"
    },
    {
     "name": "stdout",
     "output_type": "stream",
     "text": [
      "+---------+\n",
      "|sum(Nato)|\n",
      "+---------+\n",
      "|        0|\n",
      "+---------+"
     ]
    }
   ],
   "source": [
    "df3.agg(agg_cols).show()"
   ]
  },
  {
   "cell_type": "markdown",
   "id": "a6321eec-38ad-451d-a971-ccf1cacc59a0",
   "metadata": {
    "execution": {
     "iopub.execute_input": "2022-11-13T23:51:29.605408Z",
     "iopub.status.busy": "2022-11-13T23:51:29.605138Z",
     "iopub.status.idle": "2022-11-13T23:51:29.661693Z",
     "shell.execute_reply": "2022-11-13T23:51:29.661103Z",
     "shell.execute_reply.started": "2022-11-13T23:51:29.605378Z"
    }
   },
   "source": [
    "## Joining Files"
   ]
  },
  {
   "cell_type": "markdown",
   "id": "d2da097e-4159-494b-afb4-72fe861f4f5f",
   "metadata": {},
   "source": [
    "### Country Level"
   ]
  },
  {
   "cell_type": "code",
   "execution_count": 51,
   "id": "34dad5ef-f274-4c72-b801-b1939a33a16e",
   "metadata": {
    "execution": {
     "iopub.execute_input": "2023-01-29T19:33:14.979314Z",
     "iopub.status.busy": "2023-01-29T19:33:14.979028Z",
     "iopub.status.idle": "2023-01-29T19:33:15.037431Z",
     "shell.execute_reply": "2023-01-29T19:33:15.036834Z",
     "shell.execute_reply.started": "2023-01-29T19:33:14.979283Z"
    }
   },
   "outputs": [
    {
     "data": {
      "application/vnd.jupyter.widget-view+json": {
       "model_id": "0264f33fd1d94b91bf9dc8b2c4be6abe",
       "version_major": 2,
       "version_minor": 0
      },
      "text/plain": [
       "VBox()"
      ]
     },
     "metadata": {},
     "output_type": "display_data"
    },
    {
     "data": {
      "application/vnd.jupyter.widget-view+json": {
       "model_id": "",
       "version_major": 2,
       "version_minor": 0
      },
      "text/plain": [
       "FloatProgress(value=0.0, bar_style='info', description='Progress:', layout=Layout(height='25px', width='50%'),…"
      ]
     },
     "metadata": {},
     "output_type": "display_data"
    }
   ],
   "source": [
    "folder = \"#38_NATO_Sentiment\""
   ]
  },
  {
   "cell_type": "code",
   "execution_count": 50,
   "id": "64ec0be5-e1a3-4d01-959e-526780610e2e",
   "metadata": {
    "execution": {
     "iopub.execute_input": "2023-01-29T19:31:39.992094Z",
     "iopub.status.busy": "2023-01-29T19:31:39.991833Z",
     "iopub.status.idle": "2023-01-29T19:31:43.882700Z",
     "shell.execute_reply": "2023-01-29T19:31:43.882004Z",
     "shell.execute_reply.started": "2023-01-29T19:31:39.992063Z"
    },
    "tags": []
   },
   "outputs": [
    {
     "data": {
      "application/vnd.jupyter.widget-view+json": {
       "model_id": "0d71db41e526413083b414c0bf96d66f",
       "version_major": 2,
       "version_minor": 0
      },
      "text/plain": [
       "VBox()"
      ]
     },
     "metadata": {},
     "output_type": "display_data"
    },
    {
     "data": {
      "application/vnd.jupyter.widget-view+json": {
       "model_id": "",
       "version_major": 2,
       "version_minor": 0
      },
      "text/plain": [
       "FloatProgress(value=0.0, bar_style='info', description='Progress:', layout=Layout(height='25px', width='50%'),…"
      ]
     },
     "metadata": {},
     "output_type": "display_data"
    }
   ],
   "source": [
    "# countries = [\"MZ\", \"MI\", \"SG\",\"GA\",\"SF\",\"CM\"]\n",
    "countries = [\"ML\", \"LY\",\"RI\"]\n",
    "for country in countries:\n",
    "    df_combined = spark.read.option(\"header\",True) \\\n",
    "               .csv(f\"s3://shrivats-dev/Tasks/{folder}/{country}/*/*.csv\")\n",
    "    df_combined.repartition(1).write.option(\"header\",True) \\\n",
    "               .csv(f\"s3://shrivats-dev/Tasks/{folder}/{country}/AllYears\")    "
   ]
  },
  {
   "cell_type": "markdown",
   "id": "dd409fe1-6a31-4792-8f65-1b3185713a32",
   "metadata": {},
   "source": [
    "### All"
   ]
  },
  {
   "cell_type": "code",
   "execution_count": 55,
   "id": "f15ef3bf-e039-44a3-9ea8-640f97223d4e",
   "metadata": {
    "execution": {
     "iopub.execute_input": "2023-01-29T19:34:45.537010Z",
     "iopub.status.busy": "2023-01-29T19:34:45.536704Z",
     "iopub.status.idle": "2023-01-29T19:34:45.595813Z",
     "shell.execute_reply": "2023-01-29T19:34:45.595133Z",
     "shell.execute_reply.started": "2023-01-29T19:34:45.536952Z"
    }
   },
   "outputs": [
    {
     "data": {
      "application/vnd.jupyter.widget-view+json": {
       "model_id": "fcf151bfd79a4467889b81d3dd24e946",
       "version_major": 2,
       "version_minor": 0
      },
      "text/plain": [
       "VBox()"
      ]
     },
     "metadata": {},
     "output_type": "display_data"
    },
    {
     "data": {
      "application/vnd.jupyter.widget-view+json": {
       "model_id": "",
       "version_major": 2,
       "version_minor": 0
      },
      "text/plain": [
       "FloatProgress(value=0.0, bar_style='info', description='Progress:', layout=Layout(height='25px', width='50%'),…"
      ]
     },
     "metadata": {},
     "output_type": "display_data"
    },
    {
     "name": "stdout",
     "output_type": "stream",
     "text": [
      "'ML_LY_RI'"
     ]
    }
   ],
   "source": [
    "country_string = \"_\".join(countries)\n",
    "country_string"
   ]
  },
  {
   "cell_type": "code",
   "execution_count": 56,
   "id": "5e28e08a-1406-409d-83ce-cf3bd1f9be4b",
   "metadata": {
    "execution": {
     "iopub.execute_input": "2023-01-29T19:34:52.950940Z",
     "iopub.status.busy": "2023-01-29T19:34:52.950699Z",
     "iopub.status.idle": "2023-01-29T19:35:04.262569Z",
     "shell.execute_reply": "2023-01-29T19:35:04.261982Z",
     "shell.execute_reply.started": "2023-01-29T19:34:52.950908Z"
    },
    "tags": []
   },
   "outputs": [
    {
     "data": {
      "application/vnd.jupyter.widget-view+json": {
       "model_id": "317951bf3c0548239f8e6b518dee44fa",
       "version_major": 2,
       "version_minor": 0
      },
      "text/plain": [
       "VBox()"
      ]
     },
     "metadata": {},
     "output_type": "display_data"
    },
    {
     "data": {
      "application/vnd.jupyter.widget-view+json": {
       "model_id": "",
       "version_major": 2,
       "version_minor": 0
      },
      "text/plain": [
       "FloatProgress(value=0.0, bar_style='info', description='Progress:', layout=Layout(height='25px', width='50%'),…"
      ]
     },
     "metadata": {},
     "output_type": "display_data"
    }
   ],
   "source": [
    "df_combined_all_countries = spark.read.option(\"header\",True) \\\n",
    "               .csv(f\"s3://shrivats-dev/Tasks/{folder}/*/2*/*.csv\")\n",
    "df_combined_all_countries = df_combined_all_countries.withColumn(\"month\", F.col(\"month\").cast(IntegerType()))\n",
    "df_combined_all_countries_sorted = df_combined_all_countries.sort(\"country\",\"year\",\"month\")\n",
    "df_combined_all_countries_sorted.repartition(1).write.option(\"header\",True) \\\n",
    "               .csv(f\"s3://shrivats-dev/Tasks/{folder}/{country_string}\")  "
   ]
  },
  {
   "cell_type": "code",
   "execution_count": null,
   "id": "ab3e583e-2833-40c7-bf6e-57abd9a38429",
   "metadata": {},
   "outputs": [],
   "source": []
  }
 ],
 "metadata": {
  "kernelspec": {
   "display_name": "Python 3",
   "language": "python",
   "name": "python3"
  },
  "language_info": {
   "codemirror_mode": {
    "name": "python",
    "version": 3
   },
   "file_extension": ".py",
   "mimetype": "text/x-python",
   "name": "python",
   "pygments_lexer": "python3",
   "version": "3.-1.-1"
  },
  "vscode": {
   "interpreter": {
    "hash": "31f2aee4e71d21fbe5cf8b01ff0e069b9275f58929596ceb00d14d90e3e16cd6"
   }
  }
 },
 "nbformat": 4,
 "nbformat_minor": 5
}
